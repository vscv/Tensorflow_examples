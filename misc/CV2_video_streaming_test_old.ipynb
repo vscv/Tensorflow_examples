{
 "cells": [
  {
   "cell_type": "markdown",
   "metadata": {},
   "source": [
    "## some pkg\n",
    "\n",
    "sudo apt-get install libsm6\n",
    "\n",
    "sudo apt-get install libxrender1\n",
    "\n",
    "sudo apt-get install libxext-dev"
   ]
  },
  {
   "cell_type": "code",
   "execution_count": 1,
   "metadata": {},
   "outputs": [
    {
     "name": "stdout",
     "output_type": "stream",
     "text": [
      "Get:1 http://security.ubuntu.com/ubuntu xenial-security InRelease [109 kB]\n",
      "Hit:2 http://archive.ubuntu.com/ubuntu xenial InRelease\u001b[0m\n",
      "Get:3 http://archive.ubuntu.com/ubuntu xenial-updates InRelease [109 kB]       \u001b[0m\u001b[33m\n",
      "Get:4 http://security.ubuntu.com/ubuntu xenial-security/main amd64 Packages [833 kB]m\u001b[33m\n",
      "Hit:5 http://archive.ubuntu.com/ubuntu xenial-backports InRelease              \u001b[0m\u001b[33m\n",
      "Get:6 http://archive.ubuntu.com/ubuntu xenial-updates/main amd64 Packages [1237 kB]\n",
      "Get:7 http://security.ubuntu.com/ubuntu xenial-security/universe amd64 Packages [554 kB]\n",
      "Get:8 http://archive.ubuntu.com/ubuntu xenial-updates/universe amd64 Packages [966 kB]\n",
      "Fetched 3808 kB in 3s (955 kB/s)  \u001b[0m                  \u001b[0m\u001b[33m\u001b[33m\u001b[33m\n",
      "Reading package lists... Done\n",
      "E: Unable to change to /home/uu/gpfs_IO_test/ - chdir (13: Permission denied)\n"
     ]
    }
   ],
   "source": [
    "!sudo apt update"
   ]
  },
  {
   "cell_type": "code",
   "execution_count": 2,
   "metadata": {},
   "outputs": [
    {
     "name": "stdout",
     "output_type": "stream",
     "text": [
      "Reading package lists... Done\n",
      "Building dependency tree       \n",
      "Reading state information... Done\n",
      "libsm6 is already the newest version (2:1.2.2-1).\n",
      "libxext-dev is already the newest version (2:1.3.3-1).\n",
      "libxrender1 is already the newest version (1:0.9.9-0ubuntu1).\n",
      "0 upgraded, 0 newly installed, 0 to remove and 69 not upgraded.\n"
     ]
    }
   ],
   "source": [
    "!sudo apt-get install -y libsm6 libxrender1 libxext-dev"
   ]
  },
  {
   "cell_type": "code",
   "execution_count": 3,
   "metadata": {},
   "outputs": [
    {
     "name": "stdout",
     "output_type": "stream",
     "text": [
      "CV2_video_streaming_test.ipynb\tgpfs_io_test.ipynb\r\n"
     ]
    }
   ],
   "source": [
    "!ls"
   ]
  },
  {
   "cell_type": "markdown",
   "metadata": {},
   "source": [
    "# 隱藏原始碼"
   ]
  },
  {
   "cell_type": "code",
   "execution_count": 4,
   "metadata": {
    "scrolled": false
   },
   "outputs": [
    {
     "data": {
      "text/html": [
       "<script>$(\"div.input\").hide()</script>"
      ],
      "text/plain": [
       "<IPython.core.display.HTML object>"
      ]
     },
     "metadata": {},
     "output_type": "display_data"
    },
    {
     "data": {
      "application/vnd.jupyter.widget-view+json": {
       "model_id": "fc556100f8cb46f1abc7a05a8a3da7a1",
       "version_major": 2,
       "version_minor": 0
      },
      "text/plain": [
       "ToggleButton(value=False, description='Show code')"
      ]
     },
     "metadata": {},
     "output_type": "display_data"
    },
    {
     "data": {
      "text/html": [
       "<script>$(\"div.input\").show()</script>"
      ],
      "text/plain": [
       "<IPython.core.display.HTML object>"
      ]
     },
     "metadata": {},
     "output_type": "display_data"
    }
   ],
   "source": [
    "import ipywidgets as widgets\n",
    "from IPython.display import display, HTML\n",
    "javascript_functions = {False: \"hide()\", True: \"show()\"}\n",
    "button_descriptions  = {False: \"Show code\", True: \"Hide code\"}\n",
    "def toggle_code(state):\n",
    "    output_string = \"<script>$(\\\"div.input\\\").{}</script>\"\n",
    "    output_args   = (javascript_functions[state],)\n",
    "    output        = output_string.format(*output_args)\n",
    "    display(HTML(output))\n",
    "def button_action(value):\n",
    "    state = value.new\n",
    "    toggle_code(state)\n",
    "    value.owner.description = button_descriptions[state]\n",
    "state = False\n",
    "toggle_code(state)\n",
    "button = widgets.ToggleButton(state, description = button_descriptions[state])\n",
    "button.observe(button_action, \"value\")\n",
    "display(button)"
   ]
  },
  {
   "cell_type": "markdown",
   "metadata": {},
   "source": [
    "## 隱藏一個cell\n",
    "\n",
    "-- currently not work"
   ]
  },
  {
   "cell_type": "code",
   "execution_count": 5,
   "metadata": {},
   "outputs": [
    {
     "name": "stdout",
     "output_type": "stream",
     "text": [
      "this is not ok for you, right?\n"
     ]
    },
    {
     "ename": "NameError",
     "evalue": "name 'for_next' is not defined",
     "output_type": "error",
     "traceback": [
      "\u001b[0;31m---------------------------------------------------------------------------\u001b[0m",
      "\u001b[0;31mNameError\u001b[0m                                 Traceback (most recent call last)",
      "\u001b[0;32m<ipython-input-5-7216753cdf22>\u001b[0m in \u001b[0;36m<module>\u001b[0;34m\u001b[0m\n\u001b[1;32m     10\u001b[0m \u001b[0;31m# bit of JS to permanently hide code in current cell (only when toggling next cell)\u001b[0m\u001b[0;34m\u001b[0m\u001b[0;34m\u001b[0m\u001b[0m\n\u001b[1;32m     11\u001b[0m \u001b[0mjs_hide_current\u001b[0m \u001b[0;34m=\u001b[0m \u001b[0;34m''\u001b[0m\u001b[0;34m\u001b[0m\u001b[0m\n\u001b[0;32m---> 12\u001b[0;31m \u001b[0;32mif\u001b[0m \u001b[0mfor_next\u001b[0m\u001b[0;34m:\u001b[0m\u001b[0;34m\u001b[0m\u001b[0m\n\u001b[0m\u001b[1;32m     13\u001b[0m     \u001b[0mtarget_cell\u001b[0m \u001b[0;34m=\u001b[0m \u001b[0mnext_cell\u001b[0m\u001b[0;34m\u001b[0m\u001b[0m\n\u001b[1;32m     14\u001b[0m     \u001b[0mtoggle_text\u001b[0m \u001b[0;34m+=\u001b[0m \u001b[0;34m' next cell'\u001b[0m\u001b[0;34m\u001b[0m\u001b[0m\n",
      "\u001b[0;31mNameError\u001b[0m: name 'for_next' is not defined"
     ]
    }
   ],
   "source": [
    "# fake python code\n",
    "\n",
    "a = 'this is not ok for you, right?'\n",
    "print(\"{}\".format(a))\n",
    "\n",
    "this_cell = \"\"\"$('div.cell.code_cell.rendered.selected')\"\"\"\n",
    "next_cell = this_cell + '.next()'\n",
    "toggle_text = '显示/隐藏'  # text shown on toggle link\n",
    "target_cell = this_cell  # target cell to control with toggle\n",
    "# bit of JS to permanently hide code in current cell (only when toggling next cell)\n",
    "js_hide_current = ''\n",
    "if for_next:\n",
    "    target_cell = next_cell\n",
    "    toggle_text += ' next cell'\n",
    "    js_hide_current = this_cell + '.find(\"div.input\").hide();'\n",
    "js_f_name = 'code_toggle_{}'.format(str(random.randint(1, 2**64)))\n",
    "html = \"\"\"\n",
    "    <script>\n",
    "        function {f_name}() {{\n",
    "            {cell_selector}.find('div.input').toggle();\n",
    "        }}\n",
    "\n",
    "        {js_hide_current}\n",
    "    </script>\n",
    "    <a href=\"javascript:{f_name}()\">{toggle_text}</a>\n",
    "\"\"\".format(\n",
    "    f_name=js_f_name,\n",
    "    cell_selector=target_cell,\n",
    "    js_hide_current=js_hide_current,\n",
    "    toggle_text=toggle_text\n",
    ")\n",
    "return HTML(html)"
   ]
  },
  {
   "cell_type": "code",
   "execution_count": null,
   "metadata": {},
   "outputs": [],
   "source": [
    "import cv2\n",
    "import tensorflow as tf\n",
    "import matplotlib.pyplot as plt\n"
   ]
  },
  {
   "cell_type": "code",
   "execution_count": null,
   "metadata": {},
   "outputs": [],
   "source": [
    "# This is needed to display the images.\n",
    "%matplotlib inline"
   ]
  },
  {
   "cell_type": "code",
   "execution_count": null,
   "metadata": {},
   "outputs": [],
   "source": [
    "#url = \"http://117.56.234.218:80/T1-437K+700\"\n",
    "url = 'http://atis.ntpc.gov.tw/ATIS/ShowFrame4CCTV/C000061'\n",
    "cap = cv2.VideoCapture(url)"
   ]
  },
  {
   "cell_type": "code",
   "execution_count": null,
   "metadata": {},
   "outputs": [],
   "source": [
    "ret, frame = cap.read()\n",
    "height, width, channels = frame.shape\n",
    "print(\"stream shape:\", height, width, channels)"
   ]
  },
  {
   "cell_type": "code",
   "execution_count": null,
   "metadata": {},
   "outputs": [],
   "source": [
    "IMAGE_SIZE = (16, 8)\n",
    "plt.figure(figsize=IMAGE_SIZE)\n",
    "plt.title('IMAGE')\n",
    "plt.imshow(frame)"
   ]
  },
  {
   "cell_type": "markdown",
   "metadata": {},
   "source": [
    "### For a long loop\n",
    "\n",
    "/usr/local/lib/python3.5/dist-packages/matplotlib/pyplot.py:514: RuntimeWarning: More than 20 figures have been opened. Figures created through the pyplot interface (`matplotlib.pyplot.figure`) are retained until explicitly closed and may consume too much memory. (To control this warning, see the rcParam `figure.max_open_warning`).\n",
    "  max_open_warning, RuntimeWarning)\n",
    "  "
   ]
  },
  {
   "cell_type": "code",
   "execution_count": null,
   "metadata": {},
   "outputs": [],
   "source": [
    "\n",
    "while True:\n",
    "    ret, frame = cap.read()\n",
    "    # do something\n",
    "    #\n",
    "    \n",
    "    plt.figure(figsize=IMAGE_SIZE)\n",
    "    plt.title('IMAGE')\n",
    "    \n",
    "    plt.imshow(frame)\n",
    "    plt.close()\n",
    "    #cv2.imshow(\"STREAM\", frame) # for Server screen.\n",
    "    \n",
    "    if cv2.waitKey(1)== 27:\n",
    "        cap.release()\n",
    "        cv2.destroyAllWindows()\n",
    "        break"
   ]
  },
  {
   "cell_type": "code",
   "execution_count": null,
   "metadata": {},
   "outputs": [],
   "source": []
  },
  {
   "cell_type": "code",
   "execution_count": null,
   "metadata": {},
   "outputs": [],
   "source": []
  }
 ],
 "metadata": {
  "kernelspec": {
   "display_name": "Python 3",
   "language": "python",
   "name": "python3"
  },
  "language_info": {
   "codemirror_mode": {
    "name": "ipython",
    "version": 3
   },
   "file_extension": ".py",
   "mimetype": "text/x-python",
   "name": "python",
   "nbconvert_exporter": "python",
   "pygments_lexer": "ipython3",
   "version": "3.5.2"
  }
 },
 "nbformat": 4,
 "nbformat_minor": 2
}

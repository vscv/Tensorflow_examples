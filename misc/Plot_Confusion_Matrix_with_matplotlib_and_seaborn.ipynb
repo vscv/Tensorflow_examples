{
 "cells": [
  {
   "cell_type": "markdown",
   "metadata": {},
   "source": [
    "## <font color=blue>Plot_Confusion_Matrix_with_matplotlib_and_seaborn</font>\n"
   ]
  },
  {
   "cell_type": "markdown",
   "metadata": {},
   "source": [
    "* Use simple prediction reulst and ground truth to plot confusion matrix.\n",
    "* "
   ]
  },
  {
   "cell_type": "code",
   "execution_count": 8,
   "metadata": {},
   "outputs": [
    {
     "name": "stdout",
     "output_type": "stream",
     "text": [
      "tf version :  2.2.0\n"
     ]
    }
   ],
   "source": [
    "import tensorflow as tf\n",
    "import matplotlib.pyplot as plt\n",
    "import seaborn as sns\n",
    "import numpy as np\n",
    "\n",
    "print(\"tf version : \", tf.__version__)"
   ]
  },
  {
   "cell_type": "code",
   "execution_count": 91,
   "metadata": {},
   "outputs": [],
   "source": [
    "label_true_all = [0, 0, 0, 0, 0, 0, 1, 1, 1, 1, 1, 1, 2, 2, 2, 2, 2, 3, 3, 3, 3, 3, 4, 4, 4, 4, 4, 5, 5, 5, 5, 5, 5] \n",
    "label_pred_all = [0, 0, 1, 0, 3, 0, 1, 2, 1, 5, 1, 1, 2, 2, 4, 5, 2, 3, 3, 3, 1, 3, 4, 4, 4, 4, 4, 5, 5, 2, 3, 5, 5] "
   ]
  },
  {
   "cell_type": "code",
   "execution_count": 92,
   "metadata": {},
   "outputs": [
    {
     "name": "stdout",
     "output_type": "stream",
     "text": [
      "tf.Tensor(\n",
      "[[4 1 0 1 0 0]\n",
      " [0 4 1 0 0 1]\n",
      " [0 0 3 0 1 1]\n",
      " [0 1 0 4 0 0]\n",
      " [0 0 0 0 5 0]\n",
      " [0 0 1 1 0 4]], shape=(6, 6), dtype=int32)\n",
      "6\n"
     ]
    }
   ],
   "source": [
    "confusion_matrix = tf.math.confusion_matrix(label_true_all, label_pred_all, num_classes=6)\n",
    "print(confusion_matrix)\n",
    "\n",
    "classes = class_names = ['Aa','Bb','Cc','Dd','Ee','Ff']\n",
    "print(len(classes))"
   ]
  },
  {
   "cell_type": "code",
   "execution_count": 93,
   "metadata": {
    "scrolled": true
   },
   "outputs": [
    {
     "name": "stdout",
     "output_type": "stream",
     "text": [
      "[0 1 2 3 4 5]\n"
     ]
    },
    {
     "data": {
      "image/png": "[encoded data removed]",
      "text/plain": [
       "<Figure size 432x288 with 2 Axes>"
      ]
     },
     "metadata": {
      "needs_background": "light"
     },
     "output_type": "display_data"
    }
   ],
   "source": [
    "# Plot confusion matrix with matplotlib\n",
    "\n",
    "def plot_confusion_matrix(confusion_matrix):\n",
    "    # Let label of xticks go to top\n",
    "    fig, ax = plt.subplots()\n",
    "    ax.xaxis.set_ticks_position('top')\n",
    "    ax.xaxis.set_label_position('top')\n",
    "    \n",
    "    plt.imshow(confusion_matrix, interpolation='nearest', cmap=plt.cm.winter)\n",
    "    plt.title('Confusion Matrix', fontsize='x-large')\n",
    "    plt.colorbar()\n",
    "    tick_marks = np.arange(len(classes))\n",
    "    print(tick_marks)\n",
    "    plt.xticks(tick_marks, classes)#, rotation=-45)\n",
    "    plt.yticks(tick_marks, classes)\n",
    "\n",
    "\n",
    "    iters = [[i,j] for i in range(len(classes)) for j in range(len(classes))]\n",
    "    for i, j in iters:\n",
    "        plt.text(j, i, format(confusion_matrix[i, j]))\n",
    "\n",
    "    plt.ylabel('Real label')\n",
    "    plt.xlabel('Prediction')\n",
    "    plt.tight_layout()\n",
    "    plt.show()\n",
    "\n",
    "    \n",
    "plot_confusion_matrix(confusion_matrix)"
   ]
  },
  {
   "cell_type": "code",
   "execution_count": 94,
   "metadata": {},
   "outputs": [
    {
     "data": {
      "text/plain": [
       "array([6, 6, 5, 5, 5, 6])"
      ]
     },
     "execution_count": 94,
     "metadata": {},
     "output_type": "execute_result"
    }
   ],
   "source": [
    "cm = confusion_matrix\n",
    "sum = cm.numpy().sum(axis=1)\n",
    "sum"
   ]
  },
  {
   "cell_type": "code",
   "execution_count": 95,
   "metadata": {},
   "outputs": [
    {
     "data": {
      "text/plain": [
       "array([[6],\n",
       "       [6],\n",
       "       [5],\n",
       "       [5],\n",
       "       [5],\n",
       "       [6]])"
      ]
     },
     "execution_count": 95,
     "metadata": {},
     "output_type": "execute_result"
    }
   ],
   "source": [
    "sum[:, tf.newaxis]"
   ]
  },
  {
   "cell_type": "code",
   "execution_count": 99,
   "metadata": {},
   "outputs": [
    {
     "name": "stdout",
     "output_type": "stream",
     "text": [
      "tf.Tensor(\n",
      "[[ 66.66666667  16.66666667   0.          16.66666667   0.\n",
      "    0.        ]\n",
      " [  0.          66.66666667  16.66666667   0.           0.\n",
      "   16.66666667]\n",
      " [  0.           0.          60.           0.          20.\n",
      "   20.        ]\n",
      " [  0.          20.           0.          80.           0.\n",
      "    0.        ]\n",
      " [  0.           0.           0.           0.         100.\n",
      "    0.        ]\n",
      " [  0.           0.          16.66666667  16.66666667   0.\n",
      "   66.66666667]], shape=(6, 6), dtype=float64)\n"
     ]
    },
    {
     "data": {
      "text/plain": [
       "Text(0.5, 1.0781824871228844, 'Confusion Matrix')"
      ]
     },
     "execution_count": 99,
     "metadata": {},
     "output_type": "execute_result"
    },
    {
     "data": {
      "image/png": "[encoded data removed]",
      "text/plain": [
       "<Figure size 432x288 with 2 Axes>"
      ]
     },
     "metadata": {
      "needs_background": "light"
     },
     "output_type": "display_data"
    }
   ],
   "source": [
    "# Plot confusion matrix with seaborn\n",
    "cm = confusion_matrix\n",
    "cm = cm/cm.numpy().sum(axis=1)[:, tf.newaxis] # add formala to get new matrix value, * 100 for %\n",
    "print(cm)\n",
    "\n",
    "#set inner text scale\n",
    "sns.set(font_scale=1.2)\n",
    "\n",
    "# Let label of xticks go to top\n",
    "fig, ax = plt.subplots()\n",
    "ax.xaxis.set_ticks_position('top')\n",
    "ax.xaxis.set_label_position('top')\n",
    "\n",
    "#set inner text scale, for inner of inner digits\n",
    "sns.set(font_scale=1.4)\n",
    "\n",
    "sns.heatmap(\n",
    "    cm, annot=True,cmap=plt.cm.winter, # fmt='.0f', for %\n",
    "    xticklabels=classes,\n",
    "    yticklabels=classes)\n",
    "plt.xlabel(\"Predicted\")\n",
    "plt.ylabel(\"True\")\n",
    "\n",
    "# Let y-label also matching matplotlib\n",
    "plt.yticks(rotation=0)\n",
    "plt.title('Confusion Matrix', fontsize='x-large')"
   ]
  },
  {
   "cell_type": "code",
   "execution_count": null,
   "metadata": {},
   "outputs": [],
   "source": []
  },
  {
   "cell_type": "code",
   "execution_count": null,
   "metadata": {},
   "outputs": [],
   "source": []
  },
  {
   "cell_type": "code",
   "execution_count": null,
   "metadata": {},
   "outputs": [],
   "source": []
  }
 ],
 "metadata": {
  "kernelspec": {
   "display_name": "Python 3",
   "language": "python",
   "name": "python3"
  },
  "language_info": {
   "codemirror_mode": {
    "name": "ipython",
    "version": 3
   },
   "file_extension": ".py",
   "mimetype": "text/x-python",
   "name": "python",
   "nbconvert_exporter": "python",
   "pygments_lexer": "ipython3",
   "version": "3.6.9"
  }
 },
 "nbformat": 4,
 "nbformat_minor": 4
}

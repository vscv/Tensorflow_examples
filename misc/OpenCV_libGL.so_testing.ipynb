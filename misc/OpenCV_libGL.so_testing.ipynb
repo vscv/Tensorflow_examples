{
 "cells": [
  {
   "cell_type": "markdown",
   "id": "67972071",
   "metadata": {},
   "source": [
    "### ImportError: libGL.so.1: cannot open shared object file: No such file or directory\n",
    "\n",
    "\n",
    "For libGL.so,\n",
    "sudo apt update -qq;\n",
    "sudo apt install -y libgl1-mesa-glx ;\n",
    "sudo apt install -y libsm6 libxrender1 ;\n"
   ]
  },
  {
   "cell_type": "code",
   "execution_count": 1,
   "id": "6b98e774",
   "metadata": {},
   "outputs": [],
   "source": [
    "import cv2\n"
   ]
  },
  {
   "cell_type": "code",
   "execution_count": 2,
   "id": "27c4fcbe",
   "metadata": {},
   "outputs": [
    {
     "name": "stdout",
     "output_type": "stream",
     "text": [
      "4.4.0\n"
     ]
    }
   ],
   "source": [
    "print(cv2.__version__)"
   ]
  },
  {
   "cell_type": "markdown",
   "id": "7a2113f1",
   "metadata": {},
   "source": [
    "### Streamlit Test\n",
    "\n",
    "Port and app\n"
   ]
  },
  {
   "cell_type": "code",
   "execution_count": null,
   "id": "b0dde9f4",
   "metadata": {},
   "outputs": [],
   "source": []
  }
 ],
 "metadata": {
  "kernelspec": {
   "display_name": "Python 3 (ipykernel)",
   "language": "python",
   "name": "python3"
  },
  "language_info": {
   "codemirror_mode": {
    "name": "ipython",
    "version": 3
   },
   "file_extension": ".py",
   "mimetype": "text/x-python",
   "name": "python",
   "nbconvert_exporter": "python",
   "pygments_lexer": "ipython3",
   "version": "3.8.10"
  }
 },
 "nbformat": 4,
 "nbformat_minor": 5
}

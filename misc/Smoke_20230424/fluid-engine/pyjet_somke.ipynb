{
 "cells": [
  {
   "cell_type": "markdown",
   "id": "def95e5a",
   "metadata": {},
   "source": [
    "#### Tutorial 3 - Using Python API\n",
    "\n",
    "* https://fluidenginedevelopment.org/documentation/python.html"
   ]
  },
  {
   "cell_type": "code",
   "execution_count": null,
   "id": "187ea368",
   "metadata": {},
   "outputs": [],
   "source": []
  },
  {
   "cell_type": "code",
   "execution_count": null,
   "id": "333a542e",
   "metadata": {},
   "outputs": [],
   "source": [
    "import pyjet"
   ]
  },
  {
   "cell_type": "code",
   "execution_count": 1,
   "id": "c811b0a0",
   "metadata": {},
   "outputs": [
    {
     "ename": "IndentationError",
     "evalue": "expected an indented block (3181311300.py, line 10)",
     "output_type": "error",
     "traceback": [
      "\u001b[0;36m  Cell \u001b[0;32mIn[1], line 10\u001b[0;36m\u001b[0m\n\u001b[0;31m    if __name__ == '__main__':\u001b[0m\n\u001b[0m    ^\u001b[0m\n\u001b[0;31mIndentationError\u001b[0m\u001b[0;31m:\u001b[0m expected an indented block\n"
     ]
    }
   ],
   "source": [
    "from pyjet import *\n",
    "import sys\n",
    "import numpy as np\n",
    "import matplotlib.pyplot as plt\n",
    "import matplotlib.animation as animation\n",
    "\n",
    "def main():\n",
    "    # More codes here\n",
    "\n",
    "if __name__ == '__main__':\n",
    "    Logging.mute()\n",
    "    main()"
   ]
  },
  {
   "cell_type": "code",
   "execution_count": 9,
   "id": "cc3a4abf",
   "metadata": {},
   "outputs": [
    {
     "data": {
      "image/png": "[encoded data removed]",
      "text/plain": [
       "<Figure size 640x480 with 1 Axes>"
      ]
     },
     "metadata": {},
     "output_type": "display_data"
    }
   ],
   "source": [
    "from pyjet import *\n",
    "import sys\n",
    "import numpy as np\n",
    "import matplotlib.pyplot as plt\n",
    "import matplotlib.animation as animation\n",
    "\n",
    "ANIM_NUM_FRAMES = 360\n",
    "ANIM_FPS = 60\n",
    "\n",
    "\n",
    "def main():\n",
    "    # Create smoke solver\n",
    "    resX = 100\n",
    "    solver = GridSmokeSolver2(resolution=(resX, 2 * resX), domainSizeX=1.0)\n",
    "\n",
    "    # Customize pressure solver for real-time sim (less accurate, but much faster)\n",
    "    pressureSolver = GridFractionalSinglePhasePressureSolver2()\n",
    "    pressureSolver.linearSystemSolver = FdmGaussSeidelSolver2(20, 20, 0.001)\n",
    "    solver.pressureSolver = pressureSolver\n",
    "\n",
    "    # Setup emitter\n",
    "    sphere = Sphere2(center=(0.5, 0.5), radius=0.15)\n",
    "    emitter = VolumeGridEmitter2(sourceRegion=sphere)\n",
    "    solver.emitter = emitter\n",
    "    emitter.addStepFunctionTarget(solver.smokeDensity, 0.0, 1.0)\n",
    "    emitter.addStepFunctionTarget(solver.temperature, 0.0, 1.0)\n",
    "\n",
    "    # Visualization\n",
    "    fig = plt.figure()\n",
    "    den = np.array(solver.smokeDensity.dataAccessor(), copy=False)\n",
    "    im = plt.imshow(den, vmin=0, vmax=1, cmap=plt.cm.gray,\n",
    "                    interpolation='bicubic', animated=True, origin='lower')\n",
    "\n",
    "    # Animation\n",
    "    frame = Frame(0, 1.0 / ANIM_FPS)\n",
    "    def updatefig(*args):\n",
    "        solver.update(frame)\n",
    "        frame.advance()\n",
    "        den = np.array(solver.smokeDensity.dataAccessor(), copy=False)\n",
    "        im.set_data(den)\n",
    "        return im,\n",
    "\n",
    "    if len(sys.argv) > 1:\n",
    "        format = sys.argv[1]\n",
    "        if format == 'gif':\n",
    "            anim = animation.FuncAnimation(fig, updatefig,\n",
    "                                           frames=ANIM_NUM_FRAMES,\n",
    "                                           interval=ANIM_FPS, blit=True)\n",
    "            anim.save('smoke_example01.gif', fps=ANIM_FPS, dpi=72,\n",
    "                      writer='imagemagick')\n",
    "            print(f'Q')\n",
    "        elif format == 'mp4':\n",
    "            anim = animation.FuncAnimation(fig, updatefig,\n",
    "                                           frames=ANIM_NUM_FRAMES,\n",
    "                                           interval=ANIM_FPS, blit=True)\n",
    "            anim.save('smoke_example01.mp4', fps=ANIM_FPS, writer='ffmpeg')\n",
    "            print(f'Q')\n",
    "    else:\n",
    "        anim = animation.FuncAnimation(fig, updatefig, frames=ANIM_NUM_FRAMES,\n",
    "                                       interval=1, blit=True)\n",
    "        print(f'Q')\n",
    "        plt.show()\n",
    "\n",
    "\n",
    "if __name__ == '__main__':\n",
    "    Logging.mute()\n",
    "    main()"
   ]
  },
  {
   "cell_type": "code",
   "execution_count": null,
   "id": "ddce6f0f",
   "metadata": {},
   "outputs": [],
   "source": []
  },
  {
   "cell_type": "code",
   "execution_count": null,
   "id": "b0c80dc1",
   "metadata": {},
   "outputs": [],
   "source": []
  },
  {
   "cell_type": "code",
   "execution_count": null,
   "id": "0745973b",
   "metadata": {},
   "outputs": [],
   "source": []
  }
 ],
 "metadata": {
  "kernelspec": {
   "display_name": "Python 3 (ipykernel)",
   "language": "python",
   "name": "python3"
  },
  "language_info": {
   "codemirror_mode": {
    "name": "ipython",
    "version": 3
   },
   "file_extension": ".py",
   "mimetype": "text/x-python",
   "name": "python",
   "nbconvert_exporter": "python",
   "pygments_lexer": "ipython3",
   "version": "3.8.10"
  }
 },
 "nbformat": 4,
 "nbformat_minor": 5
}

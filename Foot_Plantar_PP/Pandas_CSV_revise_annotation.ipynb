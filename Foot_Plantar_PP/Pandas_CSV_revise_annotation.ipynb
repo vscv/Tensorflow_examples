{
 "cells": [
  {
   "cell_type": "markdown",
   "metadata": {},
   "source": [
    "## Revise annotation from bad list\n",
    "\n",
    "* Pre-porcess the CSV list firt, then usd full_good_list_csv to copy all-good image to train_augm/images for flip\n",
    "* todo: move the image copy to end of processing."
   ]
  },
  {
   "cell_type": "code",
   "execution_count": 1,
   "metadata": {},
   "outputs": [],
   "source": [
    "import os\n",
    "import cv2\n",
    "import time\n",
    "import numpy as np\n",
    "import pandas as pd\n",
    "import matplotlib.pyplot as plt\n",
    "\n",
    "import tensorflow as tf\n",
    "\n",
    "import shutil\n",
    "\n",
    "from tqdm import tqdm"
   ]
  },
  {
   "cell_type": "code",
   "execution_count": 2,
   "metadata": {},
   "outputs": [],
   "source": [
    "\"\"\"\n",
    "# Now you can use `progress_apply` instead of `apply`\n",
    "# and `progress_map` instead of `map`\n",
    "\"\"\"\n",
    "tqdm.pandas()"
   ]
  },
  {
   "cell_type": "markdown",
   "metadata": {},
   "source": [
    "### Load 1st. (deafult) annotation of training set"
   ]
  },
  {
   "cell_type": "markdown",
   "metadata": {},
   "source": [
    "* 1000 samples"
   ]
  },
  {
   "cell_type": "code",
   "execution_count": 3,
   "metadata": {},
   "outputs": [
    {
     "data": {
      "text/html": [
       "<div>\n",
       "<style scoped>\n",
       "    .dataframe tbody tr th:only-of-type {\n",
       "        vertical-align: middle;\n",
       "    }\n",
       "\n",
       "    .dataframe tbody tr th {\n",
       "        vertical-align: top;\n",
       "    }\n",
       "\n",
       "    .dataframe thead th {\n",
       "        text-align: right;\n",
       "    }\n",
       "</style>\n",
       "<table border=\"1\" class=\"dataframe\">\n",
       "  <thead>\n",
       "    <tr style=\"text-align: right;\">\n",
       "      <th></th>\n",
       "      <th>images</th>\n",
       "      <th>x1</th>\n",
       "      <th>y1</th>\n",
       "      <th>x2</th>\n",
       "      <th>y2</th>\n",
       "    </tr>\n",
       "  </thead>\n",
       "  <tbody>\n",
       "    <tr>\n",
       "      <th>0</th>\n",
       "      <td>image_0001.png</td>\n",
       "      <td>55</td>\n",
       "      <td>136</td>\n",
       "      <td>75</td>\n",
       "      <td>383</td>\n",
       "    </tr>\n",
       "    <tr>\n",
       "      <th>1</th>\n",
       "      <td>image_0002.png</td>\n",
       "      <td>62</td>\n",
       "      <td>139</td>\n",
       "      <td>42</td>\n",
       "      <td>385</td>\n",
       "    </tr>\n",
       "    <tr>\n",
       "      <th>2</th>\n",
       "      <td>image_0003.png</td>\n",
       "      <td>47</td>\n",
       "      <td>117</td>\n",
       "      <td>76</td>\n",
       "      <td>368</td>\n",
       "    </tr>\n",
       "    <tr>\n",
       "      <th>3</th>\n",
       "      <td>image_0004.png</td>\n",
       "      <td>66</td>\n",
       "      <td>119</td>\n",
       "      <td>37</td>\n",
       "      <td>376</td>\n",
       "    </tr>\n",
       "    <tr>\n",
       "      <th>4</th>\n",
       "      <td>image_0005.png</td>\n",
       "      <td>58</td>\n",
       "      <td>147</td>\n",
       "      <td>85</td>\n",
       "      <td>381</td>\n",
       "    </tr>\n",
       "  </tbody>\n",
       "</table>\n",
       "</div>"
      ],
      "text/plain": [
       "           images  x1   y1  x2   y2\n",
       "0  image_0001.png  55  136  75  383\n",
       "1  image_0002.png  62  139  42  385\n",
       "2  image_0003.png  47  117  76  368\n",
       "3  image_0004.png  66  119  37  376\n",
       "4  image_0005.png  58  147  85  381"
      ]
     },
     "execution_count": 3,
     "metadata": {},
     "output_type": "execute_result"
    }
   ],
   "source": [
    "ann = 'train/annotation.csv'\n",
    "df = pd.read_csv(ann)\n",
    "df.head(5)"
   ]
  },
  {
   "cell_type": "code",
   "execution_count": 4,
   "metadata": {},
   "outputs": [
    {
     "data": {
      "text/html": [
       "<div>\n",
       "<style scoped>\n",
       "    .dataframe tbody tr th:only-of-type {\n",
       "        vertical-align: middle;\n",
       "    }\n",
       "\n",
       "    .dataframe tbody tr th {\n",
       "        vertical-align: top;\n",
       "    }\n",
       "\n",
       "    .dataframe thead th {\n",
       "        text-align: right;\n",
       "    }\n",
       "</style>\n",
       "<table border=\"1\" class=\"dataframe\">\n",
       "  <thead>\n",
       "    <tr style=\"text-align: right;\">\n",
       "      <th></th>\n",
       "      <th>x1</th>\n",
       "      <th>y1</th>\n",
       "      <th>x2</th>\n",
       "      <th>y2</th>\n",
       "    </tr>\n",
       "  </thead>\n",
       "  <tbody>\n",
       "    <tr>\n",
       "      <th>count</th>\n",
       "      <td>1000.000000</td>\n",
       "      <td>1000.000000</td>\n",
       "      <td>1000.00000</td>\n",
       "      <td>1000.000000</td>\n",
       "    </tr>\n",
       "    <tr>\n",
       "      <th>mean</th>\n",
       "      <td>57.679000</td>\n",
       "      <td>133.471000</td>\n",
       "      <td>54.78000</td>\n",
       "      <td>377.934000</td>\n",
       "    </tr>\n",
       "    <tr>\n",
       "      <th>std</th>\n",
       "      <td>8.145693</td>\n",
       "      <td>14.154629</td>\n",
       "      <td>24.19804</td>\n",
       "      <td>7.757049</td>\n",
       "    </tr>\n",
       "    <tr>\n",
       "      <th>min</th>\n",
       "      <td>24.000000</td>\n",
       "      <td>99.000000</td>\n",
       "      <td>10.00000</td>\n",
       "      <td>334.000000</td>\n",
       "    </tr>\n",
       "    <tr>\n",
       "      <th>25%</th>\n",
       "      <td>53.000000</td>\n",
       "      <td>122.750000</td>\n",
       "      <td>31.00000</td>\n",
       "      <td>375.000000</td>\n",
       "    </tr>\n",
       "    <tr>\n",
       "      <th>50%</th>\n",
       "      <td>58.000000</td>\n",
       "      <td>136.000000</td>\n",
       "      <td>53.50000</td>\n",
       "      <td>381.000000</td>\n",
       "    </tr>\n",
       "    <tr>\n",
       "      <th>75%</th>\n",
       "      <td>62.250000</td>\n",
       "      <td>142.000000</td>\n",
       "      <td>78.00000</td>\n",
       "      <td>383.000000</td>\n",
       "    </tr>\n",
       "    <tr>\n",
       "      <th>max</th>\n",
       "      <td>84.000000</td>\n",
       "      <td>182.000000</td>\n",
       "      <td>96.00000</td>\n",
       "      <td>387.000000</td>\n",
       "    </tr>\n",
       "  </tbody>\n",
       "</table>\n",
       "</div>"
      ],
      "text/plain": [
       "                x1           y1          x2           y2\n",
       "count  1000.000000  1000.000000  1000.00000  1000.000000\n",
       "mean     57.679000   133.471000    54.78000   377.934000\n",
       "std       8.145693    14.154629    24.19804     7.757049\n",
       "min      24.000000    99.000000    10.00000   334.000000\n",
       "25%      53.000000   122.750000    31.00000   375.000000\n",
       "50%      58.000000   136.000000    53.50000   381.000000\n",
       "75%      62.250000   142.000000    78.00000   383.000000\n",
       "max      84.000000   182.000000    96.00000   387.000000"
      ]
     },
     "execution_count": 4,
     "metadata": {},
     "output_type": "execute_result"
    }
   ],
   "source": [
    "df.describe()"
   ]
  },
  {
   "cell_type": "code",
   "execution_count": 5,
   "metadata": {},
   "outputs": [
    {
     "name": "stdout",
     "output_type": "stream",
     "text": [
      "<class 'pandas.core.frame.DataFrame'>\n",
      "RangeIndex: 1000 entries, 0 to 999\n",
      "Data columns (total 5 columns):\n",
      "images    1000 non-null object\n",
      "x1        1000 non-null int64\n",
      "y1        1000 non-null int64\n",
      "x2        1000 non-null int64\n",
      "y2        1000 non-null int64\n",
      "dtypes: int64(4), object(1)\n",
      "memory usage: 39.2+ KB\n"
     ]
    }
   ],
   "source": [
    "df.info()"
   ]
  },
  {
   "cell_type": "code",
   "execution_count": 6,
   "metadata": {
    "scrolled": true
   },
   "outputs": [
    {
     "data": {
      "text/plain": [
       "Index(['images', 'x1', 'y1', 'x2', 'y2'], dtype='object')"
      ]
     },
     "execution_count": 6,
     "metadata": {},
     "output_type": "execute_result"
    }
   ],
   "source": [
    "df.columns"
   ]
  },
  {
   "cell_type": "code",
   "execution_count": 7,
   "metadata": {},
   "outputs": [
    {
     "data": {
      "text/plain": [
       "(1000, 5)"
      ]
     },
     "execution_count": 7,
     "metadata": {},
     "output_type": "execute_result"
    }
   ],
   "source": [
    "df.shape"
   ]
  },
  {
   "cell_type": "code",
   "execution_count": 8,
   "metadata": {},
   "outputs": [
    {
     "data": {
      "text/plain": [
       "RangeIndex(start=0, stop=1000, step=1)"
      ]
     },
     "execution_count": 8,
     "metadata": {},
     "output_type": "execute_result"
    }
   ],
   "source": [
    "df.index"
   ]
  },
  {
   "cell_type": "code",
   "execution_count": 9,
   "metadata": {},
   "outputs": [
    {
     "data": {
      "text/html": [
       "<div>\n",
       "<style scoped>\n",
       "    .dataframe tbody tr th:only-of-type {\n",
       "        vertical-align: middle;\n",
       "    }\n",
       "\n",
       "    .dataframe tbody tr th {\n",
       "        vertical-align: top;\n",
       "    }\n",
       "\n",
       "    .dataframe thead th {\n",
       "        text-align: right;\n",
       "    }\n",
       "</style>\n",
       "<table border=\"1\" class=\"dataframe\">\n",
       "  <thead>\n",
       "    <tr style=\"text-align: right;\">\n",
       "      <th></th>\n",
       "      <th>images</th>\n",
       "      <th>x1</th>\n",
       "      <th>y1</th>\n",
       "      <th>x2</th>\n",
       "      <th>y2</th>\n",
       "    </tr>\n",
       "  </thead>\n",
       "  <tbody>\n",
       "    <tr>\n",
       "      <th>0</th>\n",
       "      <td>image_0001.png</td>\n",
       "      <td>55</td>\n",
       "      <td>136</td>\n",
       "      <td>75</td>\n",
       "      <td>383</td>\n",
       "    </tr>\n",
       "    <tr>\n",
       "      <th>1</th>\n",
       "      <td>image_0002.png</td>\n",
       "      <td>62</td>\n",
       "      <td>139</td>\n",
       "      <td>42</td>\n",
       "      <td>385</td>\n",
       "    </tr>\n",
       "  </tbody>\n",
       "</table>\n",
       "</div>"
      ],
      "text/plain": [
       "           images  x1   y1  x2   y2\n",
       "0  image_0001.png  55  136  75  383\n",
       "1  image_0002.png  62  139  42  385"
      ]
     },
     "execution_count": 9,
     "metadata": {},
     "output_type": "execute_result"
    }
   ],
   "source": [
    "df.iloc[0:2,:]"
   ]
  },
  {
   "cell_type": "code",
   "execution_count": 10,
   "metadata": {},
   "outputs": [
    {
     "name": "stdout",
     "output_type": "stream",
     "text": [
      "df list size : 1000, Index: RangeIndex(start=0, stop=1000, step=1)\n",
      "Image: image_0001.png x1:55 y1:136 x1:75 y1:383\n"
     ]
    }
   ],
   "source": [
    "# f'Text {variable} : [] {variable}' == 'Text {} : [] {}'.format(variable, variable)\n",
    "\n",
    "print(f'df list size : {len(df)}, Index: {df.index}')\n",
    "\n",
    "df_index = 0\n",
    "print(f'Image: {df.images[df_index]} x1:{df.x1[df_index]} y1:{df.y1[df_index]} x1:{df.x2[df_index]} y1:{df.y2[df_index]}')"
   ]
  },
  {
   "cell_type": "code",
   "execution_count": 11,
   "metadata": {
    "scrolled": true
   },
   "outputs": [
    {
     "data": {
      "text/html": [
       "<div>\n",
       "<style scoped>\n",
       "    .dataframe tbody tr th:only-of-type {\n",
       "        vertical-align: middle;\n",
       "    }\n",
       "\n",
       "    .dataframe tbody tr th {\n",
       "        vertical-align: top;\n",
       "    }\n",
       "\n",
       "    .dataframe thead th {\n",
       "        text-align: right;\n",
       "    }\n",
       "</style>\n",
       "<table border=\"1\" class=\"dataframe\">\n",
       "  <thead>\n",
       "    <tr style=\"text-align: right;\">\n",
       "      <th></th>\n",
       "      <th>images</th>\n",
       "      <th>x1</th>\n",
       "      <th>y1</th>\n",
       "      <th>x2</th>\n",
       "      <th>y2</th>\n",
       "    </tr>\n",
       "  </thead>\n",
       "  <tbody>\n",
       "    <tr>\n",
       "      <th>183</th>\n",
       "      <td>image_0184.jpg</td>\n",
       "      <td>48</td>\n",
       "      <td>173</td>\n",
       "      <td>31</td>\n",
       "      <td>382</td>\n",
       "    </tr>\n",
       "    <tr>\n",
       "      <th>184</th>\n",
       "      <td>image_0185.jpg</td>\n",
       "      <td>64</td>\n",
       "      <td>175</td>\n",
       "      <td>86</td>\n",
       "      <td>383</td>\n",
       "    </tr>\n",
       "    <tr>\n",
       "      <th>185</th>\n",
       "      <td>image_0186.jpg</td>\n",
       "      <td>55</td>\n",
       "      <td>173</td>\n",
       "      <td>26</td>\n",
       "      <td>381</td>\n",
       "    </tr>\n",
       "    <tr>\n",
       "      <th>574</th>\n",
       "      <td>image_0575.png</td>\n",
       "      <td>55</td>\n",
       "      <td>178</td>\n",
       "      <td>10</td>\n",
       "      <td>379</td>\n",
       "    </tr>\n",
       "    <tr>\n",
       "      <th>662</th>\n",
       "      <td>image_0663.jpg</td>\n",
       "      <td>48</td>\n",
       "      <td>182</td>\n",
       "      <td>53</td>\n",
       "      <td>383</td>\n",
       "    </tr>\n",
       "    <tr>\n",
       "      <th>970</th>\n",
       "      <td>image_0971.png</td>\n",
       "      <td>49</td>\n",
       "      <td>171</td>\n",
       "      <td>26</td>\n",
       "      <td>382</td>\n",
       "    </tr>\n",
       "  </tbody>\n",
       "</table>\n",
       "</div>"
      ],
      "text/plain": [
       "             images  x1   y1  x2   y2\n",
       "183  image_0184.jpg  48  173  31  382\n",
       "184  image_0185.jpg  64  175  86  383\n",
       "185  image_0186.jpg  55  173  26  381\n",
       "574  image_0575.png  55  178  10  379\n",
       "662  image_0663.jpg  48  182  53  383\n",
       "970  image_0971.png  49  171  26  382"
      ]
     },
     "execution_count": 11,
     "metadata": {},
     "output_type": "execute_result"
    }
   ],
   "source": [
    "# check y1 range\n",
    "df[df.y1 > 170]"
   ]
  },
  {
   "cell_type": "code",
   "execution_count": 12,
   "metadata": {},
   "outputs": [],
   "source": [
    "# df"
   ]
  },
  {
   "cell_type": "markdown",
   "metadata": {},
   "source": [
    "### Load 2nd annotation (1/6 424 addon)"
   ]
  },
  {
   "cell_type": "markdown",
   "metadata": {},
   "source": [
    "\n",
    "* train_20210106\n",
    "- 424 images, from image_0001.png to image_0424.jpg\n",
    "* todo\n",
    "* rename image_6001.png to image_6424.jpg in CSV and train_20210106_a6\n",
    "*"
   ]
  },
  {
   "cell_type": "code",
   "execution_count": 13,
   "metadata": {},
   "outputs": [
    {
     "name": "stdout",
     "output_type": "stream",
     "text": [
      "mkdir: cannot create directory ‘train_20210106_a6’: File exists\n"
     ]
    }
   ],
   "source": [
    "!mkdir train_20210106_a6"
   ]
  },
  {
   "cell_type": "code",
   "execution_count": 14,
   "metadata": {},
   "outputs": [
    {
     "name": "stdout",
     "output_type": "stream",
     "text": [
      "425\n"
     ]
    }
   ],
   "source": [
    "!ls -l train_20210106_a6/ |wc -l"
   ]
  },
  {
   "cell_type": "code",
   "execution_count": 15,
   "metadata": {},
   "outputs": [
    {
     "data": {
      "text/plain": [
       "424"
      ]
     },
     "execution_count": 15,
     "metadata": {},
     "output_type": "execute_result"
    }
   ],
   "source": [
    "a6_csv = 'train_20210106/annotation_20210106.csv'\n",
    "a6_df = pd.read_csv(a6_csv)\n",
    "len(a6_df)"
   ]
  },
  {
   "cell_type": "code",
   "execution_count": 16,
   "metadata": {},
   "outputs": [
    {
     "data": {
      "text/html": [
       "<div>\n",
       "<style scoped>\n",
       "    .dataframe tbody tr th:only-of-type {\n",
       "        vertical-align: middle;\n",
       "    }\n",
       "\n",
       "    .dataframe tbody tr th {\n",
       "        vertical-align: top;\n",
       "    }\n",
       "\n",
       "    .dataframe thead th {\n",
       "        text-align: right;\n",
       "    }\n",
       "</style>\n",
       "<table border=\"1\" class=\"dataframe\">\n",
       "  <thead>\n",
       "    <tr style=\"text-align: right;\">\n",
       "      <th></th>\n",
       "      <th>images</th>\n",
       "      <th>x1</th>\n",
       "      <th>y1</th>\n",
       "      <th>x2</th>\n",
       "      <th>y2</th>\n",
       "    </tr>\n",
       "  </thead>\n",
       "  <tbody>\n",
       "    <tr>\n",
       "      <th>0</th>\n",
       "      <td>image_0001.png</td>\n",
       "      <td>56</td>\n",
       "      <td>119</td>\n",
       "      <td>82</td>\n",
       "      <td>383</td>\n",
       "    </tr>\n",
       "    <tr>\n",
       "      <th>1</th>\n",
       "      <td>image_0002.png</td>\n",
       "      <td>57</td>\n",
       "      <td>132</td>\n",
       "      <td>37</td>\n",
       "      <td>378</td>\n",
       "    </tr>\n",
       "    <tr>\n",
       "      <th>2</th>\n",
       "      <td>image_0003.png</td>\n",
       "      <td>61</td>\n",
       "      <td>175</td>\n",
       "      <td>81</td>\n",
       "      <td>384</td>\n",
       "    </tr>\n",
       "    <tr>\n",
       "      <th>3</th>\n",
       "      <td>image_0004.png</td>\n",
       "      <td>53</td>\n",
       "      <td>179</td>\n",
       "      <td>32</td>\n",
       "      <td>381</td>\n",
       "    </tr>\n",
       "    <tr>\n",
       "      <th>4</th>\n",
       "      <td>image_0005.png</td>\n",
       "      <td>50</td>\n",
       "      <td>120</td>\n",
       "      <td>81</td>\n",
       "      <td>383</td>\n",
       "    </tr>\n",
       "  </tbody>\n",
       "</table>\n",
       "</div>"
      ],
      "text/plain": [
       "           images  x1   y1  x2   y2\n",
       "0  image_0001.png  56  119  82  383\n",
       "1  image_0002.png  57  132  37  378\n",
       "2  image_0003.png  61  175  81  384\n",
       "3  image_0004.png  53  179  32  381\n",
       "4  image_0005.png  50  120  81  383"
      ]
     },
     "execution_count": 16,
     "metadata": {},
     "output_type": "execute_result"
    }
   ],
   "source": [
    "a6_df.head(5)"
   ]
  },
  {
   "cell_type": "code",
   "execution_count": 17,
   "metadata": {
    "scrolled": true
   },
   "outputs": [
    {
     "name": "stdout",
     "output_type": "stream",
     "text": [
      "image_0001.png\n",
      "image_0002.png\n",
      "image_0003.png\n",
      "image_0004.png\n",
      "image_0005.png\n",
      "image_0006.png\n",
      "image_0007.png\n",
      "image_0008.png\n",
      "image_0009.png\n",
      "image_0010.png\n"
     ]
    }
   ],
   "source": [
    "for i, im_name in enumerate(a6_df['images']):\n",
    "    if i < 10:\n",
    "        print('{}'.format(im_name))"
   ]
  },
  {
   "cell_type": "code",
   "execution_count": null,
   "metadata": {},
   "outputs": [],
   "source": []
  },
  {
   "cell_type": "markdown",
   "metadata": {},
   "source": [
    "### change element value inline of DataFrame\n",
    "\n",
    "* https://zhuanlan.zhihu.com/p/100064394 Pandas數據處理三板斧——map、apply、applymap詳解\n",
    "* #①使用字典进行映射\n",
    "data[\"gender\"] = data[\"gender\"].map({\"男\":1, \"女\":0})\n",
    "​\n",
    "#②使用函数\n",
    "def gender_map(x):\n",
    "    gender = 1 if x == \"男\" else 0\n",
    "    return gender\n",
    "#注意这里传入的是函数名，不带括号\n",
    "data[\"gender\"] = data[\"gender\"].map(gender_map)\n",
    "*"
   ]
  },
  {
   "cell_type": "markdown",
   "metadata": {},
   "source": [
    "#### Try how to change element by map()"
   ]
  },
  {
   "cell_type": "code",
   "execution_count": 18,
   "metadata": {},
   "outputs": [
    {
     "name": "stdout",
     "output_type": "stream",
     "text": [
      "str_2 : 0021.png\n",
      "str_2 : 0021 . png\n",
      "a6_num: 6021\n",
      "new_a6_name: image_6021.png\n"
     ]
    }
   ],
   "source": [
    "old_name = 'image_0021.png'\n",
    "str_1, str_2 = old_name.split('_',-1);print('str_2 : {}'.format(str_2))\n",
    "str_3, str_4 = str_2.split('.',-1);print('str_2 : {} . {}'.format(str_3,str_4))\n",
    "\n",
    "a6_num = int(str_3) + int(6000)\n",
    "print('a6_num: {}'.format(a6_num))\n",
    "\n",
    "new_a6_name = 'image_' + str(a6_num) + '.' + str_4 \n",
    "print('new_a6_name: {}'.format(new_a6_name))\n"
   ]
  },
  {
   "cell_type": "markdown",
   "metadata": {},
   "source": [
    "### Change image number (add 6k) and copy to 'train_20210106_a6/'\n",
    "#### merge into fun"
   ]
  },
  {
   "cell_type": "code",
   "execution_count": 19,
   "metadata": {},
   "outputs": [],
   "source": [
    "#os.rename(filename, filename[:6]+'/'+filename[6:])\n",
    "# os.rename will move the source file to new file path.\n",
    "# shutil.copyfile(s, d) maybe better"
   ]
  },
  {
   "cell_type": "code",
   "execution_count": 20,
   "metadata": {},
   "outputs": [],
   "source": [
    "def add_6000_map(img_name):\n",
    "    str_1, str_2 = img_name.split('_',-1)#;print('str_2 : {}'.format(str_2))\n",
    "    str_3, str_4 = str_2.split('.',-1)#;print('str_2 : {} . {}'.format(str_3,str_4))\n",
    "\n",
    "    a6_num = int(str_3) + int(6000)\n",
    "    #print('a6_num: {}'.format(a6_num))\n",
    "\n",
    "    new_a6_name = 'image_' + str(a6_num) + '.' + str_4 \n",
    "    print('new_a6_name: {}\\t <--- {}'.format(new_a6_name, img_name))\n",
    "    \n",
    "    \n",
    "    old_60k_path = 'train_20210106/images/' + img_name\n",
    "    new_60k_path = 'train_20210106_a6/' + new_a6_name   \n",
    "    \n",
    "    #NOTE: 'os.rename' will move the old path/file to new_path/file!!!\n",
    "    #os.rename(old_60k_path, new_60k_path)\n",
    "    shutil.copyfile(old_60k_path, new_60k_path)\n",
    "    print('new_a6_name: {}\\t <--- {}'.format(new_a6_name, img_name))\n",
    "    \n",
    "    return new_a6_name"
   ]
  },
  {
   "cell_type": "code",
   "execution_count": 21,
   "metadata": {
    "scrolled": true
   },
   "outputs": [
    {
     "name": "stdout",
     "output_type": "stream",
     "text": [
      "new_a6_name: image_6001.png\t <--- image_0001.png\n",
      "new_a6_name: image_6001.png\t <--- image_0001.png\n",
      "new_a6_name: image_6002.png\t <--- image_0002.png\n",
      "new_a6_name: image_6002.png\t <--- image_0002.png\n",
      "new_a6_name: image_6003.png\t <--- image_0003.png\n",
      "new_a6_name: image_6003.png\t <--- image_0003.png\n",
      "new_a6_name: image_6004.png\t <--- image_0004.png\n",
      "new_a6_name: image_6004.png\t <--- image_0004.png\n",
      "new_a6_name: image_6005.png\t <--- image_0005.png\n",
      "new_a6_name: image_6005.png\t <--- image_0005.png\n",
      "new_a6_name: image_6006.png\t <--- image_0006.png\n",
      "new_a6_name: image_6006.png\t <--- image_0006.png\n",
      "new_a6_name: image_6007.png\t <--- image_0007.png\n",
      "new_a6_name: image_6007.png\t <--- image_0007.png\n",
      "new_a6_name: image_6008.png\t <--- image_0008.png\n",
      "new_a6_name: image_6008.png\t <--- image_0008.png\n",
      "new_a6_name: image_6009.png\t <--- image_0009.png\n",
      "new_a6_name: image_6009.png\t <--- image_0009.png\n",
      "new_a6_name: image_6010.png\t <--- image_0010.png\n",
      "new_a6_name: image_6010.png\t <--- image_0010.png\n",
      "new_a6_name: image_6011.png\t <--- image_0011.png\n",
      "new_a6_name: image_6011.png\t <--- image_0011.png\n",
      "new_a6_name: image_6012.png\t <--- image_0012.png\n",
      "new_a6_name: image_6012.png\t <--- image_0012.png\n",
      "new_a6_name: image_6013.png\t <--- image_0013.png\n",
      "new_a6_name: image_6013.png\t <--- image_0013.png\n",
      "new_a6_name: image_6014.png\t <--- image_0014.png\n",
      "new_a6_name: image_6014.png\t <--- image_0014.png\n",
      "new_a6_name: image_6015.png\t <--- image_0015.png\n",
      "new_a6_name: image_6015.png\t <--- image_0015.png\n",
      "new_a6_name: image_6016.png\t <--- image_0016.png\n",
      "new_a6_name: image_6016.png\t <--- image_0016.png\n",
      "new_a6_name: image_6017.png\t <--- image_0017.png\n",
      "new_a6_name: image_6017.png\t <--- image_0017.png\n",
      "new_a6_name: image_6018.png\t <--- image_0018.png\n",
      "new_a6_name: image_6018.png\t <--- image_0018.png\n",
      "new_a6_name: image_6019.png\t <--- image_0019.png\n",
      "new_a6_name: image_6019.png\t <--- image_0019.png\n",
      "new_a6_name: image_6020.png\t <--- image_0020.png\n",
      "new_a6_name: image_6020.png\t <--- image_0020.png\n",
      "new_a6_name: image_6021.png\t <--- image_0021.png\n",
      "new_a6_name: image_6021.png\t <--- image_0021.png\n",
      "new_a6_name: image_6022.png\t <--- image_0022.png\n",
      "new_a6_name: image_6022.png\t <--- image_0022.png\n",
      "new_a6_name: image_6023.png\t <--- image_0023.png\n",
      "new_a6_name: image_6023.png\t <--- image_0023.png\n",
      "new_a6_name: image_6024.png\t <--- image_0024.png\n",
      "new_a6_name: image_6024.png\t <--- image_0024.png\n",
      "new_a6_name: image_6025.png\t <--- image_0025.png\n",
      "new_a6_name: image_6025.png\t <--- image_0025.png\n",
      "new_a6_name: image_6026.png\t <--- image_0026.png\n",
      "new_a6_name: image_6026.png\t <--- image_0026.png\n",
      "new_a6_name: image_6027.png\t <--- image_0027.png\n",
      "new_a6_name: image_6027.png\t <--- image_0027.png\n",
      "new_a6_name: image_6028.png\t <--- image_0028.png\n",
      "new_a6_name: image_6028.png\t <--- image_0028.png\n",
      "new_a6_name: image_6029.png\t <--- image_0029.png\n",
      "new_a6_name: image_6029.png\t <--- image_0029.png\n",
      "new_a6_name: image_6030.png\t <--- image_0030.png\n",
      "new_a6_name: image_6030.png\t <--- image_0030.png\n",
      "new_a6_name: image_6031.png\t <--- image_0031.png\n",
      "new_a6_name: image_6031.png\t <--- image_0031.png\n",
      "new_a6_name: image_6032.png\t <--- image_0032.png\n",
      "new_a6_name: image_6032.png\t <--- image_0032.png\n",
      "new_a6_name: image_6033.png\t <--- image_0033.png\n",
      "new_a6_name: image_6033.png\t <--- image_0033.png\n",
      "new_a6_name: image_6034.png\t <--- image_0034.png\n",
      "new_a6_name: image_6034.png\t <--- image_0034.png\n",
      "new_a6_name: image_6035.png\t <--- image_0035.png\n",
      "new_a6_name: image_6035.png\t <--- image_0035.png\n",
      "new_a6_name: image_6036.png\t <--- image_0036.png\n",
      "new_a6_name: image_6036.png\t <--- image_0036.png\n",
      "new_a6_name: image_6037.png\t <--- image_0037.png\n",
      "new_a6_name: image_6037.png\t <--- image_0037.png\n",
      "new_a6_name: image_6038.png\t <--- image_0038.png\n",
      "new_a6_name: image_6038.png\t <--- image_0038.png\n",
      "new_a6_name: image_6039.png\t <--- image_0039.png\n",
      "new_a6_name: image_6039.png\t <--- image_0039.png\n",
      "new_a6_name: image_6040.png\t <--- image_0040.png\n",
      "new_a6_name: image_6040.png\t <--- image_0040.png\n",
      "new_a6_name: image_6041.png\t <--- image_0041.png\n",
      "new_a6_name: image_6041.png\t <--- image_0041.png\n",
      "new_a6_name: image_6042.png\t <--- image_0042.png\n",
      "new_a6_name: image_6042.png\t <--- image_0042.png\n",
      "new_a6_name: image_6043.png\t <--- image_0043.png\n",
      "new_a6_name: image_6043.png\t <--- image_0043.png\n",
      "new_a6_name: image_6044.png\t <--- image_0044.png\n",
      "new_a6_name: image_6044.png\t <--- image_0044.png\n",
      "new_a6_name: image_6045.png\t <--- image_0045.png\n",
      "new_a6_name: image_6045.png\t <--- image_0045.png\n",
      "new_a6_name: image_6046.png\t <--- image_0046.png\n",
      "new_a6_name: image_6046.png\t <--- image_0046.png\n",
      "new_a6_name: image_6047.png\t <--- image_0047.png\n",
      "new_a6_name: image_6047.png\t <--- image_0047.png\n",
      "new_a6_name: image_6048.png\t <--- image_0048.png\n",
      "new_a6_name: image_6048.png\t <--- image_0048.png\n",
      "new_a6_name: image_6049.png\t <--- image_0049.png\n",
      "new_a6_name: image_6049.png\t <--- image_0049.png\n",
      "new_a6_name: image_6050.png\t <--- image_0050.png\n",
      "new_a6_name: image_6050.png\t <--- image_0050.png\n",
      "new_a6_name: image_6051.png\t <--- image_0051.png\n",
      "new_a6_name: image_6051.png\t <--- image_0051.png\n",
      "new_a6_name: image_6052.png\t <--- image_0052.png\n",
      "new_a6_name: image_6052.png\t <--- image_0052.png\n",
      "new_a6_name: image_6053.png\t <--- image_0053.png\n",
      "new_a6_name: image_6053.png\t <--- image_0053.png\n",
      "new_a6_name: image_6054.png\t <--- image_0054.png\n",
      "new_a6_name: image_6054.png\t <--- image_0054.png\n",
      "new_a6_name: image_6055.png\t <--- image_0055.png\n",
      "new_a6_name: image_6055.png\t <--- image_0055.png\n",
      "new_a6_name: image_6056.png\t <--- image_0056.png\n",
      "new_a6_name: image_6056.png\t <--- image_0056.png\n",
      "new_a6_name: image_6057.png\t <--- image_0057.png\n",
      "new_a6_name: image_6057.png\t <--- image_0057.png\n",
      "new_a6_name: image_6058.png\t <--- image_0058.png\n",
      "new_a6_name: image_6058.png\t <--- image_0058.png\n",
      "new_a6_name: image_6059.png\t <--- image_0059.png\n",
      "new_a6_name: image_6059.png\t <--- image_0059.png\n",
      "new_a6_name: image_6060.png\t <--- image_0060.png\n",
      "new_a6_name: image_6060.png\t <--- image_0060.png\n",
      "new_a6_name: image_6061.png\t <--- image_0061.png\n",
      "new_a6_name: image_6061.png\t <--- image_0061.png\n",
      "new_a6_name: image_6062.png\t <--- image_0062.png\n",
      "new_a6_name: image_6062.png\t <--- image_0062.png\n",
      "new_a6_name: image_6063.png\t <--- image_0063.png\n",
      "new_a6_name: image_6063.png\t <--- image_0063.png\n",
      "new_a6_name: image_6064.png\t <--- image_0064.png\n",
      "new_a6_name: image_6064.png\t <--- image_0064.png\n",
      "new_a6_name: image_6065.png\t <--- image_0065.png\n",
      "new_a6_name: image_6065.png\t <--- image_0065.png\n",
      "new_a6_name: image_6066.png\t <--- image_0066.png\n",
      "new_a6_name: image_6066.png\t <--- image_0066.png\n",
      "new_a6_name: image_6067.png\t <--- image_0067.png\n",
      "new_a6_name: image_6067.png\t <--- image_0067.png\n",
      "new_a6_name: image_6068.png\t <--- image_0068.png\n",
      "new_a6_name: image_6068.png\t <--- image_0068.png\n",
      "new_a6_name: image_6069.png\t <--- image_0069.png\n",
      "new_a6_name: image_6069.png\t <--- image_0069.png\n",
      "new_a6_name: image_6070.png\t <--- image_0070.png\n",
      "new_a6_name: image_6070.png\t <--- image_0070.png\n",
      "new_a6_name: image_6071.png\t <--- image_0071.png\n",
      "new_a6_name: image_6071.png\t <--- image_0071.png\n",
      "new_a6_name: image_6072.png\t <--- image_0072.png\n",
      "new_a6_name: image_6072.png\t <--- image_0072.png\n",
      "new_a6_name: image_6073.png\t <--- image_0073.png\n",
      "new_a6_name: image_6073.png\t <--- image_0073.png\n",
      "new_a6_name: image_6074.png\t <--- image_0074.png\n",
      "new_a6_name: image_6074.png\t <--- image_0074.png\n",
      "new_a6_name: image_6075.png\t <--- image_0075.png\n",
      "new_a6_name: image_6075.png\t <--- image_0075.png\n",
      "new_a6_name: image_6076.png\t <--- image_0076.png\n",
      "new_a6_name: image_6076.png\t <--- image_0076.png\n",
      "new_a6_name: image_6077.png\t <--- image_0077.png\n",
      "new_a6_name: image_6077.png\t <--- image_0077.png\n",
      "new_a6_name: image_6078.png\t <--- image_0078.png\n",
      "new_a6_name: image_6078.png\t <--- image_0078.png\n",
      "new_a6_name: image_6079.png\t <--- image_0079.png\n",
      "new_a6_name: image_6079.png\t <--- image_0079.png\n",
      "new_a6_name: image_6080.png\t <--- image_0080.png\n",
      "new_a6_name: image_6080.png\t <--- image_0080.png\n",
      "new_a6_name: image_6081.png\t <--- image_0081.png\n",
      "new_a6_name: image_6081.png\t <--- image_0081.png\n",
      "new_a6_name: image_6082.png\t <--- image_0082.png\n",
      "new_a6_name: image_6082.png\t <--- image_0082.png\n",
      "new_a6_name: image_6083.png\t <--- image_0083.png\n",
      "new_a6_name: image_6083.png\t <--- image_0083.png\n",
      "new_a6_name: image_6084.png\t <--- image_0084.png\n",
      "new_a6_name: image_6084.png\t <--- image_0084.png\n",
      "new_a6_name: image_6085.png\t <--- image_0085.png\n",
      "new_a6_name: image_6085.png\t <--- image_0085.png\n",
      "new_a6_name: image_6086.png\t <--- image_0086.png\n",
      "new_a6_name: image_6086.png\t <--- image_0086.png\n",
      "new_a6_name: image_6087.png\t <--- image_0087.png\n",
      "new_a6_name: image_6087.png\t <--- image_0087.png\n",
      "new_a6_name: image_6088.png\t <--- image_0088.png\n",
      "new_a6_name: image_6088.png\t <--- image_0088.png\n",
      "new_a6_name: image_6089.png\t <--- image_0089.png\n",
      "new_a6_name: image_6089.png\t <--- image_0089.png\n",
      "new_a6_name: image_6090.png\t <--- image_0090.png\n",
      "new_a6_name: image_6090.png\t <--- image_0090.png\n",
      "new_a6_name: image_6091.png\t <--- image_0091.png\n",
      "new_a6_name: image_6091.png\t <--- image_0091.png\n",
      "new_a6_name: image_6092.png\t <--- image_0092.png\n",
      "new_a6_name: image_6092.png\t <--- image_0092.png\n",
      "new_a6_name: image_6093.png\t <--- image_0093.png\n",
      "new_a6_name: image_6093.png\t <--- image_0093.png\n",
      "new_a6_name: image_6094.png\t <--- image_0094.png\n",
      "new_a6_name: image_6094.png\t <--- image_0094.png\n",
      "new_a6_name: image_6095.png\t <--- image_0095.png\n",
      "new_a6_name: image_6095.png\t <--- image_0095.png\n",
      "new_a6_name: image_6096.png\t <--- image_0096.png\n",
      "new_a6_name: image_6096.png\t <--- image_0096.png\n",
      "new_a6_name: image_6097.png\t <--- image_0097.png\n",
      "new_a6_name: image_6097.png\t <--- image_0097.png\n",
      "new_a6_name: image_6098.png\t <--- image_0098.png\n",
      "new_a6_name: image_6098.png\t <--- image_0098.png\n",
      "new_a6_name: image_6099.png\t <--- image_0099.png\n",
      "new_a6_name: image_6099.png\t <--- image_0099.png\n",
      "new_a6_name: image_6100.png\t <--- image_0100.png\n",
      "new_a6_name: image_6100.png\t <--- image_0100.png\n",
      "new_a6_name: image_6101.png\t <--- image_0101.png\n",
      "new_a6_name: image_6101.png\t <--- image_0101.png\n",
      "new_a6_name: image_6102.png\t <--- image_0102.png\n",
      "new_a6_name: image_6102.png\t <--- image_0102.png\n",
      "new_a6_name: image_6103.png\t <--- image_0103.png\n",
      "new_a6_name: image_6103.png\t <--- image_0103.png\n",
      "new_a6_name: image_6104.png\t <--- image_0104.png\n",
      "new_a6_name: image_6104.png\t <--- image_0104.png\n",
      "new_a6_name: image_6105.png\t <--- image_0105.png\n",
      "new_a6_name: image_6105.png\t <--- image_0105.png\n",
      "new_a6_name: image_6106.png\t <--- image_0106.png\n",
      "new_a6_name: image_6106.png\t <--- image_0106.png\n",
      "new_a6_name: image_6107.png\t <--- image_0107.png\n",
      "new_a6_name: image_6107.png\t <--- image_0107.png\n",
      "new_a6_name: image_6108.png\t <--- image_0108.png\n",
      "new_a6_name: image_6108.png\t <--- image_0108.png\n",
      "new_a6_name: image_6109.png\t <--- image_0109.png\n",
      "new_a6_name: image_6109.png\t <--- image_0109.png\n",
      "new_a6_name: image_6110.png\t <--- image_0110.png\n",
      "new_a6_name: image_6110.png\t <--- image_0110.png\n",
      "new_a6_name: image_6111.png\t <--- image_0111.png\n",
      "new_a6_name: image_6111.png\t <--- image_0111.png\n",
      "new_a6_name: image_6112.png\t <--- image_0112.png\n",
      "new_a6_name: image_6112.png\t <--- image_0112.png\n",
      "new_a6_name: image_6113.png\t <--- image_0113.png\n",
      "new_a6_name: image_6113.png\t <--- image_0113.png\n",
      "new_a6_name: image_6114.png\t <--- image_0114.png\n",
      "new_a6_name: image_6114.png\t <--- image_0114.png\n",
      "new_a6_name: image_6115.png\t <--- image_0115.png\n",
      "new_a6_name: image_6115.png\t <--- image_0115.png\n",
      "new_a6_name: image_6116.png\t <--- image_0116.png\n",
      "new_a6_name: image_6116.png\t <--- image_0116.png\n",
      "new_a6_name: image_6117.png\t <--- image_0117.png\n",
      "new_a6_name: image_6117.png\t <--- image_0117.png\n",
      "new_a6_name: image_6118.png\t <--- image_0118.png\n",
      "new_a6_name: image_6118.png\t <--- image_0118.png\n",
      "new_a6_name: image_6119.png\t <--- image_0119.png\n",
      "new_a6_name: image_6119.png\t <--- image_0119.png\n",
      "new_a6_name: image_6120.png\t <--- image_0120.png\n",
      "new_a6_name: image_6120.png\t <--- image_0120.png\n",
      "new_a6_name: image_6121.png\t <--- image_0121.png\n",
      "new_a6_name: image_6121.png\t <--- image_0121.png\n",
      "new_a6_name: image_6122.png\t <--- image_0122.png\n",
      "new_a6_name: image_6122.png\t <--- image_0122.png\n",
      "new_a6_name: image_6123.png\t <--- image_0123.png\n",
      "new_a6_name: image_6123.png\t <--- image_0123.png\n",
      "new_a6_name: image_6124.png\t <--- image_0124.png\n",
      "new_a6_name: image_6124.png\t <--- image_0124.png\n",
      "new_a6_name: image_6125.png\t <--- image_0125.png\n",
      "new_a6_name: image_6125.png\t <--- image_0125.png\n",
      "new_a6_name: image_6126.png\t <--- image_0126.png\n",
      "new_a6_name: image_6126.png\t <--- image_0126.png\n",
      "new_a6_name: image_6127.png\t <--- image_0127.png\n",
      "new_a6_name: image_6127.png\t <--- image_0127.png\n",
      "new_a6_name: image_6128.png\t <--- image_0128.png\n",
      "new_a6_name: image_6128.png\t <--- image_0128.png\n",
      "new_a6_name: image_6129.png\t <--- image_0129.png\n",
      "new_a6_name: image_6129.png\t <--- image_0129.png\n",
      "new_a6_name: image_6130.png\t <--- image_0130.png\n",
      "new_a6_name: image_6130.png\t <--- image_0130.png\n",
      "new_a6_name: image_6131.png\t <--- image_0131.png\n",
      "new_a6_name: image_6131.png\t <--- image_0131.png\n",
      "new_a6_name: image_6132.png\t <--- image_0132.png\n",
      "new_a6_name: image_6132.png\t <--- image_0132.png\n",
      "new_a6_name: image_6133.png\t <--- image_0133.png\n",
      "new_a6_name: image_6133.png\t <--- image_0133.png\n",
      "new_a6_name: image_6134.png\t <--- image_0134.png\n",
      "new_a6_name: image_6134.png\t <--- image_0134.png\n",
      "new_a6_name: image_6135.png\t <--- image_0135.png\n",
      "new_a6_name: image_6135.png\t <--- image_0135.png\n",
      "new_a6_name: image_6136.png\t <--- image_0136.png\n",
      "new_a6_name: image_6136.png\t <--- image_0136.png\n",
      "new_a6_name: image_6137.png\t <--- image_0137.png\n",
      "new_a6_name: image_6137.png\t <--- image_0137.png\n",
      "new_a6_name: image_6138.png\t <--- image_0138.png\n",
      "new_a6_name: image_6138.png\t <--- image_0138.png\n",
      "new_a6_name: image_6139.png\t <--- image_0139.png\n",
      "new_a6_name: image_6139.png\t <--- image_0139.png\n",
      "new_a6_name: image_6140.png\t <--- image_0140.png\n",
      "new_a6_name: image_6140.png\t <--- image_0140.png\n",
      "new_a6_name: image_6141.png\t <--- image_0141.png\n",
      "new_a6_name: image_6141.png\t <--- image_0141.png\n",
      "new_a6_name: image_6142.png\t <--- image_0142.png\n",
      "new_a6_name: image_6142.png\t <--- image_0142.png\n",
      "new_a6_name: image_6143.png\t <--- image_0143.png\n",
      "new_a6_name: image_6143.png\t <--- image_0143.png\n",
      "new_a6_name: image_6144.png\t <--- image_0144.png\n",
      "new_a6_name: image_6144.png\t <--- image_0144.png\n",
      "new_a6_name: image_6145.png\t <--- image_0145.png\n",
      "new_a6_name: image_6145.png\t <--- image_0145.png\n",
      "new_a6_name: image_6146.png\t <--- image_0146.png\n",
      "new_a6_name: image_6146.png\t <--- image_0146.png\n",
      "new_a6_name: image_6147.png\t <--- image_0147.png\n",
      "new_a6_name: image_6147.png\t <--- image_0147.png\n",
      "new_a6_name: image_6148.png\t <--- image_0148.png\n",
      "new_a6_name: image_6148.png\t <--- image_0148.png\n",
      "new_a6_name: image_6149.png\t <--- image_0149.png\n",
      "new_a6_name: image_6149.png\t <--- image_0149.png\n",
      "new_a6_name: image_6150.png\t <--- image_0150.png\n",
      "new_a6_name: image_6150.png\t <--- image_0150.png\n",
      "new_a6_name: image_6151.png\t <--- image_0151.png\n",
      "new_a6_name: image_6151.png\t <--- image_0151.png\n",
      "new_a6_name: image_6152.png\t <--- image_0152.png\n",
      "new_a6_name: image_6152.png\t <--- image_0152.png\n",
      "new_a6_name: image_6153.jpg\t <--- image_0153.jpg\n",
      "new_a6_name: image_6153.jpg\t <--- image_0153.jpg\n",
      "new_a6_name: image_6154.jpg\t <--- image_0154.jpg\n",
      "new_a6_name: image_6154.jpg\t <--- image_0154.jpg\n",
      "new_a6_name: image_6155.jpg\t <--- image_0155.jpg\n",
      "new_a6_name: image_6155.jpg\t <--- image_0155.jpg\n",
      "new_a6_name: image_6156.jpg\t <--- image_0156.jpg\n",
      "new_a6_name: image_6156.jpg\t <--- image_0156.jpg\n",
      "new_a6_name: image_6157.jpg\t <--- image_0157.jpg\n",
      "new_a6_name: image_6157.jpg\t <--- image_0157.jpg\n",
      "new_a6_name: image_6158.jpg\t <--- image_0158.jpg\n",
      "new_a6_name: image_6158.jpg\t <--- image_0158.jpg\n",
      "new_a6_name: image_6159.jpg\t <--- image_0159.jpg\n",
      "new_a6_name: image_6159.jpg\t <--- image_0159.jpg\n",
      "new_a6_name: image_6160.jpg\t <--- image_0160.jpg\n",
      "new_a6_name: image_6160.jpg\t <--- image_0160.jpg\n",
      "new_a6_name: image_6161.jpg\t <--- image_0161.jpg\n",
      "new_a6_name: image_6161.jpg\t <--- image_0161.jpg\n",
      "new_a6_name: image_6162.jpg\t <--- image_0162.jpg\n",
      "new_a6_name: image_6162.jpg\t <--- image_0162.jpg\n",
      "new_a6_name: image_6163.jpg\t <--- image_0163.jpg\n",
      "new_a6_name: image_6163.jpg\t <--- image_0163.jpg\n",
      "new_a6_name: image_6164.jpg\t <--- image_0164.jpg\n",
      "new_a6_name: image_6164.jpg\t <--- image_0164.jpg\n",
      "new_a6_name: image_6165.jpg\t <--- image_0165.jpg\n",
      "new_a6_name: image_6165.jpg\t <--- image_0165.jpg\n",
      "new_a6_name: image_6166.jpg\t <--- image_0166.jpg\n",
      "new_a6_name: image_6166.jpg\t <--- image_0166.jpg\n",
      "new_a6_name: image_6167.jpg\t <--- image_0167.jpg\n",
      "new_a6_name: image_6167.jpg\t <--- image_0167.jpg\n",
      "new_a6_name: image_6168.jpg\t <--- image_0168.jpg\n",
      "new_a6_name: image_6168.jpg\t <--- image_0168.jpg\n",
      "new_a6_name: image_6169.jpg\t <--- image_0169.jpg\n",
      "new_a6_name: image_6169.jpg\t <--- image_0169.jpg\n",
      "new_a6_name: image_6170.jpg\t <--- image_0170.jpg\n",
      "new_a6_name: image_6170.jpg\t <--- image_0170.jpg\n",
      "new_a6_name: image_6171.jpg\t <--- image_0171.jpg\n",
      "new_a6_name: image_6171.jpg\t <--- image_0171.jpg\n",
      "new_a6_name: image_6172.jpg\t <--- image_0172.jpg\n",
      "new_a6_name: image_6172.jpg\t <--- image_0172.jpg\n",
      "new_a6_name: image_6173.jpg\t <--- image_0173.jpg\n",
      "new_a6_name: image_6173.jpg\t <--- image_0173.jpg\n",
      "new_a6_name: image_6174.jpg\t <--- image_0174.jpg\n",
      "new_a6_name: image_6174.jpg\t <--- image_0174.jpg\n",
      "new_a6_name: image_6175.jpg\t <--- image_0175.jpg\n",
      "new_a6_name: image_6175.jpg\t <--- image_0175.jpg\n",
      "new_a6_name: image_6176.jpg\t <--- image_0176.jpg\n",
      "new_a6_name: image_6176.jpg\t <--- image_0176.jpg\n",
      "new_a6_name: image_6177.jpg\t <--- image_0177.jpg\n",
      "new_a6_name: image_6177.jpg\t <--- image_0177.jpg\n",
      "new_a6_name: image_6178.jpg\t <--- image_0178.jpg\n",
      "new_a6_name: image_6178.jpg\t <--- image_0178.jpg\n",
      "new_a6_name: image_6179.jpg\t <--- image_0179.jpg\n",
      "new_a6_name: image_6179.jpg\t <--- image_0179.jpg\n",
      "new_a6_name: image_6180.jpg\t <--- image_0180.jpg\n",
      "new_a6_name: image_6180.jpg\t <--- image_0180.jpg\n",
      "new_a6_name: image_6181.jpg\t <--- image_0181.jpg\n",
      "new_a6_name: image_6181.jpg\t <--- image_0181.jpg\n",
      "new_a6_name: image_6182.jpg\t <--- image_0182.jpg\n",
      "new_a6_name: image_6182.jpg\t <--- image_0182.jpg\n",
      "new_a6_name: image_6183.jpg\t <--- image_0183.jpg\n",
      "new_a6_name: image_6183.jpg\t <--- image_0183.jpg\n",
      "new_a6_name: image_6184.jpg\t <--- image_0184.jpg\n",
      "new_a6_name: image_6184.jpg\t <--- image_0184.jpg\n",
      "new_a6_name: image_6185.jpg\t <--- image_0185.jpg\n",
      "new_a6_name: image_6185.jpg\t <--- image_0185.jpg\n",
      "new_a6_name: image_6186.jpg\t <--- image_0186.jpg\n",
      "new_a6_name: image_6186.jpg\t <--- image_0186.jpg\n",
      "new_a6_name: image_6187.jpg\t <--- image_0187.jpg\n",
      "new_a6_name: image_6187.jpg\t <--- image_0187.jpg\n",
      "new_a6_name: image_6188.jpg\t <--- image_0188.jpg\n",
      "new_a6_name: image_6188.jpg\t <--- image_0188.jpg\n",
      "new_a6_name: image_6189.jpg\t <--- image_0189.jpg\n",
      "new_a6_name: image_6189.jpg\t <--- image_0189.jpg\n",
      "new_a6_name: image_6190.jpg\t <--- image_0190.jpg\n",
      "new_a6_name: image_6190.jpg\t <--- image_0190.jpg\n",
      "new_a6_name: image_6191.jpg\t <--- image_0191.jpg\n",
      "new_a6_name: image_6191.jpg\t <--- image_0191.jpg\n",
      "new_a6_name: image_6192.jpg\t <--- image_0192.jpg\n",
      "new_a6_name: image_6192.jpg\t <--- image_0192.jpg\n",
      "new_a6_name: image_6193.jpg\t <--- image_0193.jpg\n",
      "new_a6_name: image_6193.jpg\t <--- image_0193.jpg\n",
      "new_a6_name: image_6194.jpg\t <--- image_0194.jpg\n",
      "new_a6_name: image_6194.jpg\t <--- image_0194.jpg\n",
      "new_a6_name: image_6195.jpg\t <--- image_0195.jpg\n",
      "new_a6_name: image_6195.jpg\t <--- image_0195.jpg\n",
      "new_a6_name: image_6196.jpg\t <--- image_0196.jpg\n",
      "new_a6_name: image_6196.jpg\t <--- image_0196.jpg\n",
      "new_a6_name: image_6197.jpg\t <--- image_0197.jpg\n",
      "new_a6_name: image_6197.jpg\t <--- image_0197.jpg\n",
      "new_a6_name: image_6198.jpg\t <--- image_0198.jpg\n",
      "new_a6_name: image_6198.jpg\t <--- image_0198.jpg\n",
      "new_a6_name: image_6199.jpg\t <--- image_0199.jpg\n",
      "new_a6_name: image_6199.jpg\t <--- image_0199.jpg\n",
      "new_a6_name: image_6200.jpg\t <--- image_0200.jpg\n",
      "new_a6_name: image_6200.jpg\t <--- image_0200.jpg\n",
      "new_a6_name: image_6201.jpg\t <--- image_0201.jpg\n",
      "new_a6_name: image_6201.jpg\t <--- image_0201.jpg\n",
      "new_a6_name: image_6202.jpg\t <--- image_0202.jpg\n",
      "new_a6_name: image_6202.jpg\t <--- image_0202.jpg\n",
      "new_a6_name: image_6203.jpg\t <--- image_0203.jpg\n",
      "new_a6_name: image_6203.jpg\t <--- image_0203.jpg\n",
      "new_a6_name: image_6204.jpg\t <--- image_0204.jpg\n",
      "new_a6_name: image_6204.jpg\t <--- image_0204.jpg\n",
      "new_a6_name: image_6205.jpg\t <--- image_0205.jpg\n",
      "new_a6_name: image_6205.jpg\t <--- image_0205.jpg\n",
      "new_a6_name: image_6206.jpg\t <--- image_0206.jpg\n",
      "new_a6_name: image_6206.jpg\t <--- image_0206.jpg\n",
      "new_a6_name: image_6207.jpg\t <--- image_0207.jpg\n",
      "new_a6_name: image_6207.jpg\t <--- image_0207.jpg\n",
      "new_a6_name: image_6208.jpg\t <--- image_0208.jpg\n",
      "new_a6_name: image_6208.jpg\t <--- image_0208.jpg\n",
      "new_a6_name: image_6209.jpg\t <--- image_0209.jpg\n",
      "new_a6_name: image_6209.jpg\t <--- image_0209.jpg\n",
      "new_a6_name: image_6210.jpg\t <--- image_0210.jpg\n",
      "new_a6_name: image_6210.jpg\t <--- image_0210.jpg\n",
      "new_a6_name: image_6211.jpg\t <--- image_0211.jpg\n",
      "new_a6_name: image_6211.jpg\t <--- image_0211.jpg\n",
      "new_a6_name: image_6212.jpg\t <--- image_0212.jpg\n",
      "new_a6_name: image_6212.jpg\t <--- image_0212.jpg\n",
      "new_a6_name: image_6213.jpg\t <--- image_0213.jpg\n",
      "new_a6_name: image_6213.jpg\t <--- image_0213.jpg\n",
      "new_a6_name: image_6214.jpg\t <--- image_0214.jpg\n",
      "new_a6_name: image_6214.jpg\t <--- image_0214.jpg\n",
      "new_a6_name: image_6215.jpg\t <--- image_0215.jpg\n",
      "new_a6_name: image_6215.jpg\t <--- image_0215.jpg\n",
      "new_a6_name: image_6216.jpg\t <--- image_0216.jpg\n",
      "new_a6_name: image_6216.jpg\t <--- image_0216.jpg\n",
      "new_a6_name: image_6217.jpg\t <--- image_0217.jpg\n",
      "new_a6_name: image_6217.jpg\t <--- image_0217.jpg\n",
      "new_a6_name: image_6218.jpg\t <--- image_0218.jpg\n",
      "new_a6_name: image_6218.jpg\t <--- image_0218.jpg\n",
      "new_a6_name: image_6219.jpg\t <--- image_0219.jpg\n",
      "new_a6_name: image_6219.jpg\t <--- image_0219.jpg\n",
      "new_a6_name: image_6220.jpg\t <--- image_0220.jpg\n",
      "new_a6_name: image_6220.jpg\t <--- image_0220.jpg\n",
      "new_a6_name: image_6221.jpg\t <--- image_0221.jpg\n",
      "new_a6_name: image_6221.jpg\t <--- image_0221.jpg\n",
      "new_a6_name: image_6222.jpg\t <--- image_0222.jpg\n",
      "new_a6_name: image_6222.jpg\t <--- image_0222.jpg\n",
      "new_a6_name: image_6223.jpg\t <--- image_0223.jpg\n",
      "new_a6_name: image_6223.jpg\t <--- image_0223.jpg\n",
      "new_a6_name: image_6224.jpg\t <--- image_0224.jpg\n",
      "new_a6_name: image_6224.jpg\t <--- image_0224.jpg\n",
      "new_a6_name: image_6225.jpg\t <--- image_0225.jpg\n",
      "new_a6_name: image_6225.jpg\t <--- image_0225.jpg\n",
      "new_a6_name: image_6226.jpg\t <--- image_0226.jpg\n",
      "new_a6_name: image_6226.jpg\t <--- image_0226.jpg\n",
      "new_a6_name: image_6227.jpg\t <--- image_0227.jpg\n",
      "new_a6_name: image_6227.jpg\t <--- image_0227.jpg\n",
      "new_a6_name: image_6228.jpg\t <--- image_0228.jpg\n",
      "new_a6_name: image_6228.jpg\t <--- image_0228.jpg\n",
      "new_a6_name: image_6229.jpg\t <--- image_0229.jpg\n",
      "new_a6_name: image_6229.jpg\t <--- image_0229.jpg\n",
      "new_a6_name: image_6230.jpg\t <--- image_0230.jpg\n",
      "new_a6_name: image_6230.jpg\t <--- image_0230.jpg\n",
      "new_a6_name: image_6231.jpg\t <--- image_0231.jpg\n",
      "new_a6_name: image_6231.jpg\t <--- image_0231.jpg\n",
      "new_a6_name: image_6232.jpg\t <--- image_0232.jpg\n",
      "new_a6_name: image_6232.jpg\t <--- image_0232.jpg\n",
      "new_a6_name: image_6233.jpg\t <--- image_0233.jpg\n",
      "new_a6_name: image_6233.jpg\t <--- image_0233.jpg\n",
      "new_a6_name: image_6234.jpg\t <--- image_0234.jpg\n",
      "new_a6_name: image_6234.jpg\t <--- image_0234.jpg\n",
      "new_a6_name: image_6235.jpg\t <--- image_0235.jpg\n",
      "new_a6_name: image_6235.jpg\t <--- image_0235.jpg\n",
      "new_a6_name: image_6236.jpg\t <--- image_0236.jpg\n",
      "new_a6_name: image_6236.jpg\t <--- image_0236.jpg\n",
      "new_a6_name: image_6237.jpg\t <--- image_0237.jpg\n",
      "new_a6_name: image_6237.jpg\t <--- image_0237.jpg\n",
      "new_a6_name: image_6238.jpg\t <--- image_0238.jpg\n",
      "new_a6_name: image_6238.jpg\t <--- image_0238.jpg\n",
      "new_a6_name: image_6239.jpg\t <--- image_0239.jpg\n",
      "new_a6_name: image_6239.jpg\t <--- image_0239.jpg\n",
      "new_a6_name: image_6240.jpg\t <--- image_0240.jpg\n",
      "new_a6_name: image_6240.jpg\t <--- image_0240.jpg\n",
      "new_a6_name: image_6241.jpg\t <--- image_0241.jpg\n",
      "new_a6_name: image_6241.jpg\t <--- image_0241.jpg\n",
      "new_a6_name: image_6242.jpg\t <--- image_0242.jpg\n",
      "new_a6_name: image_6242.jpg\t <--- image_0242.jpg\n",
      "new_a6_name: image_6243.jpg\t <--- image_0243.jpg\n",
      "new_a6_name: image_6243.jpg\t <--- image_0243.jpg\n",
      "new_a6_name: image_6244.jpg\t <--- image_0244.jpg\n",
      "new_a6_name: image_6244.jpg\t <--- image_0244.jpg\n",
      "new_a6_name: image_6245.jpg\t <--- image_0245.jpg\n",
      "new_a6_name: image_6245.jpg\t <--- image_0245.jpg\n",
      "new_a6_name: image_6246.jpg\t <--- image_0246.jpg\n",
      "new_a6_name: image_6246.jpg\t <--- image_0246.jpg\n",
      "new_a6_name: image_6247.jpg\t <--- image_0247.jpg\n",
      "new_a6_name: image_6247.jpg\t <--- image_0247.jpg\n",
      "new_a6_name: image_6248.jpg\t <--- image_0248.jpg\n",
      "new_a6_name: image_6248.jpg\t <--- image_0248.jpg\n",
      "new_a6_name: image_6249.jpg\t <--- image_0249.jpg\n",
      "new_a6_name: image_6249.jpg\t <--- image_0249.jpg\n",
      "new_a6_name: image_6250.jpg\t <--- image_0250.jpg\n",
      "new_a6_name: image_6250.jpg\t <--- image_0250.jpg\n",
      "new_a6_name: image_6251.jpg\t <--- image_0251.jpg\n",
      "new_a6_name: image_6251.jpg\t <--- image_0251.jpg\n",
      "new_a6_name: image_6252.jpg\t <--- image_0252.jpg\n",
      "new_a6_name: image_6252.jpg\t <--- image_0252.jpg\n",
      "new_a6_name: image_6253.jpg\t <--- image_0253.jpg\n",
      "new_a6_name: image_6253.jpg\t <--- image_0253.jpg\n",
      "new_a6_name: image_6254.jpg\t <--- image_0254.jpg\n",
      "new_a6_name: image_6254.jpg\t <--- image_0254.jpg\n",
      "new_a6_name: image_6255.jpg\t <--- image_0255.jpg\n",
      "new_a6_name: image_6255.jpg\t <--- image_0255.jpg\n",
      "new_a6_name: image_6256.jpg\t <--- image_0256.jpg\n",
      "new_a6_name: image_6256.jpg\t <--- image_0256.jpg\n",
      "new_a6_name: image_6257.jpg\t <--- image_0257.jpg\n",
      "new_a6_name: image_6257.jpg\t <--- image_0257.jpg\n",
      "new_a6_name: image_6258.jpg\t <--- image_0258.jpg\n",
      "new_a6_name: image_6258.jpg\t <--- image_0258.jpg\n",
      "new_a6_name: image_6259.jpg\t <--- image_0259.jpg\n",
      "new_a6_name: image_6259.jpg\t <--- image_0259.jpg\n",
      "new_a6_name: image_6260.jpg\t <--- image_0260.jpg\n",
      "new_a6_name: image_6260.jpg\t <--- image_0260.jpg\n",
      "new_a6_name: image_6261.jpg\t <--- image_0261.jpg\n",
      "new_a6_name: image_6261.jpg\t <--- image_0261.jpg\n",
      "new_a6_name: image_6262.jpg\t <--- image_0262.jpg\n",
      "new_a6_name: image_6262.jpg\t <--- image_0262.jpg\n",
      "new_a6_name: image_6263.jpg\t <--- image_0263.jpg\n",
      "new_a6_name: image_6263.jpg\t <--- image_0263.jpg\n",
      "new_a6_name: image_6264.jpg\t <--- image_0264.jpg\n",
      "new_a6_name: image_6264.jpg\t <--- image_0264.jpg\n",
      "new_a6_name: image_6265.jpg\t <--- image_0265.jpg\n",
      "new_a6_name: image_6265.jpg\t <--- image_0265.jpg\n",
      "new_a6_name: image_6266.jpg\t <--- image_0266.jpg\n",
      "new_a6_name: image_6266.jpg\t <--- image_0266.jpg\n",
      "new_a6_name: image_6267.jpg\t <--- image_0267.jpg\n",
      "new_a6_name: image_6267.jpg\t <--- image_0267.jpg\n",
      "new_a6_name: image_6268.jpg\t <--- image_0268.jpg\n",
      "new_a6_name: image_6268.jpg\t <--- image_0268.jpg\n",
      "new_a6_name: image_6269.jpg\t <--- image_0269.jpg\n",
      "new_a6_name: image_6269.jpg\t <--- image_0269.jpg\n",
      "new_a6_name: image_6270.jpg\t <--- image_0270.jpg\n",
      "new_a6_name: image_6270.jpg\t <--- image_0270.jpg\n",
      "new_a6_name: image_6271.jpg\t <--- image_0271.jpg\n",
      "new_a6_name: image_6271.jpg\t <--- image_0271.jpg\n",
      "new_a6_name: image_6272.jpg\t <--- image_0272.jpg\n",
      "new_a6_name: image_6272.jpg\t <--- image_0272.jpg\n",
      "new_a6_name: image_6273.jpg\t <--- image_0273.jpg\n",
      "new_a6_name: image_6273.jpg\t <--- image_0273.jpg\n",
      "new_a6_name: image_6274.jpg\t <--- image_0274.jpg\n",
      "new_a6_name: image_6274.jpg\t <--- image_0274.jpg\n",
      "new_a6_name: image_6275.jpg\t <--- image_0275.jpg\n",
      "new_a6_name: image_6275.jpg\t <--- image_0275.jpg\n",
      "new_a6_name: image_6276.jpg\t <--- image_0276.jpg\n",
      "new_a6_name: image_6276.jpg\t <--- image_0276.jpg\n",
      "new_a6_name: image_6277.jpg\t <--- image_0277.jpg\n",
      "new_a6_name: image_6277.jpg\t <--- image_0277.jpg\n",
      "new_a6_name: image_6278.jpg\t <--- image_0278.jpg\n",
      "new_a6_name: image_6278.jpg\t <--- image_0278.jpg\n",
      "new_a6_name: image_6279.jpg\t <--- image_0279.jpg\n",
      "new_a6_name: image_6279.jpg\t <--- image_0279.jpg\n",
      "new_a6_name: image_6280.jpg\t <--- image_0280.jpg\n",
      "new_a6_name: image_6280.jpg\t <--- image_0280.jpg\n",
      "new_a6_name: image_6281.jpg\t <--- image_0281.jpg\n",
      "new_a6_name: image_6281.jpg\t <--- image_0281.jpg\n",
      "new_a6_name: image_6282.jpg\t <--- image_0282.jpg\n",
      "new_a6_name: image_6282.jpg\t <--- image_0282.jpg\n",
      "new_a6_name: image_6283.jpg\t <--- image_0283.jpg\n",
      "new_a6_name: image_6283.jpg\t <--- image_0283.jpg\n",
      "new_a6_name: image_6284.jpg\t <--- image_0284.jpg\n",
      "new_a6_name: image_6284.jpg\t <--- image_0284.jpg\n",
      "new_a6_name: image_6285.jpg\t <--- image_0285.jpg\n",
      "new_a6_name: image_6285.jpg\t <--- image_0285.jpg\n",
      "new_a6_name: image_6286.jpg\t <--- image_0286.jpg\n",
      "new_a6_name: image_6286.jpg\t <--- image_0286.jpg\n",
      "new_a6_name: image_6287.jpg\t <--- image_0287.jpg\n",
      "new_a6_name: image_6287.jpg\t <--- image_0287.jpg\n",
      "new_a6_name: image_6288.jpg\t <--- image_0288.jpg\n",
      "new_a6_name: image_6288.jpg\t <--- image_0288.jpg\n",
      "new_a6_name: image_6289.jpg\t <--- image_0289.jpg\n",
      "new_a6_name: image_6289.jpg\t <--- image_0289.jpg\n",
      "new_a6_name: image_6290.jpg\t <--- image_0290.jpg\n",
      "new_a6_name: image_6290.jpg\t <--- image_0290.jpg\n",
      "new_a6_name: image_6291.jpg\t <--- image_0291.jpg\n",
      "new_a6_name: image_6291.jpg\t <--- image_0291.jpg\n",
      "new_a6_name: image_6292.jpg\t <--- image_0292.jpg\n",
      "new_a6_name: image_6292.jpg\t <--- image_0292.jpg\n",
      "new_a6_name: image_6293.jpg\t <--- image_0293.jpg\n",
      "new_a6_name: image_6293.jpg\t <--- image_0293.jpg\n",
      "new_a6_name: image_6294.jpg\t <--- image_0294.jpg\n",
      "new_a6_name: image_6294.jpg\t <--- image_0294.jpg\n",
      "new_a6_name: image_6295.jpg\t <--- image_0295.jpg\n",
      "new_a6_name: image_6295.jpg\t <--- image_0295.jpg\n",
      "new_a6_name: image_6296.jpg\t <--- image_0296.jpg\n",
      "new_a6_name: image_6296.jpg\t <--- image_0296.jpg\n",
      "new_a6_name: image_6297.jpg\t <--- image_0297.jpg\n",
      "new_a6_name: image_6297.jpg\t <--- image_0297.jpg\n",
      "new_a6_name: image_6298.jpg\t <--- image_0298.jpg\n",
      "new_a6_name: image_6298.jpg\t <--- image_0298.jpg\n",
      "new_a6_name: image_6299.jpg\t <--- image_0299.jpg\n",
      "new_a6_name: image_6299.jpg\t <--- image_0299.jpg\n",
      "new_a6_name: image_6300.jpg\t <--- image_0300.jpg\n",
      "new_a6_name: image_6300.jpg\t <--- image_0300.jpg\n",
      "new_a6_name: image_6301.jpg\t <--- image_0301.jpg\n",
      "new_a6_name: image_6301.jpg\t <--- image_0301.jpg\n",
      "new_a6_name: image_6302.jpg\t <--- image_0302.jpg\n",
      "new_a6_name: image_6302.jpg\t <--- image_0302.jpg\n",
      "new_a6_name: image_6303.jpg\t <--- image_0303.jpg\n",
      "new_a6_name: image_6303.jpg\t <--- image_0303.jpg\n",
      "new_a6_name: image_6304.jpg\t <--- image_0304.jpg\n",
      "new_a6_name: image_6304.jpg\t <--- image_0304.jpg\n",
      "new_a6_name: image_6305.jpg\t <--- image_0305.jpg\n",
      "new_a6_name: image_6305.jpg\t <--- image_0305.jpg\n",
      "new_a6_name: image_6306.jpg\t <--- image_0306.jpg\n",
      "new_a6_name: image_6306.jpg\t <--- image_0306.jpg\n",
      "new_a6_name: image_6307.jpg\t <--- image_0307.jpg\n",
      "new_a6_name: image_6307.jpg\t <--- image_0307.jpg\n",
      "new_a6_name: image_6308.jpg\t <--- image_0308.jpg\n",
      "new_a6_name: image_6308.jpg\t <--- image_0308.jpg\n",
      "new_a6_name: image_6309.jpg\t <--- image_0309.jpg\n",
      "new_a6_name: image_6309.jpg\t <--- image_0309.jpg\n",
      "new_a6_name: image_6310.jpg\t <--- image_0310.jpg\n",
      "new_a6_name: image_6310.jpg\t <--- image_0310.jpg\n",
      "new_a6_name: image_6311.jpg\t <--- image_0311.jpg\n",
      "new_a6_name: image_6311.jpg\t <--- image_0311.jpg\n",
      "new_a6_name: image_6312.jpg\t <--- image_0312.jpg\n",
      "new_a6_name: image_6312.jpg\t <--- image_0312.jpg\n",
      "new_a6_name: image_6313.jpg\t <--- image_0313.jpg\n",
      "new_a6_name: image_6313.jpg\t <--- image_0313.jpg\n",
      "new_a6_name: image_6314.jpg\t <--- image_0314.jpg\n",
      "new_a6_name: image_6314.jpg\t <--- image_0314.jpg\n",
      "new_a6_name: image_6315.jpg\t <--- image_0315.jpg\n",
      "new_a6_name: image_6315.jpg\t <--- image_0315.jpg\n",
      "new_a6_name: image_6316.jpg\t <--- image_0316.jpg\n",
      "new_a6_name: image_6316.jpg\t <--- image_0316.jpg\n",
      "new_a6_name: image_6317.jpg\t <--- image_0317.jpg\n",
      "new_a6_name: image_6317.jpg\t <--- image_0317.jpg\n",
      "new_a6_name: image_6318.jpg\t <--- image_0318.jpg\n",
      "new_a6_name: image_6318.jpg\t <--- image_0318.jpg\n",
      "new_a6_name: image_6319.jpg\t <--- image_0319.jpg\n",
      "new_a6_name: image_6319.jpg\t <--- image_0319.jpg\n",
      "new_a6_name: image_6320.jpg\t <--- image_0320.jpg\n",
      "new_a6_name: image_6320.jpg\t <--- image_0320.jpg\n",
      "new_a6_name: image_6321.jpg\t <--- image_0321.jpg\n",
      "new_a6_name: image_6321.jpg\t <--- image_0321.jpg\n",
      "new_a6_name: image_6322.jpg\t <--- image_0322.jpg\n",
      "new_a6_name: image_6322.jpg\t <--- image_0322.jpg\n",
      "new_a6_name: image_6323.jpg\t <--- image_0323.jpg\n",
      "new_a6_name: image_6323.jpg\t <--- image_0323.jpg\n",
      "new_a6_name: image_6324.jpg\t <--- image_0324.jpg\n",
      "new_a6_name: image_6324.jpg\t <--- image_0324.jpg\n",
      "new_a6_name: image_6325.jpg\t <--- image_0325.jpg\n",
      "new_a6_name: image_6325.jpg\t <--- image_0325.jpg\n",
      "new_a6_name: image_6326.jpg\t <--- image_0326.jpg\n",
      "new_a6_name: image_6326.jpg\t <--- image_0326.jpg\n",
      "new_a6_name: image_6327.jpg\t <--- image_0327.jpg\n",
      "new_a6_name: image_6327.jpg\t <--- image_0327.jpg\n",
      "new_a6_name: image_6328.jpg\t <--- image_0328.jpg\n",
      "new_a6_name: image_6328.jpg\t <--- image_0328.jpg\n",
      "new_a6_name: image_6329.jpg\t <--- image_0329.jpg\n",
      "new_a6_name: image_6329.jpg\t <--- image_0329.jpg\n",
      "new_a6_name: image_6330.jpg\t <--- image_0330.jpg\n",
      "new_a6_name: image_6330.jpg\t <--- image_0330.jpg\n",
      "new_a6_name: image_6331.jpg\t <--- image_0331.jpg\n",
      "new_a6_name: image_6331.jpg\t <--- image_0331.jpg\n",
      "new_a6_name: image_6332.jpg\t <--- image_0332.jpg\n",
      "new_a6_name: image_6332.jpg\t <--- image_0332.jpg\n",
      "new_a6_name: image_6333.jpg\t <--- image_0333.jpg\n",
      "new_a6_name: image_6333.jpg\t <--- image_0333.jpg\n",
      "new_a6_name: image_6334.jpg\t <--- image_0334.jpg\n",
      "new_a6_name: image_6334.jpg\t <--- image_0334.jpg\n",
      "new_a6_name: image_6335.jpg\t <--- image_0335.jpg\n",
      "new_a6_name: image_6335.jpg\t <--- image_0335.jpg\n",
      "new_a6_name: image_6336.jpg\t <--- image_0336.jpg\n",
      "new_a6_name: image_6336.jpg\t <--- image_0336.jpg\n",
      "new_a6_name: image_6337.jpg\t <--- image_0337.jpg\n",
      "new_a6_name: image_6337.jpg\t <--- image_0337.jpg\n",
      "new_a6_name: image_6338.jpg\t <--- image_0338.jpg\n",
      "new_a6_name: image_6338.jpg\t <--- image_0338.jpg\n",
      "new_a6_name: image_6339.jpg\t <--- image_0339.jpg\n",
      "new_a6_name: image_6339.jpg\t <--- image_0339.jpg\n",
      "new_a6_name: image_6340.jpg\t <--- image_0340.jpg\n",
      "new_a6_name: image_6340.jpg\t <--- image_0340.jpg\n",
      "new_a6_name: image_6341.jpg\t <--- image_0341.jpg\n",
      "new_a6_name: image_6341.jpg\t <--- image_0341.jpg\n",
      "new_a6_name: image_6342.jpg\t <--- image_0342.jpg\n",
      "new_a6_name: image_6342.jpg\t <--- image_0342.jpg\n",
      "new_a6_name: image_6343.jpg\t <--- image_0343.jpg\n",
      "new_a6_name: image_6343.jpg\t <--- image_0343.jpg\n",
      "new_a6_name: image_6344.jpg\t <--- image_0344.jpg\n",
      "new_a6_name: image_6344.jpg\t <--- image_0344.jpg\n",
      "new_a6_name: image_6345.jpg\t <--- image_0345.jpg\n",
      "new_a6_name: image_6345.jpg\t <--- image_0345.jpg\n",
      "new_a6_name: image_6346.jpg\t <--- image_0346.jpg\n",
      "new_a6_name: image_6346.jpg\t <--- image_0346.jpg\n",
      "new_a6_name: image_6347.jpg\t <--- image_0347.jpg\n",
      "new_a6_name: image_6347.jpg\t <--- image_0347.jpg\n",
      "new_a6_name: image_6348.jpg\t <--- image_0348.jpg\n",
      "new_a6_name: image_6348.jpg\t <--- image_0348.jpg\n",
      "new_a6_name: image_6349.jpg\t <--- image_0349.jpg\n",
      "new_a6_name: image_6349.jpg\t <--- image_0349.jpg\n",
      "new_a6_name: image_6350.jpg\t <--- image_0350.jpg\n",
      "new_a6_name: image_6350.jpg\t <--- image_0350.jpg\n",
      "new_a6_name: image_6351.jpg\t <--- image_0351.jpg\n",
      "new_a6_name: image_6351.jpg\t <--- image_0351.jpg\n",
      "new_a6_name: image_6352.jpg\t <--- image_0352.jpg\n",
      "new_a6_name: image_6352.jpg\t <--- image_0352.jpg\n",
      "new_a6_name: image_6353.jpg\t <--- image_0353.jpg\n",
      "new_a6_name: image_6353.jpg\t <--- image_0353.jpg\n",
      "new_a6_name: image_6354.jpg\t <--- image_0354.jpg\n",
      "new_a6_name: image_6354.jpg\t <--- image_0354.jpg\n",
      "new_a6_name: image_6355.jpg\t <--- image_0355.jpg\n",
      "new_a6_name: image_6355.jpg\t <--- image_0355.jpg\n",
      "new_a6_name: image_6356.jpg\t <--- image_0356.jpg\n",
      "new_a6_name: image_6356.jpg\t <--- image_0356.jpg\n",
      "new_a6_name: image_6357.jpg\t <--- image_0357.jpg\n",
      "new_a6_name: image_6357.jpg\t <--- image_0357.jpg\n",
      "new_a6_name: image_6358.jpg\t <--- image_0358.jpg\n",
      "new_a6_name: image_6358.jpg\t <--- image_0358.jpg\n",
      "new_a6_name: image_6359.jpg\t <--- image_0359.jpg\n",
      "new_a6_name: image_6359.jpg\t <--- image_0359.jpg\n",
      "new_a6_name: image_6360.jpg\t <--- image_0360.jpg\n",
      "new_a6_name: image_6360.jpg\t <--- image_0360.jpg\n",
      "new_a6_name: image_6361.jpg\t <--- image_0361.jpg\n",
      "new_a6_name: image_6361.jpg\t <--- image_0361.jpg\n",
      "new_a6_name: image_6362.jpg\t <--- image_0362.jpg\n",
      "new_a6_name: image_6362.jpg\t <--- image_0362.jpg\n",
      "new_a6_name: image_6363.jpg\t <--- image_0363.jpg\n",
      "new_a6_name: image_6363.jpg\t <--- image_0363.jpg\n",
      "new_a6_name: image_6364.jpg\t <--- image_0364.jpg\n",
      "new_a6_name: image_6364.jpg\t <--- image_0364.jpg\n",
      "new_a6_name: image_6365.jpg\t <--- image_0365.jpg\n",
      "new_a6_name: image_6365.jpg\t <--- image_0365.jpg\n",
      "new_a6_name: image_6366.jpg\t <--- image_0366.jpg\n",
      "new_a6_name: image_6366.jpg\t <--- image_0366.jpg\n",
      "new_a6_name: image_6367.jpg\t <--- image_0367.jpg\n",
      "new_a6_name: image_6367.jpg\t <--- image_0367.jpg\n",
      "new_a6_name: image_6368.jpg\t <--- image_0368.jpg\n",
      "new_a6_name: image_6368.jpg\t <--- image_0368.jpg\n",
      "new_a6_name: image_6369.jpg\t <--- image_0369.jpg\n",
      "new_a6_name: image_6369.jpg\t <--- image_0369.jpg\n",
      "new_a6_name: image_6370.jpg\t <--- image_0370.jpg\n",
      "new_a6_name: image_6370.jpg\t <--- image_0370.jpg\n",
      "new_a6_name: image_6371.jpg\t <--- image_0371.jpg\n",
      "new_a6_name: image_6371.jpg\t <--- image_0371.jpg\n",
      "new_a6_name: image_6372.jpg\t <--- image_0372.jpg\n",
      "new_a6_name: image_6372.jpg\t <--- image_0372.jpg\n",
      "new_a6_name: image_6373.jpg\t <--- image_0373.jpg\n",
      "new_a6_name: image_6373.jpg\t <--- image_0373.jpg\n",
      "new_a6_name: image_6374.jpg\t <--- image_0374.jpg\n",
      "new_a6_name: image_6374.jpg\t <--- image_0374.jpg\n",
      "new_a6_name: image_6375.jpg\t <--- image_0375.jpg\n",
      "new_a6_name: image_6375.jpg\t <--- image_0375.jpg\n",
      "new_a6_name: image_6376.jpg\t <--- image_0376.jpg\n",
      "new_a6_name: image_6376.jpg\t <--- image_0376.jpg\n",
      "new_a6_name: image_6377.jpg\t <--- image_0377.jpg\n",
      "new_a6_name: image_6377.jpg\t <--- image_0377.jpg\n",
      "new_a6_name: image_6378.jpg\t <--- image_0378.jpg\n",
      "new_a6_name: image_6378.jpg\t <--- image_0378.jpg\n",
      "new_a6_name: image_6379.jpg\t <--- image_0379.jpg\n",
      "new_a6_name: image_6379.jpg\t <--- image_0379.jpg\n",
      "new_a6_name: image_6380.jpg\t <--- image_0380.jpg\n",
      "new_a6_name: image_6380.jpg\t <--- image_0380.jpg\n",
      "new_a6_name: image_6381.jpg\t <--- image_0381.jpg\n",
      "new_a6_name: image_6381.jpg\t <--- image_0381.jpg\n",
      "new_a6_name: image_6382.jpg\t <--- image_0382.jpg\n",
      "new_a6_name: image_6382.jpg\t <--- image_0382.jpg\n",
      "new_a6_name: image_6383.jpg\t <--- image_0383.jpg\n",
      "new_a6_name: image_6383.jpg\t <--- image_0383.jpg\n",
      "new_a6_name: image_6384.jpg\t <--- image_0384.jpg\n",
      "new_a6_name: image_6384.jpg\t <--- image_0384.jpg\n",
      "new_a6_name: image_6385.jpg\t <--- image_0385.jpg\n",
      "new_a6_name: image_6385.jpg\t <--- image_0385.jpg\n",
      "new_a6_name: image_6386.jpg\t <--- image_0386.jpg\n",
      "new_a6_name: image_6386.jpg\t <--- image_0386.jpg\n",
      "new_a6_name: image_6387.jpg\t <--- image_0387.jpg\n",
      "new_a6_name: image_6387.jpg\t <--- image_0387.jpg\n",
      "new_a6_name: image_6388.jpg\t <--- image_0388.jpg\n",
      "new_a6_name: image_6388.jpg\t <--- image_0388.jpg\n",
      "new_a6_name: image_6389.jpg\t <--- image_0389.jpg\n",
      "new_a6_name: image_6389.jpg\t <--- image_0389.jpg\n",
      "new_a6_name: image_6390.jpg\t <--- image_0390.jpg\n",
      "new_a6_name: image_6390.jpg\t <--- image_0390.jpg\n",
      "new_a6_name: image_6391.jpg\t <--- image_0391.jpg\n",
      "new_a6_name: image_6391.jpg\t <--- image_0391.jpg\n",
      "new_a6_name: image_6392.jpg\t <--- image_0392.jpg\n",
      "new_a6_name: image_6392.jpg\t <--- image_0392.jpg\n",
      "new_a6_name: image_6393.jpg\t <--- image_0393.jpg\n",
      "new_a6_name: image_6393.jpg\t <--- image_0393.jpg\n",
      "new_a6_name: image_6394.jpg\t <--- image_0394.jpg\n",
      "new_a6_name: image_6394.jpg\t <--- image_0394.jpg\n",
      "new_a6_name: image_6395.jpg\t <--- image_0395.jpg\n",
      "new_a6_name: image_6395.jpg\t <--- image_0395.jpg\n",
      "new_a6_name: image_6396.jpg\t <--- image_0396.jpg\n",
      "new_a6_name: image_6396.jpg\t <--- image_0396.jpg\n",
      "new_a6_name: image_6397.jpg\t <--- image_0397.jpg\n",
      "new_a6_name: image_6397.jpg\t <--- image_0397.jpg\n",
      "new_a6_name: image_6398.jpg\t <--- image_0398.jpg\n",
      "new_a6_name: image_6398.jpg\t <--- image_0398.jpg\n",
      "new_a6_name: image_6399.jpg\t <--- image_0399.jpg\n",
      "new_a6_name: image_6399.jpg\t <--- image_0399.jpg\n",
      "new_a6_name: image_6400.jpg\t <--- image_0400.jpg\n",
      "new_a6_name: image_6400.jpg\t <--- image_0400.jpg\n",
      "new_a6_name: image_6401.jpg\t <--- image_0401.jpg\n",
      "new_a6_name: image_6401.jpg\t <--- image_0401.jpg\n",
      "new_a6_name: image_6402.jpg\t <--- image_0402.jpg\n",
      "new_a6_name: image_6402.jpg\t <--- image_0402.jpg\n",
      "new_a6_name: image_6403.jpg\t <--- image_0403.jpg\n",
      "new_a6_name: image_6403.jpg\t <--- image_0403.jpg\n",
      "new_a6_name: image_6404.jpg\t <--- image_0404.jpg\n",
      "new_a6_name: image_6404.jpg\t <--- image_0404.jpg\n",
      "new_a6_name: image_6405.jpg\t <--- image_0405.jpg\n",
      "new_a6_name: image_6405.jpg\t <--- image_0405.jpg\n",
      "new_a6_name: image_6406.jpg\t <--- image_0406.jpg\n",
      "new_a6_name: image_6406.jpg\t <--- image_0406.jpg\n",
      "new_a6_name: image_6407.jpg\t <--- image_0407.jpg\n",
      "new_a6_name: image_6407.jpg\t <--- image_0407.jpg\n",
      "new_a6_name: image_6408.jpg\t <--- image_0408.jpg\n",
      "new_a6_name: image_6408.jpg\t <--- image_0408.jpg\n",
      "new_a6_name: image_6409.jpg\t <--- image_0409.jpg\n",
      "new_a6_name: image_6409.jpg\t <--- image_0409.jpg\n",
      "new_a6_name: image_6410.jpg\t <--- image_0410.jpg\n",
      "new_a6_name: image_6410.jpg\t <--- image_0410.jpg\n",
      "new_a6_name: image_6411.jpg\t <--- image_0411.jpg\n",
      "new_a6_name: image_6411.jpg\t <--- image_0411.jpg\n",
      "new_a6_name: image_6412.jpg\t <--- image_0412.jpg\n",
      "new_a6_name: image_6412.jpg\t <--- image_0412.jpg\n",
      "new_a6_name: image_6413.jpg\t <--- image_0413.jpg\n",
      "new_a6_name: image_6413.jpg\t <--- image_0413.jpg\n",
      "new_a6_name: image_6414.jpg\t <--- image_0414.jpg\n",
      "new_a6_name: image_6414.jpg\t <--- image_0414.jpg\n",
      "new_a6_name: image_6415.jpg\t <--- image_0415.jpg\n",
      "new_a6_name: image_6415.jpg\t <--- image_0415.jpg\n",
      "new_a6_name: image_6416.jpg\t <--- image_0416.jpg\n",
      "new_a6_name: image_6416.jpg\t <--- image_0416.jpg\n",
      "new_a6_name: image_6417.jpg\t <--- image_0417.jpg\n",
      "new_a6_name: image_6417.jpg\t <--- image_0417.jpg\n",
      "new_a6_name: image_6418.jpg\t <--- image_0418.jpg\n",
      "new_a6_name: image_6418.jpg\t <--- image_0418.jpg\n",
      "new_a6_name: image_6419.jpg\t <--- image_0419.jpg\n",
      "new_a6_name: image_6419.jpg\t <--- image_0419.jpg\n",
      "new_a6_name: image_6420.jpg\t <--- image_0420.jpg\n",
      "new_a6_name: image_6420.jpg\t <--- image_0420.jpg\n",
      "new_a6_name: image_6421.jpg\t <--- image_0421.jpg\n",
      "new_a6_name: image_6421.jpg\t <--- image_0421.jpg\n",
      "new_a6_name: image_6422.jpg\t <--- image_0422.jpg\n",
      "new_a6_name: image_6422.jpg\t <--- image_0422.jpg\n",
      "new_a6_name: image_6423.jpg\t <--- image_0423.jpg\n",
      "new_a6_name: image_6423.jpg\t <--- image_0423.jpg\n",
      "new_a6_name: image_6424.jpg\t <--- image_0424.jpg\n",
      "new_a6_name: image_6424.jpg\t <--- image_0424.jpg\n"
     ]
    }
   ],
   "source": [
    "a6_df[\"images\"] = a6_df[\"images\"].map(add_6000_map)"
   ]
  },
  {
   "cell_type": "code",
   "execution_count": 22,
   "metadata": {},
   "outputs": [
    {
     "name": "stdout",
     "output_type": "stream",
     "text": [
      "train_20210106/images/image_0001.png\n"
     ]
    }
   ],
   "source": [
    "!ls train_20210106/images/image_0001.png"
   ]
  },
  {
   "cell_type": "code",
   "execution_count": 23,
   "metadata": {},
   "outputs": [
    {
     "name": "stdout",
     "output_type": "stream",
     "text": [
      "train_20210106_a6/image_6001.png\n"
     ]
    }
   ],
   "source": [
    "# check new 6k numbers\n",
    "!ls train_20210106_a6/image_6001.png"
   ]
  },
  {
   "cell_type": "code",
   "execution_count": 24,
   "metadata": {},
   "outputs": [
    {
     "data": {
      "text/plain": [
       "424"
      ]
     },
     "execution_count": 24,
     "metadata": {},
     "output_type": "execute_result"
    }
   ],
   "source": [
    "len(a6_df)"
   ]
  },
  {
   "cell_type": "code",
   "execution_count": 25,
   "metadata": {},
   "outputs": [
    {
     "data": {
      "text/html": [
       "<div>\n",
       "<style scoped>\n",
       "    .dataframe tbody tr th:only-of-type {\n",
       "        vertical-align: middle;\n",
       "    }\n",
       "\n",
       "    .dataframe tbody tr th {\n",
       "        vertical-align: top;\n",
       "    }\n",
       "\n",
       "    .dataframe thead th {\n",
       "        text-align: right;\n",
       "    }\n",
       "</style>\n",
       "<table border=\"1\" class=\"dataframe\">\n",
       "  <thead>\n",
       "    <tr style=\"text-align: right;\">\n",
       "      <th></th>\n",
       "      <th>images</th>\n",
       "      <th>x1</th>\n",
       "      <th>y1</th>\n",
       "      <th>x2</th>\n",
       "      <th>y2</th>\n",
       "    </tr>\n",
       "  </thead>\n",
       "  <tbody>\n",
       "    <tr>\n",
       "      <th>0</th>\n",
       "      <td>image_6001.png</td>\n",
       "      <td>56</td>\n",
       "      <td>119</td>\n",
       "      <td>82</td>\n",
       "      <td>383</td>\n",
       "    </tr>\n",
       "    <tr>\n",
       "      <th>1</th>\n",
       "      <td>image_6002.png</td>\n",
       "      <td>57</td>\n",
       "      <td>132</td>\n",
       "      <td>37</td>\n",
       "      <td>378</td>\n",
       "    </tr>\n",
       "    <tr>\n",
       "      <th>2</th>\n",
       "      <td>image_6003.png</td>\n",
       "      <td>61</td>\n",
       "      <td>175</td>\n",
       "      <td>81</td>\n",
       "      <td>384</td>\n",
       "    </tr>\n",
       "    <tr>\n",
       "      <th>3</th>\n",
       "      <td>image_6004.png</td>\n",
       "      <td>53</td>\n",
       "      <td>179</td>\n",
       "      <td>32</td>\n",
       "      <td>381</td>\n",
       "    </tr>\n",
       "    <tr>\n",
       "      <th>4</th>\n",
       "      <td>image_6005.png</td>\n",
       "      <td>50</td>\n",
       "      <td>120</td>\n",
       "      <td>81</td>\n",
       "      <td>383</td>\n",
       "    </tr>\n",
       "  </tbody>\n",
       "</table>\n",
       "</div>"
      ],
      "text/plain": [
       "           images  x1   y1  x2   y2\n",
       "0  image_6001.png  56  119  82  383\n",
       "1  image_6002.png  57  132  37  378\n",
       "2  image_6003.png  61  175  81  384\n",
       "3  image_6004.png  53  179  32  381\n",
       "4  image_6005.png  50  120  81  383"
      ]
     },
     "execution_count": 25,
     "metadata": {},
     "output_type": "execute_result"
    }
   ],
   "source": [
    "a6_df.head(5)"
   ]
  },
  {
   "cell_type": "code",
   "execution_count": 26,
   "metadata": {},
   "outputs": [],
   "source": [
    "a6_df.to_csv('annotation_a6_df.csv', index=False)"
   ]
  },
  {
   "cell_type": "code",
   "execution_count": null,
   "metadata": {},
   "outputs": [],
   "source": []
  },
  {
   "cell_type": "markdown",
   "metadata": {},
   "source": [
    "#### Append new 2nd to 1st data list"
   ]
  },
  {
   "cell_type": "code",
   "execution_count": 27,
   "metadata": {},
   "outputs": [],
   "source": [
    "a6 = 'annotation_a6_df.csv'\n",
    "a6_df = pd.read_csv(a6)\n",
    "\n",
    "\n",
    "df_merge = pd.concat([df, a6_df])"
   ]
  },
  {
   "cell_type": "code",
   "execution_count": 28,
   "metadata": {},
   "outputs": [],
   "source": [
    "df_merge.to_csv('annotation_1424_merge.csv', index=False)"
   ]
  },
  {
   "cell_type": "code",
   "execution_count": 29,
   "metadata": {},
   "outputs": [
    {
     "data": {
      "text/plain": [
       "1000"
      ]
     },
     "execution_count": 29,
     "metadata": {},
     "output_type": "execute_result"
    }
   ],
   "source": [
    "len(df)"
   ]
  },
  {
   "cell_type": "code",
   "execution_count": 30,
   "metadata": {},
   "outputs": [
    {
     "data": {
      "text/plain": [
       "1424"
      ]
     },
     "execution_count": 30,
     "metadata": {},
     "output_type": "execute_result"
    }
   ],
   "source": [
    "len(df_merge)"
   ]
  },
  {
   "cell_type": "markdown",
   "metadata": {},
   "source": [
    "### Copy a6 image to train/images\n",
    "\n",
    "* cp train_20210106_a6/* to train/images/ for latter remove bad samples"
   ]
  },
  {
   "cell_type": "code",
   "execution_count": 31,
   "metadata": {},
   "outputs": [],
   "source": [
    "!cp train_20210106_a6/image_6* train/images/"
   ]
  },
  {
   "cell_type": "code",
   "execution_count": 32,
   "metadata": {},
   "outputs": [
    {
     "name": "stdout",
     "output_type": "stream",
     "text": [
      "1424\n"
     ]
    }
   ],
   "source": [
    "# should be all samples (1000 + 424 images)\n",
    "!ls -l train/images/image_* | wc -l"
   ]
  },
  {
   "cell_type": "markdown",
   "metadata": {},
   "source": [
    "## Plot ALL Samples for search bad annotation"
   ]
  },
  {
   "cell_type": "code",
   "execution_count": null,
   "metadata": {},
   "outputs": [],
   "source": [
    "ann_1424 = 'annotation_1424_merge.csv'\n",
    "df_1424= pd.read_csv(ann_1424)\n",
    "len(df_1424)"
   ]
  },
  {
   "cell_type": "code",
   "execution_count": null,
   "metadata": {
    "scrolled": true
   },
   "outputs": [],
   "source": [
    "\"\"\"\n",
    "Here the df_merge list for 1~1000 and 6001~6004,\n",
    "but we are give it as index, so need -5001 for 6a samples.\n",
    "\n",
    "1424/30 ~ 48\n",
    "\n",
    "\"\"\"\n",
    "print(\"Plot ALL Samples for search bad annotation: \", len(df_1424))\n",
    "\n",
    "step_num = 48\n",
    "block_num = 30\n",
    "\n",
    "for i_s in range(step_num):\n",
    "    print(i_s)\n",
    "    \n",
    "    plt.figure(figsize=(20, 20))\n",
    "    fig_name = 'review_fig/' + str(i_s) + '.png'\n",
    "    for i in range(block_num):\n",
    "    #     print(i)\n",
    "        if i > 1000:\n",
    "            ax = plt.subplot(3, 10, int(i+1))\n",
    "            plt_ud_point_multiple(df_1424,i-5001 + i_s*block_num)\n",
    "        else:\n",
    "            ax = plt.subplot(3, 10, int(i+1))\n",
    "            plt_ud_point_multiple(df_1424,i + i_s*block_num)\n",
    "\n",
    "    # SAVE 30 images in one figure block #\n",
    "#     plt.savefig(fig_name, bbox_inches='tight', pad_inches=0)"
   ]
  },
  {
   "cell_type": "code",
   "execution_count": null,
   "metadata": {},
   "outputs": [],
   "source": []
  },
  {
   "cell_type": "code",
   "execution_count": null,
   "metadata": {},
   "outputs": [],
   "source": []
  },
  {
   "cell_type": "code",
   "execution_count": null,
   "metadata": {},
   "outputs": [],
   "source": []
  },
  {
   "cell_type": "markdown",
   "metadata": {},
   "source": [
    "### List of bad samples"
   ]
  },
  {
   "cell_type": "code",
   "execution_count": null,
   "metadata": {},
   "outputs": [],
   "source": [
    "#bad smaples\n",
    "1.點不在熱圖上: \n",
    "67/ 170/ 235/ 245/ 313/ 373/ 410/ 478/ 625/ 637/ 656/ 662/ 801/ 826/ 872/ 891/ 933/ 953\n",
    "2.點極端偏左偏右不在長軸上: \n",
    "749/ 589/ 751/ 609/ 404/ 649/ 797/ 685/ 83/ 171/ 600\n",
    "圖片經確認，請皆忽略不使用（+image_0980.png）\n",
    "\n",
    "total:30 bad samples\n",
    "\n",
    "副檔名可能為jpg/JPG or png/PNG 需要自行檢查\n",
    "\n",
    "\n",
    "https://stackoverflow.com/questions/46715379/remove-rows-of-dataframe-of-values-in-a-list-present-in-another-list"
   ]
  },
  {
   "cell_type": "markdown",
   "metadata": {},
   "source": [
    "### Check bad sampls\n",
    "\n",
    "* plot each bad samples for double check."
   ]
  },
  {
   "cell_type": "code",
   "execution_count": 33,
   "metadata": {},
   "outputs": [
    {
     "data": {
      "text/plain": [
       "1424"
      ]
     },
     "execution_count": 33,
     "metadata": {},
     "output_type": "execute_result"
    }
   ],
   "source": [
    "df_merge = 'annotation_1424_merge.csv'\n",
    "df_merge= pd.read_csv(df_merge)\n",
    "len(df_merge)"
   ]
  },
  {
   "cell_type": "code",
   "execution_count": 34,
   "metadata": {},
   "outputs": [
    {
     "ename": "NameError",
     "evalue": "name 'plt_ud_point' is not defined",
     "output_type": "error",
     "traceback": [
      "\u001b[0;31m---------------------------------------------------------------------------\u001b[0m",
      "\u001b[0;31mNameError\u001b[0m                                 Traceback (most recent call last)",
      "\u001b[0;32m<ipython-input-34-beba82f90e86>\u001b[0m in \u001b[0;36m<module>\u001b[0;34m\u001b[0m\n\u001b[1;32m      1\u001b[0m \u001b[0mind\u001b[0m \u001b[0;34m=\u001b[0m \u001b[0;36m982\u001b[0m\u001b[0;34m\u001b[0m\u001b[0;34m\u001b[0m\u001b[0m\n\u001b[0;32m----> 2\u001b[0;31m \u001b[0mplt_ud_point\u001b[0m\u001b[0;34m(\u001b[0m\u001b[0mdf_merge\u001b[0m\u001b[0;34m,\u001b[0m\u001b[0mind\u001b[0m \u001b[0;34m-\u001b[0m\u001b[0;36m1\u001b[0m\u001b[0;34m)\u001b[0m\u001b[0;34m\u001b[0m\u001b[0;34m\u001b[0m\u001b[0m\n\u001b[0m",
      "\u001b[0;31mNameError\u001b[0m: name 'plt_ud_point' is not defined"
     ]
    }
   ],
   "source": [
    "ind = 982\n",
    "plt_ud_point(df_merge,ind -1)"
   ]
  },
  {
   "cell_type": "code",
   "execution_count": null,
   "metadata": {},
   "outputs": [],
   "source": [
    "# for 6a image, 6069 --> 1069 for index #\n",
    "# or 69 with +999 for 6a's 6069\n",
    "ind = 420\n",
    "plt_ud_point(df_merge,ind + 999)"
   ]
  },
  {
   "cell_type": "code",
   "execution_count": null,
   "metadata": {},
   "outputs": [],
   "source": []
  },
  {
   "cell_type": "code",
   "execution_count": null,
   "metadata": {},
   "outputs": [],
   "source": []
  },
  {
   "cell_type": "code",
   "execution_count": null,
   "metadata": {},
   "outputs": [],
   "source": []
  },
  {
   "cell_type": "code",
   "execution_count": null,
   "metadata": {},
   "outputs": [],
   "source": []
  },
  {
   "cell_type": "code",
   "execution_count": null,
   "metadata": {},
   "outputs": [],
   "source": []
  },
  {
   "cell_type": "code",
   "execution_count": null,
   "metadata": {},
   "outputs": [],
   "source": [
    "\"\"\"\n",
    "Here the df_merge list for 1~1000 and 6001~6004,\n",
    "but we are give it as index, so need -5001 for 6a samples.\n",
    "\"\"\"\n",
    "print(\"bad_sample_list : \", len(bad_sample_list))\n",
    "plt.figure(figsize=(18, 35))\n",
    "for i, ele in enumerate(bad_sample_list):\n",
    "#     print(i, ele)\n",
    "    if ele > 1000:\n",
    "        ax = plt.subplot(8, 10, int(i+1))\n",
    "        plt_ud_point_multiple(df_merge,ele-5001)\n",
    "    else:\n",
    "        ax = plt.subplot(8, 10, int(i+1))\n",
    "        plt_ud_point_multiple(df_merge,ele-1)"
   ]
  },
  {
   "cell_type": "code",
   "execution_count": null,
   "metadata": {},
   "outputs": [],
   "source": [
    "\"\"\"\n",
    "依照前人找出的類型，應該還有更多類似標註存在需要被從訓練集中刪除。\n",
    "\"\"\""
   ]
  },
  {
   "cell_type": "markdown",
   "metadata": {},
   "source": [
    "### Create bad sample list"
   ]
  },
  {
   "cell_type": "code",
   "execution_count": null,
   "metadata": {},
   "outputs": [],
   "source": [
    "# Fist bad list\n",
    "# bad_sample_list=[67, 170, 235, 245, 313, 373, 410, 478, 625, 637, 656, 662, 801, 826, 872, 891, 933, 953, 749, 589, 751, 609, 404, 649, 797, 685, 83, 171, 600, 980]\n",
    "# bad_sample_list[:5]\n",
    "\n",
    "# # 2nd bas list\n",
    "# bad_sample_list=[96,\n",
    "#                  136,\n",
    "#                  202,\n",
    "#                  226,\n",
    "#                  227,\n",
    "#                  262,\n",
    "#                  357,\n",
    "#                  413,\n",
    "#                  471,\n",
    "#                  477,\n",
    "#                  497,\n",
    "#                  481,\n",
    "#                  485,\n",
    "#                  486,\n",
    "#                  520,\n",
    "#                  598,\n",
    "#                  623,\n",
    "#                  624,\n",
    "#                  633,\n",
    "#                  639,\n",
    "#                  647,\n",
    "#                  654,\n",
    "#                  663,\n",
    "#                  692,\n",
    "#                  699,\n",
    "#                  719,\n",
    "#                  811,\n",
    "#                  818,\n",
    "#                  886,\n",
    "#                  888,\n",
    "#                  910,\n",
    "#                  968,\n",
    "#                  982,\n",
    "#                  6077,\n",
    "#                  6078,\n",
    "#                  6079,\n",
    "#                  6091,\n",
    "#                  6093,6094,6111,6115,6162,6168,6170,6281,6349,6353,6359,6420\n",
    "#                 ]\n",
    "\n",
    "\n",
    "# 2nd bas list 30+ 49 = 79 -> 1345 current best\n",
    "# bad_sample_list=[67, 170, 235, 245, 313, 373, 410, 478, 625, 637, 656, 662, 801, 826, \n",
    "#                 872, 891, 933, 953, 749, 589, 751, 609, 404, 649, 797, 685, 83, 171, 600, 980,\n",
    "#                 96,\n",
    "#                  136,\n",
    "#                  202,\n",
    "#                  226,\n",
    "#                  227,\n",
    "#                  262,\n",
    "#                  357,\n",
    "#                  413,\n",
    "#                  471,\n",
    "#                  477,\n",
    "#                  497,\n",
    "#                  481,\n",
    "#                  485,\n",
    "#                  486,\n",
    "#                  520,\n",
    "#                  598,\n",
    "#                  623,\n",
    "#                  624,\n",
    "#                  633,\n",
    "#                  639,\n",
    "#                  647,\n",
    "#                  654,\n",
    "#                  663,\n",
    "#                  692,\n",
    "#                  699,\n",
    "#                  719,\n",
    "#                  811,\n",
    "#                  818,\n",
    "#                  886,\n",
    "#                  888,\n",
    "#                  910,\n",
    "#                  968,\n",
    "#                  982,\n",
    "#                  6077,\n",
    "#                  6078,\n",
    "#                  6079,\n",
    "#                  6091,\n",
    "#                  6093,6094,6111,6115,6162,6168,6170,6281,6349,6353,6359,6420\n",
    "#                 ]\n",
    "\n",
    "\n",
    "# # 2nd bas list 30+ 49 = 79 -> 1345 current best [re-ordering] 404,413,589, is good. 6281\n",
    "# bad_sample_list=[67, 83, 96, 170, 171, 235, 245, 313, 373, 404, 410, 478, \n",
    "#                  589, 600, 609, 625, 637, 649, 656, 662, \n",
    "#                  685, 749, 751, 797, 801, 826, 872, 891, 933, 953, 980,\n",
    "#                  136,\n",
    "#                  202,\n",
    "#                  226,\n",
    "#                  227,\n",
    "#                  262,\n",
    "#                  357,\n",
    "#                  413,\n",
    "#                  471,\n",
    "#                  477,\n",
    "#                  497,\n",
    "#                  481,\n",
    "#                  485,\n",
    "#                  486,\n",
    "#                  520,\n",
    "#                  598,\n",
    "#                  623,\n",
    "#                  624,\n",
    "#                  633,\n",
    "#                  639,\n",
    "#                  647,\n",
    "#                  654,\n",
    "#                  663,\n",
    "#                  692,\n",
    "#                  699,\n",
    "#                  719,\n",
    "#                  811,\n",
    "#                  818,\n",
    "#                  886,\n",
    "#                  888,\n",
    "#                  910,\n",
    "#                  968,\n",
    "#                  982,\n",
    "#                  6077,\n",
    "#                  6078,\n",
    "#                  6079,\n",
    "#                  6091,\n",
    "#                  6093,6094,6111,6115,6162,6168,6170,6281,6349,6353,6359,6420\n",
    "#                 ]\n",
    "\n",
    "\n",
    "# bad_sample_list[:5]"
   ]
  },
  {
   "cell_type": "code",
   "execution_count": null,
   "metadata": {},
   "outputs": [],
   "source": [
    "# # 2020-01-26\n",
    "# # HPL's v1 bad list\n",
    "# # 301\n",
    "# bad_sample_list=[9,\n",
    "# 6,\n",
    "# 7,\n",
    "# 21,\n",
    "# 49,\n",
    "# 50,\n",
    "# 51,\n",
    "# 55,\n",
    "# 57,\n",
    "# 60,\n",
    "# 61,\n",
    "# 63,\n",
    "# 67,\n",
    "# 73,\n",
    "# 74,\n",
    "# 75,\n",
    "# 82,\n",
    "# 83,\n",
    "# 85,\n",
    "# 86,\n",
    "# 95,\n",
    "# 96,\n",
    "# 103,\n",
    "# 122,\n",
    "# 136,\n",
    "# 139,\n",
    "# 143,\n",
    "# 144,\n",
    "# 145,\n",
    "# 147,\n",
    "# 148,\n",
    "# 159,\n",
    "# 165,\n",
    "# 166,\n",
    "# 170,\n",
    "# 171,\n",
    "# 173,\n",
    "# 177,\n",
    "# 179,\n",
    "# 183,\n",
    "# 187,\n",
    "# 193,\n",
    "# 195,\n",
    "# 198,\n",
    "# 199,\n",
    "# 202,\n",
    "# 203,\n",
    "# 207,\n",
    "# 225,\n",
    "# 227,\n",
    "# 228,\n",
    "# 230,\n",
    "# 232,\n",
    "# 235,\n",
    "# 236,\n",
    "# 238,\n",
    "# 245,\n",
    "# 252,\n",
    "# 254,\n",
    "# 257,\n",
    "# 261,\n",
    "# 262,\n",
    "# 265,\n",
    "# 267,\n",
    "# 269,\n",
    "# 275,\n",
    "# 276,\n",
    "# 278,\n",
    "# 283,\n",
    "# 291,\n",
    "# 303,\n",
    "# 305,\n",
    "# 313,\n",
    "# 315,\n",
    "# 319,\n",
    "# 321,\n",
    "# 324,\n",
    "# 335,\n",
    "# 337,\n",
    "# 341,\n",
    "# 343,\n",
    "# 354,\n",
    "# 357,\n",
    "# 361,\n",
    "# 363,\n",
    "# 364,\n",
    "# 365,\n",
    "# 369,\n",
    "# 373,\n",
    "# 377,\n",
    "# 393,\n",
    "# 399,\n",
    "# 404,\n",
    "# 407,\n",
    "# 410,\n",
    "# 414,\n",
    "# 425,\n",
    "# 433,\n",
    "# 442,\n",
    "# 445,\n",
    "# 451,\n",
    "# 462,\n",
    "# 467,\n",
    "# 468,\n",
    "# 471,\n",
    "# 477,\n",
    "# 478,\n",
    "# 479,\n",
    "# 480,\n",
    "# 481,\n",
    "# 482,\n",
    "# 484,\n",
    "# 485,\n",
    "# 486,\n",
    "# 487,\n",
    "# 488,\n",
    "# 497,\n",
    "# 498,\n",
    "# 509,\n",
    "# 510,\n",
    "# 517,\n",
    "# 518,\n",
    "# 526,\n",
    "# 527,\n",
    "# 551,\n",
    "# 552,\n",
    "# 553,\n",
    "# 575,\n",
    "# 580,\n",
    "# 588,\n",
    "# 589,\n",
    "# 598,\n",
    "# 599,\n",
    "# 600,\n",
    "# 601,\n",
    "# 607,\n",
    "# 609,\n",
    "# 610,\n",
    "# 611,\n",
    "# 612,\n",
    "# 616,\n",
    "# 617,\n",
    "# 618,\n",
    "# 619,\n",
    "# 621,\n",
    "# 622,\n",
    "# 623,\n",
    "# 624,\n",
    "# 625,\n",
    "# 628,\n",
    "# 629,\n",
    "# 630,\n",
    "# 633,\n",
    "# 636,\n",
    "# 637,\n",
    "# 638,\n",
    "# 646,\n",
    "# 647,\n",
    "# 648,\n",
    "# 649,\n",
    "# 653,\n",
    "# 654,\n",
    "# 655,\n",
    "# 656,\n",
    "# 658,\n",
    "# 659,\n",
    "# 661,\n",
    "# 662,\n",
    "# 663,\n",
    "# 678,\n",
    "# 678,\n",
    "# 685,\n",
    "# 688,\n",
    "# 690,\n",
    "# 698,\n",
    "# 699,\n",
    "# 700,701,\n",
    "# 708,\n",
    "# 709,\n",
    "# 712,\n",
    "# 719,\n",
    "# 734,\n",
    "# 737,\n",
    "# 742,\n",
    "# 744,\n",
    "# 745,\n",
    "# 746,\n",
    "# 747,\n",
    "# 748,\n",
    "# 749,\n",
    "# 751,\n",
    "# 752,\n",
    "# 754,\n",
    "# 760,\n",
    "# 761,\n",
    "# 762,\n",
    "# 763,\n",
    "# 765,\n",
    "# 766,\n",
    "# 767,\n",
    "# 768,\n",
    "# 769,\n",
    "# 785,\n",
    "# 787,\n",
    "# 788,\n",
    "# 789,\n",
    "# 797,\n",
    "# 801,\n",
    "# 804,\n",
    "# 805,\n",
    "# 808,\n",
    "# 810,\n",
    "# 811,\n",
    "# 814,\n",
    "# 816,\n",
    "# 818,\n",
    "# 826,\n",
    "# 832,\n",
    "# 848,\n",
    "# 855,\n",
    "# 872,\n",
    "# 874,\n",
    "# 877,\n",
    "# 878,\n",
    "# 882,\n",
    "# 884,\n",
    "# 886,\n",
    "# 891,\n",
    "# 895,\n",
    "# 902,\n",
    "# 910,\n",
    "# 917,\n",
    "# 930,\n",
    "# 933,\n",
    "# 937,\n",
    "# 944,\n",
    "# 951,\n",
    "# 952,\n",
    "# 962,\n",
    "# 968,\n",
    "# 972,\n",
    "# 974,\n",
    "# 980,\n",
    "# 982,\n",
    "# 985,\n",
    "# 989,\n",
    "# 990,\n",
    "# 6006,\n",
    "# 6021,\n",
    "# 6024,\n",
    "# 6031,\n",
    "# 6032,\n",
    "# 6037,\n",
    "# 6049,\n",
    "# 6053,\n",
    "# 6060,\n",
    "# 6063,\n",
    "# 6075,\n",
    "# 6079,\n",
    "# 6083,\n",
    "# 6091,\n",
    "# 6093,\n",
    "# 6094,\n",
    "# 6098,\n",
    "# 6105,\n",
    "# 6111,\n",
    "# 6115,\n",
    "# 6117,\n",
    "# 6127,\n",
    "# 6128,\n",
    "# 6133,\n",
    "# 6134,\n",
    "# 6162,\n",
    "# 6168,\n",
    "# 6169,\n",
    "# 6170,\n",
    "# 6183,\n",
    "# 6184,\n",
    "# 6195,\n",
    "# 6203,\n",
    "# 6205,\n",
    "# 6220,\n",
    "# 6240,\n",
    "# 6246,\n",
    "# 6281,\n",
    "# 6287,\n",
    "# 6299,\n",
    "# 6317,\n",
    "# 6318,\n",
    "# 6321,\n",
    "# 6327,\n",
    "# 6329,\n",
    "# 6330,\n",
    "# 6331,\n",
    "# 6349,\n",
    "# 6359,\n",
    "# 6365,\n",
    "# 6371,\n",
    "# 6372,\n",
    "# 6406,\n",
    "# 6420\n",
    "#                 ]"
   ]
  },
  {
   "cell_type": "code",
   "execution_count": 41,
   "metadata": {},
   "outputs": [
    {
     "data": {
      "text/plain": [
       "[6296, 6359, 6420]"
      ]
     },
     "execution_count": 41,
     "metadata": {},
     "output_type": "execute_result"
    }
   ],
   "source": [
    "# # HPLv2 TOE\n",
    "# bad_sample_list=[50,\n",
    "# 61,\n",
    "# 67,\n",
    "# 75,\n",
    "# 83,\n",
    "# 96,\n",
    "# 122,\n",
    "# 136,\n",
    "# 147,\n",
    "# 170,\n",
    "# 171,\n",
    "# 173,\n",
    "# 198,\n",
    "# 202,\n",
    "# 226,\n",
    "# 227,\n",
    "# 228,\n",
    "# 235,\n",
    "# 245,\n",
    "# 262,\n",
    "# 265,\n",
    "# 275,\n",
    "# 278,\n",
    "# 291,\n",
    "# 303,\n",
    "# 313,\n",
    "# 324,\n",
    "# 335,\n",
    "# 357,\n",
    "# 369,\n",
    "# 373,\n",
    "# 410,\n",
    "# 451,\n",
    "# 467,\n",
    "# 471,\n",
    "# 477,\n",
    "# 478,\n",
    "# 479,\n",
    "# 485,\n",
    "# 520,\n",
    "# 526,\n",
    "# 552,\n",
    "# 580,\n",
    "# 598,\n",
    "# 600,\n",
    "# 609,\n",
    "# 610,\n",
    "# 616,\n",
    "# 617,\n",
    "# 621,\n",
    "# 623,\n",
    "# 624,\n",
    "# 625,\n",
    "# 633,\n",
    "# 637,\n",
    "# 647,\n",
    "# 649,\n",
    "# 653,\n",
    "# 654,\n",
    "# 655,\n",
    "# 656,\n",
    "# 662,\n",
    "# 663,\n",
    "# 685,\n",
    "# 699,\n",
    "# 734,\n",
    "# 747,\n",
    "# 748,\n",
    "# 749,\n",
    "# 751,\n",
    "# 787,\n",
    "# 797,\n",
    "# 801,\n",
    "# 811,\n",
    "# 816,\n",
    "# 818,\n",
    "# 826,\n",
    "# 855,\n",
    "# 872,\n",
    "# 877,\n",
    "# 882,\n",
    "# 884,\n",
    "# 886,\n",
    "# 888,\n",
    "# 891,\n",
    "# 910,\n",
    "# 933,\n",
    "# 937,\n",
    "# 940,\n",
    "# 950,\n",
    "# 951,\n",
    "# 952,\n",
    "# 953,\n",
    "# 968,\n",
    "# 982,\n",
    "# 972,\n",
    "# 980,\n",
    "# 982,\n",
    "# 985,\n",
    "# 6032,\n",
    "# 6079,\n",
    "# 6083,\n",
    "# 6091,\n",
    "# 6093,\n",
    "# 6094,\n",
    "# 6111,\n",
    "# 6115,\n",
    "# 6162,\n",
    "# 6168,\n",
    "# 6169,\n",
    "# 6170,\n",
    "# 6195,\n",
    "# 6240,\n",
    "# 6246,\n",
    "# 6281,\n",
    "# 6296,\n",
    "# 6359,\n",
    "# 6420]\n",
    "\n",
    "\n",
    "# bad_sample_list[115:118]"
   ]
  },
  {
   "cell_type": "code",
   "execution_count": 57,
   "metadata": {},
   "outputs": [
    {
     "data": {
      "text/plain": [
       "[57,\n",
       " 73,\n",
       " 148,\n",
       " 198,\n",
       " 199,\n",
       " 230,\n",
       " 257,\n",
       " 418,\n",
       " 477,\n",
       " 479,\n",
       " 481,\n",
       " 486,\n",
       " 692,\n",
       " 719,\n",
       " 731,\n",
       " 767,\n",
       " 821,\n",
       " 980,\n",
       " 6211]"
      ]
     },
     "execution_count": 57,
     "metadata": {},
     "output_type": "execute_result"
    }
   ],
   "source": [
    "# HPLv2 HEEL\n",
    "bad_sample_list=[57,\n",
    "73,\n",
    "148,\n",
    "198,\n",
    "199,\n",
    "230,\n",
    "257,\n",
    "418,\n",
    "477,\n",
    "479,\n",
    "481,\n",
    "486,\n",
    "692,\n",
    "719,\n",
    "731,\n",
    "767,\n",
    "821,\n",
    "980,\n",
    "6211]\n",
    "\n",
    "\n",
    "bad_sample_list[:]"
   ]
  },
  {
   "cell_type": "code",
   "execution_count": 58,
   "metadata": {},
   "outputs": [
    {
     "name": "stdout",
     "output_type": "stream",
     "text": [
      "Length of bad list: 19\n"
     ]
    }
   ],
   "source": [
    "print(\"Length of bad list: {}\".format(len(bad_sample_list)))"
   ]
  },
  {
   "cell_type": "code",
   "execution_count": 59,
   "metadata": {},
   "outputs": [
    {
     "data": {
      "text/plain": [
       "['image_0057.JPG',\n",
       " 'image_0057.jpg',\n",
       " 'image_0057.png',\n",
       " 'image_0057.PNG',\n",
       " 'image_0073.JPG']"
      ]
     },
     "execution_count": 59,
     "metadata": {},
     "output_type": "execute_result"
    }
   ],
   "source": [
    "bad_sample_list_name = [\"image_{:04d}.{}\".format(x,i_fmt) for x in bad_sample_list for i_fmt in ['JPG','jpg','png','PNG'] ]\n",
    "bad_sample_list_name[:5]"
   ]
  },
  {
   "cell_type": "code",
   "execution_count": 60,
   "metadata": {},
   "outputs": [
    {
     "data": {
      "text/plain": [
       "76"
      ]
     },
     "execution_count": 60,
     "metadata": {},
     "output_type": "execute_result"
    }
   ],
   "source": [
    "len(bad_sample_list_name)"
   ]
  },
  {
   "cell_type": "code",
   "execution_count": 61,
   "metadata": {},
   "outputs": [
    {
     "name": "stdout",
     "output_type": "stream",
     "text": [
      "train/images/image_0170.jpg\n"
     ]
    },
    {
     "data": {
      "text/plain": [
       "True"
      ]
     },
     "execution_count": 61,
     "metadata": {},
     "output_type": "execute_result"
    }
   ],
   "source": [
    "path = \"train/images/\" + 'image_0170.jpg'\n",
    "print(path)\n",
    "os.path.isfile(path)"
   ]
  },
  {
   "cell_type": "code",
   "execution_count": 62,
   "metadata": {},
   "outputs": [
    {
     "data": {
      "text/plain": [
       "['image_0057.png',\n",
       " 'image_0073.png',\n",
       " 'image_0148.png',\n",
       " 'image_0198.jpg',\n",
       " 'image_0199.jpg']"
      ]
     },
     "execution_count": 62,
     "metadata": {},
     "output_type": "execute_result"
    }
   ],
   "source": [
    "# List Comprehension \n",
    "bad_sample_list_name_fmt = [f for f in bad_sample_list_name if os.path.isfile(\"train/images/\" + f)]\n",
    "bad_sample_list_name_fmt[:5]"
   ]
  },
  {
   "cell_type": "code",
   "execution_count": 63,
   "metadata": {},
   "outputs": [
    {
     "name": "stdout",
     "output_type": "stream",
     "text": [
      "Length of bad list: 19\n"
     ]
    }
   ],
   "source": [
    "print(\"Length of bad list: {}\".format(len(bad_sample_list_name_fmt)))"
   ]
  },
  {
   "cell_type": "markdown",
   "metadata": {},
   "source": [
    "#### Filter out the bad sample from DF"
   ]
  },
  {
   "cell_type": "code",
   "execution_count": 64,
   "metadata": {},
   "outputs": [],
   "source": [
    "# # test data frame pop out the bas list\n",
    "# df_bad_filtered = df[df.images == \"image_0001.png\"]\n",
    "# df_bad_filtered"
   ]
  },
  {
   "cell_type": "code",
   "execution_count": 65,
   "metadata": {},
   "outputs": [],
   "source": [
    "df_good_sample = df_merge[[all([x not in bad_sample_list_name_fmt]) for x in df_merge['images']]]"
   ]
  },
  {
   "cell_type": "code",
   "execution_count": 66,
   "metadata": {
    "scrolled": true
   },
   "outputs": [
    {
     "name": "stdout",
     "output_type": "stream",
     "text": [
      "[[True], [True], [True], [True], [True], [True], [True], [True], [True], [True], [True], [True], [True], [True], [True], [True], [True], [True], [True], [True], [True], [True], [True], [True], [True], [True], [True], [True], [True], [True], [True], [True], [True], [True], [True], [True], [True], [True], [True], [True], [True], [True], [True], [True], [True], [True], [True], [True], [True], [True], [True], [True], [True], [True], [True], [True], [False], [True], [True], [True], [True], [True], [True], [True], [True], [True], [True], [True], [True], [True], [True], [True], [False], [True], [True], [True], [True], [True], [True], [True], [True], [True], [True], [True], [True], [True], [True], [True], [True], [True], [True], [True], [True], [True], [True], [True], [True], [True], [True], [True], [True], [True], [True], [True], [True], [True], [True], [True], [True], [True], [True], [True], [True], [True], [True], [True], [True], [True], [True], [True], [True], [True], [True], [True], [True], [True], [True], [True], [True], [True], [True], [True], [True], [True], [True], [True], [True], [True], [True], [True], [True], [True], [True], [True], [True], [True], [True], [False], [True], [True], [True], [True], [True], [True], [True], [True], [True], [True], [True], [True], [True], [True], [True], [True], [True], [True], [True], [True], [True], [True], [True], [True], [True], [True], [True], [True], [True], [True], [True], [True], [True], [True], [True], [True], [True], [True], [True], [True], [True], [True], [True], [True], [True], [True], [True], [True], [True], [False], [False], [True], [True], [True], [True], [True], [True], [True], [True], [True], [True], [True], [True], [True], [True], [True], [True], [True], [True], [True], [True], [True], [True], [True], [True], [True], [True], [True], [True], [True], [True], [False], [True], [True], [True], [True], [True], [True], [True], [True], [True], [True], [True], [True], [True], [True], [True], [True], [True], [True], [True], [True], [True], [True], [True], [True], [True], [True], [False], [True], [True], [True], [True], [True], [True], [True], [True], [True], [True], [True], [True], [True], [True], [True], [True], [True], [True], [True], [True], [True], [True], [True], [True], [True], [True], [True], [True], [True], [True], [True], [True], [True], [True], [True], [True], [True], [True], [True], [True], [True], [True], [True], [True], [True], [True], [True], [True], [True], [True], [True], [True], [True], [True], [True], [True], [True], [True], [True], [True], [True], [True], [True], [True], [True], [True], [True], [True], [True], [True], [True], [True], [True], [True], [True], [True], [True], [True], [True], [True], [True], [True], [True], [True], [True], [True], [True], [True], [True], [True], [True], [True], [True], [True], [True], [True], [True], [True], [True], [True], [True], [True], [True], [True], [True], [True], [True], [True], [True], [True], [True], [True], [True], [True], [True], [True], [True], [True], [True], [True], [True], [True], [True], [True], [True], [True], [True], [True], [True], [True], [True], [True], [True], [True], [True], [True], [True], [True], [True], [True], [True], [True], [True], [True], [True], [True], [True], [True], [True], [True], [True], [True], [True], [True], [True], [True], [True], [True], [True], [True], [False], [True], [True], [True], [True], [True], [True], [True], [True], [True], [True], [True], [True], [True], [True], [True], [True], [True], [True], [True], [True], [True], [True], [True], [True], [True], [True], [True], [True], [True], [True], [True], [True], [True], [True], [True], [True], [True], [True], [True], [True], [True], [True], [True], [True], [True], [True], [True], [True], [True], [True], [True], [True], [True], [True], [True], [True], [True], [True], [False], [True], [False], [True], [False], [True], [True], [True], [True], [False], [True], [True], [True], [True], [True], [True], [True], [True], [True], [True], [True], [True], [True], [True], [True], [True], [True], [True], [True], [True], [True], [True], [True], [True], [True], [True], [True], [True], [True], [True], [True], [True], [True], [True], [True], [True], [True], [True], [True], [True], [True], [True], [True], [True], [True], [True], [True], [True], [True], [True], [True], [True], [True], [True], [True], [True], [True], [True], [True], [True], [True], [True], [True], [True], [True], [True], [True], [True], [True], [True], [True], [True], [True], [True], [True], [True], [True], [True], [True], [True], [True], [True], [True], [True], [True], [True], [True], [True], [True], [True], [True], [True], [True], [True], [True], [True], [True], [True], [True], [True], [True], [True], [True], [True], [True], [True], [True], [True], [True], [True], [True], [True], [True], [True], [True], [True], [True], [True], [True], [True], [True], [True], [True], [True], [True], [True], [True], [True], [True], [True], [True], [True], [True], [True], [True], [True], [True], [True], [True], [True], [True], [True], [True], [True], [True], [True], [True], [True], [True], [True], [True], [True], [True], [True], [True], [True], [True], [True], [True], [True], [True], [True], [True], [True], [True], [True], [True], [True], [True], [True], [True], [True], [True], [True], [True], [True], [True], [True], [True], [True], [True], [True], [True], [True], [True], [True], [True], [True], [True], [True], [True], [True], [True], [True], [True], [True], [True], [True], [True], [True], [True], [True], [True], [True], [True], [False], [True], [True], [True], [True], [True], [True], [True], [True], [True], [True], [True], [True], [True], [True], [True], [True], [True], [True], [True], [True], [True], [True], [True], [True], [True], [True], [False], [True], [True], [True], [True], [True], [True], [True], [True], [True], [True], [True], [False], [True], [True], [True], [True], [True], [True], [True], [True], [True], [True], [True], [True], [True], [True], [True], [True], [True], [True], [True], [True], [True], [True], [True], [True], [True], [True], [True], [True], [True], [True], [True], [True], [True], [True], [True], [False], [True], [True], [True], [True], [True], [True], [True], [True], [True], [True], [True], [True], [True], [True], [True], [True], [True], [True], [True], [True], [True], [True], [True], [True], [True], [True], [True], [True], [True], [True], [True], [True], [True], [True], [True], [True], [True], [True], [True], [True], [True], [True], [True], [True], [True], [True], [True], [True], [True], [True], [True], [True], [True], [False], [True], [True], [True], [True], [True], [True], [True], [True], [True], [True], [True], [True], [True], [True], [True], [True], [True], [True], [True], [True], [True], [True], [True], [True], [True], [True], [True], [True], [True], [True], [True], [True], [True], [True], [True], [True], [True], [True], [True], [True], [True], [True], [True], [True], [True], [True], [True], [True], [True], [True], [True], [True], [True], [True], [True], [True], [True], [True], [True], [True], [True], [True], [True], [True], [True], [True], [True], [True], [True], [True], [True], [True], [True], [True], [True], [True], [True], [True], [True], [True], [True], [True], [True], [True], [True], [True], [True], [True], [True], [True], [True], [True], [True], [True], [True], [True], [True], [True], [True], [True], [True], [True], [True], [True], [True], [True], [True], [True], [True], [True], [True], [True], [True], [True], [True], [True], [True], [True], [True], [True], [True], [True], [True], [True], [True], [True], [True], [True], [True], [True], [True], [True], [True], [True], [True], [True], [True], [True], [True], [True], [True], [True], [True], [True], [True], [True], [True], [True], [True], [True], [True], [True], [True], [True], [True], [True], [True], [True], [False], [True], [True], [True], [True], [True], [True], [True], [True], [True], [True], [True], [True], [True], [True], [True], [True], [True], [True], [True], [True]]\n"
     ]
    }
   ],
   "source": [
    "print([[x not in bad_sample_list_name_fmt] for x in df['images']])"
   ]
  },
  {
   "cell_type": "code",
   "execution_count": 67,
   "metadata": {},
   "outputs": [
    {
     "name": "stdout",
     "output_type": "stream",
     "text": [
      "56      image_0057.png\n",
      "72      image_0073.png\n",
      "147     image_0148.png\n",
      "197     image_0198.jpg\n",
      "198     image_0199.jpg\n",
      "229     image_0230.png\n",
      "256     image_0257.png\n",
      "417     image_0418.png\n",
      "476     image_0477.png\n",
      "478     image_0479.png\n",
      "480     image_0481.png\n",
      "485     image_0486.png\n",
      "691     image_0692.png\n",
      "718     image_0719.png\n",
      "730     image_0731.png\n",
      "766     image_0767.png\n",
      "820     image_0821.png\n",
      "979     image_0980.png\n",
      "1210    image_6211.jpg\n",
      "Name: images, dtype: object\n"
     ]
    }
   ],
   "source": [
    "# remove x not in bad_sample_list_name_fmt, to show bad name only\n",
    "print(df_merge[[all([x in bad_sample_list_name_fmt]) for x in df_merge['images']]].images)"
   ]
  },
  {
   "cell_type": "markdown",
   "metadata": {},
   "source": [
    "### A fun to merge all tasks of bad sample remove"
   ]
  },
  {
   "cell_type": "code",
   "execution_count": 68,
   "metadata": {},
   "outputs": [],
   "source": [
    "def remove_bad_samples(df):\n",
    "    BAL = bad_sample_list\n",
    "    bad_sample_list_name = [\"image_{:04d}.{}\".format(x,i_fmt) for x in BAL for i_fmt in ['JPG','jpg','png','PNG'] ]\n",
    "    bad_sample_list_name_fmt = [f for f in bad_sample_list_name if os.path.isfile(\"train/images/\" + f)]\n",
    "    #df_good_sample =df[[all([x not in bad_sample_list_name_fmt]) for x in df['images']]]\n",
    "    return df[[all([x not in bad_sample_list_name_fmt]) for x in df['images']]]"
   ]
  },
  {
   "cell_type": "code",
   "execution_count": 69,
   "metadata": {},
   "outputs": [
    {
     "name": "stdout",
     "output_type": "stream",
     "text": [
      "Length of good_df list: 1405\n"
     ]
    }
   ],
   "source": [
    "test_df_all_good = remove_bad_samples(df_merge)\n",
    "print(\"Length of good_df list: {}\".format(len(test_df_all_good)))\n"
   ]
  },
  {
   "cell_type": "code",
   "execution_count": 70,
   "metadata": {},
   "outputs": [],
   "source": [
    "# df_good_sample =df[[all([x not in bad_sample_list_name_fmt for x in df['images']])]]"
   ]
  },
  {
   "cell_type": "code",
   "execution_count": 71,
   "metadata": {},
   "outputs": [
    {
     "data": {
      "text/plain": [
       "1405"
      ]
     },
     "execution_count": 71,
     "metadata": {},
     "output_type": "execute_result"
    }
   ],
   "source": [
    "\"\"\"1424 - 79\n",
    "= 1345\"\"\"\n",
    "len(df_good_sample)"
   ]
  },
  {
   "cell_type": "code",
   "execution_count": 72,
   "metadata": {},
   "outputs": [
    {
     "data": {
      "text/html": [
       "<div>\n",
       "<style scoped>\n",
       "    .dataframe tbody tr th:only-of-type {\n",
       "        vertical-align: middle;\n",
       "    }\n",
       "\n",
       "    .dataframe tbody tr th {\n",
       "        vertical-align: top;\n",
       "    }\n",
       "\n",
       "    .dataframe thead th {\n",
       "        text-align: right;\n",
       "    }\n",
       "</style>\n",
       "<table border=\"1\" class=\"dataframe\">\n",
       "  <thead>\n",
       "    <tr style=\"text-align: right;\">\n",
       "      <th></th>\n",
       "      <th>images</th>\n",
       "      <th>x1</th>\n",
       "      <th>y1</th>\n",
       "      <th>x2</th>\n",
       "      <th>y2</th>\n",
       "    </tr>\n",
       "  </thead>\n",
       "  <tbody>\n",
       "    <tr>\n",
       "      <th>66</th>\n",
       "      <td>image_0067.png</td>\n",
       "      <td>52</td>\n",
       "      <td>155</td>\n",
       "      <td>78</td>\n",
       "      <td>374</td>\n",
       "    </tr>\n",
       "    <tr>\n",
       "      <th>67</th>\n",
       "      <td>image_0068.png</td>\n",
       "      <td>53</td>\n",
       "      <td>156</td>\n",
       "      <td>32</td>\n",
       "      <td>372</td>\n",
       "    </tr>\n",
       "    <tr>\n",
       "      <th>68</th>\n",
       "      <td>image_0069.png</td>\n",
       "      <td>57</td>\n",
       "      <td>148</td>\n",
       "      <td>85</td>\n",
       "      <td>382</td>\n",
       "    </tr>\n",
       "  </tbody>\n",
       "</table>\n",
       "</div>"
      ],
      "text/plain": [
       "            images  x1   y1  x2   y2\n",
       "66  image_0067.png  52  155  78  374\n",
       "67  image_0068.png  53  156  32  372\n",
       "68  image_0069.png  57  148  85  382"
      ]
     },
     "execution_count": 72,
     "metadata": {},
     "output_type": "execute_result"
    }
   ],
   "source": [
    "# check 67\n",
    "df_good_sample[65:68]"
   ]
  },
  {
   "cell_type": "code",
   "execution_count": null,
   "metadata": {},
   "outputs": [],
   "source": [
    "#check image_0980.png\n",
    "df_good_sample[949:955]"
   ]
  },
  {
   "cell_type": "code",
   "execution_count": null,
   "metadata": {},
   "outputs": [],
   "source": [
    "#check index for df_good_sample \n",
    "\n",
    "df_good_sample.tail(5)"
   ]
  },
  {
   "cell_type": "code",
   "execution_count": null,
   "metadata": {},
   "outputs": [],
   "source": [
    "df_good_sample = df_good_sample.reset_index(drop=True)"
   ]
  },
  {
   "cell_type": "code",
   "execution_count": null,
   "metadata": {},
   "outputs": [],
   "source": [
    "#check index for df_good_sample \n",
    "\n",
    "df_good_sample.tail(5)"
   ]
  },
  {
   "cell_type": "code",
   "execution_count": null,
   "metadata": {},
   "outputs": [],
   "source": [
    "print(\"Length of GOOD list: {}\".format(len(df_good_sample)))"
   ]
  },
  {
   "cell_type": "markdown",
   "metadata": {},
   "source": [
    "## Save to good annotation 'annotation_1345_good.csv'"
   ]
  },
  {
   "cell_type": "code",
   "execution_count": 73,
   "metadata": {},
   "outputs": [],
   "source": [
    "#1345, annotation_1345_good.csv\n",
    "# df_good_sample.to_csv(f'annotation_{len(df_good_sample)}_HPL_Good.csv', index=False)\n",
    "\n",
    "# hpl v2 toe -117= 1307,  annotation_1307_HPLv2Toe_Good.csv\n",
    "# df_good_sample.to_csv(f'annotation_{len(df_good_sample)}_HPLv2Toe_Good.csv', index=False)\n",
    "\n",
    "# hpl v2 heel = -19,  annotation_1405_HPLv2Heel_Good.csv\n",
    "df_good_sample.to_csv(f'annotation_{len(df_good_sample)}_HPLv2Heel_Good.csv', index=False)"
   ]
  },
  {
   "cell_type": "code",
   "execution_count": 74,
   "metadata": {},
   "outputs": [
    {
     "name": "stdout",
     "output_type": "stream",
     "text": [
      "1424\n"
     ]
    }
   ],
   "source": [
    "!ls -l train/images/image_* | wc -l"
   ]
  },
  {
   "cell_type": "code",
   "execution_count": 75,
   "metadata": {},
   "outputs": [
    {
     "name": "stdout",
     "output_type": "stream",
     "text": [
      "-rw-r--r-- 1 uu TRI108216 32K Jan 26 14:07 annotation_1123_HPL_Good.csv\n",
      "-rw-r--r-- 1 uu TRI108216 38K Mar  2 14:11 annotation_1307_HPLv2Toe_Good.csv\n",
      "-rw-r--r-- 1 uu TRI108216 39K Jan 21 11:14 annotation_1345_good.csv\n",
      "-rw-r--r-- 1 uu TRI108216 40K Mar  2 14:15 annotation_1405_HPLv2Heel_Good.csv\n"
     ]
    }
   ],
   "source": [
    "!ls -lah annotation_*ood.csv"
   ]
  },
  {
   "cell_type": "code",
   "execution_count": null,
   "metadata": {},
   "outputs": [],
   "source": []
  },
  {
   "cell_type": "code",
   "execution_count": null,
   "metadata": {},
   "outputs": [],
   "source": []
  },
  {
   "cell_type": "markdown",
   "metadata": {},
   "source": [
    "### Copy all good list to 'train_augm/images' for augment"
   ]
  },
  {
   "cell_type": "code",
   "execution_count": null,
   "metadata": {},
   "outputs": [],
   "source": [
    "!mkdir train_augm/images"
   ]
  },
  {
   "cell_type": "code",
   "execution_count": null,
   "metadata": {},
   "outputs": [],
   "source": [
    "# df_good_list = pd.read_csv('annotation_1345_good.csv')\n",
    "df_good_list = pd.read_csv('annotation_1424_merge.csv')"
   ]
  },
  {
   "cell_type": "code",
   "execution_count": null,
   "metadata": {},
   "outputs": [],
   "source": [
    "df_good_list.info()"
   ]
  },
  {
   "cell_type": "code",
   "execution_count": null,
   "metadata": {},
   "outputs": [],
   "source": [
    "def copy_good_samples_to_augm(img_name):\n",
    "    \n",
    "    train_path = 'train/images/' + img_name\n",
    "    augm_path = 'train_augm/images/' + img_name   \n",
    "\n",
    "    shutil.copyfile(train_path, augm_path)\n",
    "\n",
    "#     print(f'cp {train_path} ---> {augm_path}')\n"
   ]
  },
  {
   "cell_type": "code",
   "execution_count": null,
   "metadata": {},
   "outputs": [],
   "source": [
    "\"\"\"\n",
    "# Now you can use `progress_apply` instead of `apply`\n",
    "# and `progress_map` instead of `map`\n",
    "\"\"\"\n",
    "tqdm.pandas()"
   ]
  },
  {
   "cell_type": "code",
   "execution_count": null,
   "metadata": {
    "scrolled": true
   },
   "outputs": [],
   "source": [
    "%%time\n",
    "null_df = df_good_list[\"images\"].progress_map(copy_good_samples_to_augm)"
   ]
  },
  {
   "cell_type": "code",
   "execution_count": null,
   "metadata": {},
   "outputs": [],
   "source": [
    "# !rm -rf train_augm/images/*\n",
    "!ls -l train_augm/images/image_* | wc -l"
   ]
  },
  {
   "cell_type": "code",
   "execution_count": null,
   "metadata": {},
   "outputs": [],
   "source": []
  },
  {
   "cell_type": "markdown",
   "metadata": {},
   "source": [
    "## Augmenting training data beforehand\n",
    "\n",
    "####  Depend on the application, the symmetrical foot pressure map should only apply the flipping and noising, and maybe the shift/offset.\n",
    "\n",
    "* duplicate images with flip\n",
    "* name new augmented images with image_6242.png"
   ]
  },
  {
   "cell_type": "code",
   "execution_count": null,
   "metadata": {},
   "outputs": [],
   "source": [
    "# Read full csv\n",
    "# df_good_list = pd.read_csv('annotation_1345_good.csv')\n",
    "df_good_list = pd.read_csv('annotation_1424_merge.csv')"
   ]
  },
  {
   "cell_type": "code",
   "execution_count": null,
   "metadata": {},
   "outputs": [],
   "source": [
    "len(df_good_list)"
   ]
  },
  {
   "cell_type": "code",
   "execution_count": null,
   "metadata": {},
   "outputs": [],
   "source": [
    "df_good_list.head(5)"
   ]
  },
  {
   "cell_type": "code",
   "execution_count": null,
   "metadata": {
    "scrolled": true
   },
   "outputs": [],
   "source": [
    "df_good_list[1340:1346]"
   ]
  },
  {
   "cell_type": "markdown",
   "metadata": {},
   "source": [
    "### Create the Flip name"
   ]
  },
  {
   "cell_type": "code",
   "execution_count": null,
   "metadata": {},
   "outputs": [],
   "source": [
    "def ConvertToFlop(pathToFile, newpathToFile):\n",
    "    #yet, the Flop is for horizontal mirroring, flip is or vertical in ImageMagick.\n",
    "    import subprocess\n",
    "    p = subprocess.Popen(['convert', '-flop', '-quality', '100', pathToFile, newpathToFile], stdout = subprocess.PIPE, stderr=subprocess.PIPE)\n",
    "    \n",
    "    \n",
    "def augment_flip_map(img_name):\n",
    "    str_1, str_2 = img_name.split('_',-1)#;print('str_2 : {}'.format(str_2))\n",
    "    str_3, str_4 = str_2.split('.',-1)#;print('str_2 : {} . {}'.format(str_3,str_4))\n",
    "\n",
    "    # new fliped name: af-xxx\n",
    "\n",
    "    augment_flip_name = 'image_' + 'af-' + str(str_3) + '.' + str_4 \n",
    "#     print('Flip new {} from {}'.format(augment_flip_name, img_name))\n",
    "    \n",
    "    # new fliped image: train_augm/images/{augment_flip_name}\n",
    "    pathToFile = 'train_augm/images/' + img_name\n",
    "    newpathToFile = 'train_augm/images/' + augment_flip_name\n",
    "    ConvertToFlop(pathToFile, newpathToFile)\n",
    "#     print('Flop {} ---> {}'.format(pathToFile, newpathToFile))\n",
    "    \n",
    "    return augment_flip_name"
   ]
  },
  {
   "cell_type": "code",
   "execution_count": null,
   "metadata": {},
   "outputs": [],
   "source": [
    "# !rm -rf train_augm/images/image_af-*\n",
    "!ls -l train_augm/images/image_af-* | wc -l\n",
    "!ls -l train_augm/images/image_* | wc -l"
   ]
  },
  {
   "cell_type": "code",
   "execution_count": null,
   "metadata": {
    "scrolled": true
   },
   "outputs": [],
   "source": [
    "# Flip the new image name.\n",
    "\n",
    "df_aug_flip_list = df_good_list.copy()\n",
    "\n",
    "df_aug_flip_list[\"images\"] = df_aug_flip_list[\"images\"].progress_map(augment_flip_map)"
   ]
  },
  {
   "cell_type": "code",
   "execution_count": null,
   "metadata": {},
   "outputs": [],
   "source": [
    "len(df_aug_flip_list)"
   ]
  },
  {
   "cell_type": "code",
   "execution_count": null,
   "metadata": {
    "scrolled": true
   },
   "outputs": [],
   "source": [
    "df_aug_flip_list.head(5)"
   ]
  },
  {
   "cell_type": "markdown",
   "metadata": {},
   "source": [
    "### Flip the X1,X2 value"
   ]
  },
  {
   "cell_type": "code",
   "execution_count": null,
   "metadata": {},
   "outputs": [],
   "source": [
    "# 55->flip->65 (120-55)\n",
    "\n",
    "df_aug_flip_list.iloc[:,1] = 120 - df_aug_flip_list.iloc[:,1]\n"
   ]
  },
  {
   "cell_type": "code",
   "execution_count": null,
   "metadata": {},
   "outputs": [],
   "source": [
    "df_aug_flip_list.iloc[:,3] = 120 - df_aug_flip_list.iloc[:,3]"
   ]
  },
  {
   "cell_type": "code",
   "execution_count": null,
   "metadata": {},
   "outputs": [],
   "source": []
  },
  {
   "cell_type": "code",
   "execution_count": null,
   "metadata": {},
   "outputs": [],
   "source": [
    "# TypeError: '(slice(None, None, None), 1)' is an invalid key\n",
    "# 這是因為第一列column是標籤，無法處理。這是df不是nparray的差異。\n",
    "# 請加上iloc，如df.iloc[:,1]。"
   ]
  },
  {
   "cell_type": "code",
   "execution_count": null,
   "metadata": {},
   "outputs": [],
   "source": [
    "df_aug_flip_list.head(5)"
   ]
  },
  {
   "cell_type": "code",
   "execution_count": null,
   "metadata": {},
   "outputs": [],
   "source": [
    "# df_aug_flip_list.to_csv('annotation_dfaug_flip_list.csv', index=False)\n",
    "df_aug_flip_list.to_csv('annotation_df_1424_aug_flip_list.csv', index=False)"
   ]
  },
  {
   "cell_type": "code",
   "execution_count": null,
   "metadata": {},
   "outputs": [],
   "source": [
    "\"\"\"\n",
    "1000-30bad(this 30bad was not being duplicated.)\n",
    "424\n",
    "\n",
    "1394 + 1424\n",
    "= 2818 in disk\n",
    "\"\"\"\n",
    "len(df_aug_flip_list)"
   ]
  },
  {
   "cell_type": "code",
   "execution_count": null,
   "metadata": {},
   "outputs": [],
   "source": []
  },
  {
   "cell_type": "code",
   "execution_count": null,
   "metadata": {},
   "outputs": [],
   "source": []
  },
  {
   "cell_type": "markdown",
   "metadata": {},
   "source": [
    "## Merge train + augm list"
   ]
  },
  {
   "cell_type": "code",
   "execution_count": null,
   "metadata": {},
   "outputs": [],
   "source": [
    "# df_good_list = pd.read_csv('annotation_1345_good.csv')\n",
    "# df_augm_list = pd.read_csv('annotation_df_aug_flip_list.csv')\n",
    "\n",
    "df_good_list = pd.read_csv('annotation_1424_merge.csv')\n",
    "df_augm_list = pd.read_csv('annotation_df_1424_aug_flip_list.csv')\n",
    "\n",
    "\n",
    "df_traim_augm_list = pd.concat([df_good_list, df_augm_list])"
   ]
  },
  {
   "cell_type": "code",
   "execution_count": null,
   "metadata": {},
   "outputs": [],
   "source": [
    "df_traim_augm_list.info()"
   ]
  },
  {
   "cell_type": "code",
   "execution_count": null,
   "metadata": {},
   "outputs": [],
   "source": [
    "# df_traim_augm_list.to_csv('annotation_2690_augm.csv', index=False)\n",
    "\n",
    "df_traim_augm_list.to_csv('annotation_2848_augm.csv', index=False)\n"
   ]
  },
  {
   "cell_type": "code",
   "execution_count": null,
   "metadata": {},
   "outputs": [],
   "source": []
  },
  {
   "cell_type": "code",
   "execution_count": null,
   "metadata": {},
   "outputs": [],
   "source": []
  },
  {
   "cell_type": "markdown",
   "metadata": {},
   "source": [
    "## Save ALL image with PP plotting for HUMAN-feature engineering"
   ]
  },
  {
   "cell_type": "code",
   "execution_count": null,
   "metadata": {},
   "outputs": [],
   "source": [
    "ann = 'train/annotation.csv'\n",
    "df = pd.read_csv(ann)\n",
    "\n",
    "good_df = remove_bad_samples(df)\n",
    "print(\"Length of good_df list: {}\".format(len(good_df)))"
   ]
  },
  {
   "cell_type": "code",
   "execution_count": null,
   "metadata": {},
   "outputs": [],
   "source": [
    "a6 = 'annotation_a6_df.csv'\n",
    "a6_df = pd.read_csv(a6)\n",
    "\n",
    "gooda6_df = pd.concat([good_df, a6_df])\n",
    "print(\"Length of gooda6_df list: {}\".format(len(gooda6_df)))"
   ]
  },
  {
   "cell_type": "code",
   "execution_count": null,
   "metadata": {},
   "outputs": [],
   "source": [
    "!mkdir train_review/images"
   ]
  },
  {
   "cell_type": "code",
   "execution_count": null,
   "metadata": {},
   "outputs": [],
   "source": [
    "train_dir = 'train/images'\n",
    "img_name = 'image_6424.jpg'\n",
    "plt_ud_point_by_path_name(gooda6_df, train_dir, img_name)"
   ]
  },
  {
   "cell_type": "code",
   "execution_count": null,
   "metadata": {},
   "outputs": [],
   "source": [
    "img_index = gooda6_df.loc[gooda6_df['images'] == img_name].index"
   ]
  },
  {
   "cell_type": "code",
   "execution_count": null,
   "metadata": {},
   "outputs": [],
   "source": [
    "print(img_index)"
   ]
  },
  {
   "cell_type": "code",
   "execution_count": null,
   "metadata": {},
   "outputs": [],
   "source": [
    "\"\"\"由於合併了先後兩版df造成index重複\n",
    "\n",
    "img_index = gooda6_df.loc[gooda6_df['images'] == img_name].index\n",
    "print(gooda6_df.images[img_index])\n",
    "\n",
    "423    image_0424.png\n",
    "423    image_6424.jpg\n",
    "Name: images, dtype: object\n",
    "\n",
    "使用gooda6_df.reset_index 重新編號\n",
    "\n",
    "\"\"\"\n",
    "print(gooda6_df.images[img_index])"
   ]
  },
  {
   "cell_type": "code",
   "execution_count": null,
   "metadata": {},
   "outputs": [],
   "source": []
  },
  {
   "cell_type": "code",
   "execution_count": null,
   "metadata": {},
   "outputs": [],
   "source": []
  },
  {
   "cell_type": "code",
   "execution_count": null,
   "metadata": {},
   "outputs": [],
   "source": [
    "gooda6_df[423:424]"
   ]
  },
  {
   "cell_type": "code",
   "execution_count": null,
   "metadata": {},
   "outputs": [],
   "source": [
    "#重新編號\n",
    "\"\"\"\n",
    "https://pandas.pydata.org/pandas-docs/stable/reference/api/pandas.DataFrame.reset_index.html\n",
    "\n",
    "len(gooda6_df_reindex)\n",
    "\tindex\timages\tx1\ty1\tx2\ty2\n",
    "0\t0\timage_0001.png\t55\t136\t75\t383\n",
    "1\t1\timage_0002.png\t62\t139\t42\t385\n",
    "2\t2\timage_0003.png\t47\t117\t76\t368\n",
    "3\t3\timage_0004.png\t66\t119\t37\t376\n",
    "4\t4\timage_0005.png\t58\t147\t85\t381\n",
    "\n",
    "drop=True, 將原本的index刪除，不然會另外加上新的index>\n",
    "gooda6_df_reindex = gooda6_df.reset_index(drop=True)\n",
    "\n",
    "\timages\tx1\ty1\tx2\ty2\n",
    "0\timage_0001.png\t55\t136\t75\t383\n",
    "1\timage_0002.png\t62\t139\t42\t385\n",
    "2\timage_0003.png\t47\t117\t76\t368\n",
    "3\timage_0004.png\t66\t119\t37\t376\n",
    "4\timage_0005.png\t58\t147\t85\t381\n",
    "\"\"\"\n",
    "gooda6_df_reindex = gooda6_df.reset_index(drop=True)"
   ]
  },
  {
   "cell_type": "code",
   "execution_count": null,
   "metadata": {},
   "outputs": [],
   "source": []
  },
  {
   "cell_type": "code",
   "execution_count": null,
   "metadata": {},
   "outputs": [],
   "source": []
  },
  {
   "cell_type": "code",
   "execution_count": null,
   "metadata": {},
   "outputs": [],
   "source": [
    "len(gooda6_df_reindex)"
   ]
  },
  {
   "cell_type": "code",
   "execution_count": null,
   "metadata": {},
   "outputs": [],
   "source": [
    "gooda6_df_reindex.head(5)"
   ]
  },
  {
   "cell_type": "code",
   "execution_count": null,
   "metadata": {},
   "outputs": [],
   "source": [
    "img_index = gooda6_df_reindex.loc[gooda6_df_reindex['images'] == img_name].index"
   ]
  },
  {
   "cell_type": "code",
   "execution_count": null,
   "metadata": {},
   "outputs": [],
   "source": [
    "print(img_index)"
   ]
  },
  {
   "cell_type": "code",
   "execution_count": null,
   "metadata": {},
   "outputs": [],
   "source": [
    "print(gooda6_df_reindex.images[img_index])"
   ]
  },
  {
   "cell_type": "code",
   "execution_count": null,
   "metadata": {},
   "outputs": [],
   "source": [
    "train_dir = 'train/images'\n",
    "img_name = 'image_6109.png'\n",
    "\n",
    "img_index = gooda6_df_reindex.loc[gooda6_df_reindex['images'] == img_name].index\n",
    "print('img_index: {}'.format(img_index))\n",
    "\n",
    "plt_ud_point_by_path_name(gooda6_df_reindex, train_dir, img_name)"
   ]
  },
  {
   "cell_type": "code",
   "execution_count": null,
   "metadata": {},
   "outputs": [],
   "source": []
  },
  {
   "cell_type": "code",
   "execution_count": null,
   "metadata": {},
   "outputs": [],
   "source": [
    "\"\"\"\n",
    "For example:image_06109.png  up[62, 185], down[82, 381]\n",
    "y1= 85-80 = 105@120\n",
    "可用的特徵太少 但應該足夠\n",
    "\"\"\"\n",
    "\n",
    "# test_sample = 'train_augm/images/image_6109.png'\n",
    "test_sample = 'train_augm/images/image_0202.jpg'\n",
    "\n",
    "img = tf.io.read_file(test_sample)#can read the byte string paths b'image_0001.png'\n",
    "img = decode_crop_png_toe(img)\n",
    "plt.imshow(img)"
   ]
  },
  {
   "cell_type": "code",
   "execution_count": null,
   "metadata": {},
   "outputs": [],
   "source": [
    "test_sample = 'train_augm/images/image_6170.jpg' # p1 almost out of bbox\n",
    "\n",
    "\n",
    "img = tf.io.read_file(test_sample)#can read the byte string paths b'image_0001.png'\n",
    "img = decode_crop_png_toe(img)\n",
    "plt.imshow(img)"
   ]
  },
  {
   "cell_type": "code",
   "execution_count": null,
   "metadata": {},
   "outputs": [],
   "source": [
    "test_sample = 'train_augm/images/image_6004.png'\n",
    "\n",
    "\n",
    "img = tf.io.read_file(test_sample)#can read the byte string paths b'image_0001.png'\n",
    "img = decode_crop_png_toe(img)\n",
    "plt.imshow(img)"
   ]
  },
  {
   "cell_type": "code",
   "execution_count": null,
   "metadata": {
    "scrolled": true
   },
   "outputs": [],
   "source": [
    "plt_ud_point(gooda6_df_reindex, 1078)"
   ]
  },
  {
   "cell_type": "code",
   "execution_count": null,
   "metadata": {},
   "outputs": [],
   "source": [
    "!mkdir review_tmp"
   ]
  },
  {
   "cell_type": "code",
   "execution_count": null,
   "metadata": {},
   "outputs": [],
   "source": [
    "plt_ud_point_just_save(gooda6_df_reindex, 413)"
   ]
  },
  {
   "cell_type": "code",
   "execution_count": null,
   "metadata": {},
   "outputs": [],
   "source": [
    "for index in range(len(gooda6_df_reindex)):\n",
    "    plt_ud_point_just_save(gooda6_df_reindex, index)\n",
    "    print(index)"
   ]
  },
  {
   "cell_type": "code",
   "execution_count": null,
   "metadata": {},
   "outputs": [],
   "source": []
  },
  {
   "cell_type": "code",
   "execution_count": null,
   "metadata": {},
   "outputs": [],
   "source": []
  },
  {
   "cell_type": "markdown",
   "metadata": {},
   "source": [
    "## some pre test"
   ]
  },
  {
   "cell_type": "markdown",
   "metadata": {},
   "source": [
    "### Test howto contact the all pred reuslt for submit.CSV"
   ]
  },
  {
   "cell_type": "code",
   "execution_count": null,
   "metadata": {},
   "outputs": [],
   "source": [
    "# append test\n",
    "aa= [[ 32.0332  , 105.49409 ],\n",
    "       [ 68.21191 ,  83.02111 ],\n",
    "       [ 32.07095 ,  99.04422 ]]\n",
    "bb= [[ 11.0332  , 22.49409 ],\n",
    "       [ 33.21191 ,  44.02111 ]]\n",
    "all_pred = np.append(aa, bb, axis=0)#上下接"
   ]
  },
  {
   "cell_type": "code",
   "execution_count": null,
   "metadata": {},
   "outputs": [],
   "source": [
    "all_pred"
   ]
  },
  {
   "cell_type": "code",
   "execution_count": null,
   "metadata": {},
   "outputs": [],
   "source": [
    "all_pred.shape"
   ]
  },
  {
   "cell_type": "code",
   "execution_count": null,
   "metadata": {},
   "outputs": [],
   "source": [
    "all_pred_12 = np.append(all_pred, all_pred, axis=1)#左右接"
   ]
  },
  {
   "cell_type": "code",
   "execution_count": null,
   "metadata": {},
   "outputs": [],
   "source": [
    "all_pred_12"
   ]
  },
  {
   "cell_type": "code",
   "execution_count": null,
   "metadata": {},
   "outputs": [],
   "source": [
    "all_pred_12.shape"
   ]
  },
  {
   "cell_type": "markdown",
   "metadata": {},
   "source": [
    "### parser a element's value"
   ]
  },
  {
   "cell_type": "code",
   "execution_count": null,
   "metadata": {},
   "outputs": [],
   "source": [
    "# pd index serch by name\n",
    "# df.set_index(\"images\" , inplace=True) # have to re-set index\n",
    "# df.loc['image_0001.png'] \n"
   ]
  },
  {
   "cell_type": "code",
   "execution_count": null,
   "metadata": {},
   "outputs": [],
   "source": [
    "df_filtered = df[df.images == \"image_0001.png\"]\n",
    "df_filtered.head()"
   ]
  },
  {
   "cell_type": "code",
   "execution_count": null,
   "metadata": {},
   "outputs": [],
   "source": []
  },
  {
   "cell_type": "code",
   "execution_count": null,
   "metadata": {},
   "outputs": [],
   "source": []
  },
  {
   "cell_type": "code",
   "execution_count": null,
   "metadata": {},
   "outputs": [],
   "source": []
  },
  {
   "cell_type": "code",
   "execution_count": null,
   "metadata": {},
   "outputs": [],
   "source": []
  },
  {
   "cell_type": "code",
   "execution_count": null,
   "metadata": {},
   "outputs": [],
   "source": []
  },
  {
   "cell_type": "code",
   "execution_count": null,
   "metadata": {},
   "outputs": [],
   "source": []
  },
  {
   "cell_type": "markdown",
   "metadata": {},
   "source": [
    "### Plot PP image and PP"
   ]
  },
  {
   "cell_type": "code",
   "execution_count": null,
   "metadata": {},
   "outputs": [],
   "source": [
    "def get_img(path):\n",
    "    img = cv2.imread(path)\n",
    "    img = cv2.cvtColor(img, cv2.COLOR_BGR2RGB)\n",
    "    return img\n",
    "\n",
    "def get_img_by_id(df_index):\n",
    "    img_name = df.iloc[df_index, 0] # [index, table] or [row, columns]\n",
    "    t_img_p = 'train/images/' + img_name\n",
    "    return get_img(t_img_p)\n",
    "\n",
    "    \n",
    "def what_dtype(data):\n",
    "    return print(f'dtype: {data.dtype}, shape: {data.shape}')\n",
    "    \n",
    "def plt_img(img):\n",
    "    #plt.figure(figsize=(6,6))\n",
    "#     plt.title(f'dtype: {img.dtype}')\n",
    "    plt.axis(\"off\")\n",
    "    plt.imshow(img)\n",
    "\n",
    "def plt_points(img, x, y):\n",
    "    cv2.circle(img, (x,y), 3, (0,0,213), -1)\n",
    "    \n",
    "def cvshow_img(img):\n",
    "    \"\"\"cvshow_img(img) display imgage with OS's app window not in the notebook.\"\"\"\n",
    "    cv2.imshow('cv image', img)\n",
    "    cv2.waitKey(500)\n",
    "    cv2.destroyAllWindows()"
   ]
  },
  {
   "cell_type": "code",
   "execution_count": null,
   "metadata": {},
   "outputs": [],
   "source": [
    "def plt_ud_points(df_index):\n",
    "    img_name = df.iloc[df_index, 0] # [index, table] or [row, columns]\n",
    "\n",
    "    t_img_p = 'train/images/' + img_name\n",
    "    img = get_img(t_img_p)\n",
    "#     plt.figure()\n",
    "    plt.imshow(img)\n",
    "    plt.plot(df.x1[df_index], df.y1[df_index], 'r+', markersize=15)\n",
    "    plt.plot(df.x2[df_index], df.y2[df_index], 'b+', markersize=15)\n",
    "    plt.axis(\"off\")\n",
    "    plt.title(img_name)\n",
    "\n",
    "def plt_ud_points_lines(df_index):\n",
    "    img_name = df.iloc[df_index, 0] # [index, table] or [row, columns]\n",
    "\n",
    "    t_img_p = 'train/images/' + img_name\n",
    "    img = get_img(t_img_p)\n",
    "#     plt.figure()\n",
    "    plt.imshow(img)\n",
    "    plt.plot(df.x1[df_index], df.y1[df_index], 'r+', markersize=15, mew=3)\n",
    "    plt.plot(df.x2[df_index], df.y2[df_index], 'b+', markersize=15, mew=3)\n",
    "    # line\n",
    "    x = [df.x1[df_index], df.x2[df_index]]\n",
    "    y = [df.y1[df_index], df.y2[df_index]]\n",
    "    plt.plot(x, y, 'k-', lw=3)\n",
    "    \n",
    "    plt.axis(\"off\")\n",
    "    plt.title(img_name)\n",
    "    \n",
    "    \n",
    "def plt_ud_point(df, df_index):\n",
    "    img_name = df.iloc[df_index, 0] # [index, table] or [row, columns]\n",
    "\n",
    "    t_img_p = 'train/images/' + img_name\n",
    "    img = get_img(t_img_p)\n",
    "    plt.figure()\n",
    "    plt.imshow(img)\n",
    "    plt.plot(df.x1[df_index], df.y1[df_index], 'r+', markersize=15, mew=2.5)\n",
    "    plt.plot(df.x2[df_index], df.y2[df_index], 'b+', markersize=15, mew=2.5)\n",
    "    print(f'up[{df.x1[df_index]}, {df.y1[df_index]}], down[{df.x2[df_index]}, {df.y2[df_index]}]')\n",
    "    plt.axis(\"off\")\n",
    "    plt.title(img_name) \n",
    "    \n",
    "    \n",
    "def plt_ud_point_multiple(df, df_index):\n",
    "    img_name = df.iloc[df_index, 0] # [index, table] or [row, columns]\n",
    "\n",
    "    t_img_p = 'train/images/' + img_name\n",
    "    img = get_img(t_img_p)\n",
    "#     plt.figure() # for multiple image in same figure should be disable this.\n",
    "    plt.imshow(img)\n",
    "    plt.plot(df.x1[df_index], df.y1[df_index], 'r+', markersize=25)#, mew=1.5)\n",
    "    plt.plot(df.x2[df_index], df.y2[df_index], 'r+', markersize=25)#, mew=1.5)\n",
    "#     print(f'up[{df.x1[df_index]}, {df.y1[df_index]}], down[{df.x2[df_index]}, {df.y2[df_index]}]')\n",
    "    plt.axis(\"off\")\n",
    "    plt.title(img_name)\n",
    "    \n",
    "    \n",
    "def plt_ud_point_just_save(df, df_index):\n",
    "    img_name = df.iloc[df_index, 0] # [index, table] or [row, columns]\n",
    "\n",
    "    t_img_p = 'train/images/' + img_name\n",
    "    img = get_img(t_img_p)\n",
    "    plt.figure()\n",
    "    plt.imshow(img)\n",
    "    plt.plot(df.x1[df_index], df.y1[df_index], 'r+', markersize=15, mew=2.5)\n",
    "    plt.plot(df.x2[df_index], df.y2[df_index], 'b+', markersize=15, mew=2.5)\n",
    "#     print(f'up[{df.x1[df_index]}, {df.y1[df_index]}], down[{df.x2[df_index]}, {df.y2[df_index]}]')\n",
    "    plt.axis(\"off\")\n",
    "    plt.title(img_name, fontsize=8)\n",
    "    \n",
    "    review_tmp = 'review_tmp/' + img_name\n",
    "    plt.savefig(review_tmp,bbox_inches='tight')\n",
    "    \n",
    "    \n",
    "    #不好用 容易弄錯\n",
    "def plt_ud_point_by_path_name(df, path, img_name): \n",
    "    full_img_path = path + '/' + img_name # [index, table] or [row, columns]\n",
    "#     print(full_img_path)\n",
    "    \n",
    "    img = get_img(full_img_path)\n",
    "    \n",
    "\n",
    "    #get index of image\n",
    "    df_index = df.loc[df['images'] == img_name].index\n",
    "    \n",
    "    plt.figure()\n",
    "    plt.imshow(img)\n",
    "    plt.plot(df.x1[df_index], df.y1[df_index], 'r+', markersize=20, mew=2.5)\n",
    "    plt.plot(df.x2[df_index], df.y2[df_index], 'r+', markersize=20, mew=2.5)\n",
    "    print(f'up[{df.x1[df_index]}, {df.y1[df_index]}], down[{df.x2[df_index]}, {df.y2[df_index]}]')\n",
    "    plt.axis(\"off\")\n",
    "    plt.title(img_name)    "
   ]
  },
  {
   "cell_type": "code",
   "execution_count": null,
   "metadata": {},
   "outputs": [],
   "source": [
    "# df.reset_index(inplace=True)\n",
    "plt_ud_point(df,979)"
   ]
  },
  {
   "cell_type": "code",
   "execution_count": null,
   "metadata": {},
   "outputs": [],
   "source": []
  },
  {
   "cell_type": "code",
   "execution_count": null,
   "metadata": {},
   "outputs": [],
   "source": [
    "plt_ud_points_lines(1)"
   ]
  },
  {
   "cell_type": "code",
   "execution_count": null,
   "metadata": {},
   "outputs": [],
   "source": [
    "plt_ud_points_lines(409)"
   ]
  },
  {
   "cell_type": "code",
   "execution_count": null,
   "metadata": {},
   "outputs": [],
   "source": []
  },
  {
   "cell_type": "code",
   "execution_count": null,
   "metadata": {},
   "outputs": [],
   "source": []
  },
  {
   "cell_type": "markdown",
   "metadata": {},
   "source": [
    "#### Image size, Batch size, toe/heel-offset."
   ]
  },
  {
   "cell_type": "code",
   "execution_count": null,
   "metadata": {},
   "outputs": [],
   "source": [
    "BATCH_SIZE = 64 #128 #32 #64 #todo: reduce the BS maybe help to reduce the loss\n",
    "img_height = 120 #512 #224 #100\n",
    "img_width = 120 #512 #224 #100\n",
    "\n",
    "y_offset_toe = 80\n",
    "y_offset_heel = 280 #400-120=280"
   ]
  },
  {
   "cell_type": "markdown",
   "metadata": {},
   "source": [
    "#### Process path to image tensor in DS"
   ]
  },
  {
   "cell_type": "code",
   "execution_count": null,
   "metadata": {},
   "outputs": [],
   "source": [
    "# im_p = 'train/images/'\n",
    "\n",
    "# For annotation_revise_aug-f\n",
    "im_p = 'train_augm/images/'\n",
    "\n",
    "'''\n",
    "def get_label(file_path):\n",
    "    # convert the path to a list of path components\n",
    "    parts = tf.strings.split(file_path, os.path.sep)\n",
    "    # The second to last is the class-directory\n",
    "    boolen = parts[-2] == class_names\n",
    "    #one_hot_num = np.array(boolen, dtype=np.int) not works should use tf.x repalced.\n",
    "    one_hot_num = tf.dtypes.cast(boolen, tf.int64)\n",
    "    one_num = tf.argmax(one_hot_num)\n",
    "    print('one_num:', one_num)\n",
    "    # Integer encode the label\n",
    "    return one_num\n",
    "\n",
    "def decode_img(img):\n",
    "    # convert the compressed string to a 3D uint8 tensor\n",
    "    img = tf.io.decode_jpeg(img, channels=3)\n",
    "    # resize the image to the desired size\n",
    "#     return tf.image.resize(img, [img_height, img_width])# augment 已經resize過一次了 但這邊不先做會比較慢\n",
    "    return tf.cast(tf.image.resize(img, [img_height, img_width]), tf.uint8)# 避免float over at augment\n",
    "'''\n",
    "\n",
    "#\n",
    "# map list to ds, Toe part.\n",
    "#\n",
    "\n",
    "def decode_crop_png_toe(img):\n",
    "    # convert the compressed string to a 3D uint8 tensor\n",
    "    img = tf.io.decode_png(img, channels=3)\n",
    "    # crop the toe from top-left corner [image, offset_height y1, offset_width x1, target_height, target_width]\n",
    "    y1=y_offset_toe;    x1=0;    h=img_height;    w=img_width # not the pp location\n",
    "    img = tf.image.crop_to_bounding_box(img, int(y1), int(x1), h, w)\n",
    "    #img = tf.image.crop_to_bounding_box(img, int(y1), int(x1), int(y2)-int(y1), int(x2)-int(x1))\n",
    "    # resize the image to the desired size\n",
    "    return img\n",
    "\n",
    "def process_path_toe(file_path,x1,y1,x2,y2):\n",
    "    file_path = im_p + file_path\n",
    "    #label = get_label(file_path)\n",
    "    # load the raw data from the file as a string\n",
    "    img = tf.io.read_file(file_path)#can read the byte string paths b'image_0001.png'\n",
    "    img = decode_crop_png_toe(img)\n",
    "    return img, [x1,y1-y_offset_toe]\n",
    "\n",
    "#\n",
    "# map list to ds, Heel part.\n",
    "#\n",
    "\n",
    "def decode_crop_png_heel(img):\n",
    "    # convert the compressed string to a 3D uint8 tensor\n",
    "    img = tf.io.decode_png(img, channels=3)\n",
    "    # crop the toe from top-left corner [image, offset_height y1, offset_width x1, target_height, target_width]\n",
    "    y2=y_offset_heel;    x2=0;    h=img_height;    w=img_width # not the pp location\n",
    "    img = tf.image.crop_to_bounding_box(img, int(y2), int(x2), h, w)\n",
    "    #img = tf.image.crop_to_bounding_box(img, int(y1), int(x1), int(y2)-int(y1), int(x2)-int(x1))\n",
    "    # resize the image to the desired size\n",
    "    return img\n",
    "\n",
    "def process_path_heel(file_path,x1,y1,x2,y2):\n",
    "    file_path = im_p + file_path\n",
    "    #label = get_label(file_path)\n",
    "    # load the raw data from the file as a string\n",
    "    img = tf.io.read_file(file_path)#can read the byte string paths b'image_0001.png'\n",
    "    img = decode_crop_png_heel(img)\n",
    "    return img, [x2,y2-y_offset_heel]\n",
    "\n",
    "\n",
    "#\n",
    "# test how to put parameters to map\n",
    "#\n",
    "\n",
    "def t_ds_map(file_path,x1,y1,x2,y2):\n",
    "#     img = get_img('train/images/' + str(file_path))\n",
    "#     print(file_path)\n",
    "    return file_path,x1,y1,x2,y2 #img, [x1,y1]\n",
    "    "
   ]
  },
  {
   "cell_type": "code",
   "execution_count": null,
   "metadata": {},
   "outputs": [],
   "source": []
  }
 ],
 "metadata": {
  "kernelspec": {
   "display_name": "Python 3",
   "language": "python",
   "name": "python3"
  },
  "language_info": {
   "codemirror_mode": {
    "name": "ipython",
    "version": 3
   },
   "file_extension": ".py",
   "mimetype": "text/x-python",
   "name": "python",
   "nbconvert_exporter": "python",
   "pygments_lexer": "ipython3",
   "version": "3.8.5"
  }
 },
 "nbformat": 4,
 "nbformat_minor": 4
}

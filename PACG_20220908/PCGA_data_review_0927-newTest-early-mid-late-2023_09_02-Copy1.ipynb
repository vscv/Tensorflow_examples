{
 "cells": [
  {
   "cell_type": "markdown",
   "id": "0e4a21ff",
   "metadata": {},
   "source": [
    "# 🧩 For make CSV of 2023 new test 14 🧩\n",
    "\n",
    "2023-09-02\n",
    "\n",
    "    新收分三資料夾：early 45, mid 59, late 24。\n",
    "    \n",
    "    early: \n",
    "        redundant remove:\n",
    "            5666801_POAG_os_early.txt 多一個數字，手動刪減尾數。52 value!\n",
    "            29: 53 6177860_PACG_os_early\n",
    "            33: 53 3695320_glaucoma_suspect_splinter_hemorrhage_os_early\n",
    "            39: 53 6177860_PACG_os_early\n",
    "            57: 53 2234698_POAG_os_early\n",
    "            65: 53 3695320_glaucoma_suspect_splinter_hemorrhage_os_early\n",
    "            66: 53 2234698_POAG_os_early\n",
    "\n",
    "    \n",
    "    mid: \n",
    "        space remove : \n",
    "            4125877_POAG_os_mid.txt 檔案名稱不相符，手動把空格刪除 4125877_POAG_os_mid.jpg\n",
    "            6996300_PACG_os_mid.jpg\n",
    "            3333747_POAG Terriens_os_mid.txt\n",
    "            \n",
    "        redundant remove:    \n",
    "            6: 54 2452677_POAG_os_mid\n",
    "            20: 53 6834699_POAG_od_mid\n",
    "            22: 53 3780376_POAG_os_mid\n",
    "            28: 53 6954998_POAG_os_mid\n",
    "            31: 53 2790640_POAG_os_mid\n",
    "            32: 53 2112959_POAG_os_mid\n",
    "            40: 53 3529453_POAG_os_mid\n",
    "            47: 54 2413599_POAG_od_mid\n",
    "        \n",
    "        miss point add:\n",
    "            31: 53 2790640_POAG_os_mid\n",
    "            \n",
    "    \n",
    "    late:\n",
    "        redundant remove:\n",
    "            0: 53 7105730_POAG_od_late\n",
    "    \n",
    "        \n",
    "        "
   ]
  },
  {
   "cell_type": "markdown",
   "id": "4c9064b2",
   "metadata": {},
   "source": [
    "# 🧩 For make CSV of 2023 new test 14 🧩\n",
    "\n",
    "2023-04-12\n",
    "\n",
    "    * Filename renameing: \n",
    "        ex 6576392 OD.jpg to 6576392_OD.jpg\n",
    "        ex 6576392 VF OD.txt to 6576392_OD.txt\n",
    "    * make new filename/FV name reader to read from same filename not the list dir order.\n",
    "    \n",
    "        \n"
   ]
  },
  {
   "cell_type": "code",
   "execution_count": 16,
   "id": "cf669b83",
   "metadata": {},
   "outputs": [],
   "source": [
    "import os\n",
    "# set log level should be before import tf, to skip \"TF_ENABLE_AUTO_MIXED_PRECISION has no effect\"\n",
    "# os.environ[\"TF_CPP_MIN_LOG_LEVEL\"] = \"2\"\n",
    "# INFO messages are not printed.\n",
    "# This must be run before loading other modules.\n",
    "os.environ[\"TF_CPP_MIN_LOG_LEVEL\"] = \"2\"\n",
    "\n",
    "import pandas as pd"
   ]
  },
  {
   "cell_type": "code",
   "execution_count": 17,
   "id": "b3cb1927",
   "metadata": {},
   "outputs": [],
   "source": [
    "# data_Dir = \"/home/u3148947/data/PACG_data_20221005/2023_new_test_14/\"\n",
    "data_Dir = \"/home/u3148947/data/PACG_data_20221005/2023_09_02_early-mid-late/early\"\n",
    "data_Dir = \"/home/u3148947/data/PACG_data_20221005/2023_09_02_early-mid-late/mid\"\n",
    "data_Dir = \"/home/u3148947/data/PACG_data_20221005/2023_09_02_early-mid-late/late\"\n",
    "\n",
    "# now we put it in same directory.\n",
    "# FV_img = \"POACG_crop\"                          #視野\n",
    "# FV_val = \"POACG_FV_vaule\"                    #視野值\n"
   ]
  },
  {
   "cell_type": "code",
   "execution_count": 145,
   "id": "9f74600f",
   "metadata": {},
   "outputs": [],
   "source": [
    "def get_fv_value(sample_FV_val_path):\n",
    "    sample_FV_val = [txt.replace(\"\\n\", \"\") for txt in open(sample_FV_val_path).readlines()]\n",
    "    # sample_FV_val.remove(\"\") # leave last \"\"\n",
    "    sample_FV_val = [x for x in sample_FV_val if x] # remove the empty \"\"\n",
    "    \n",
    "    sample_FV_val_arr = [x.split(\",\") for x in sample_FV_val]\n",
    "    \n",
    "    sample_FV_val_arr_one = [] #np.empty(1)\n",
    "    for sub_arr in sample_FV_val_arr:\n",
    "        #sub_arr=np.array(sub_arr)\n",
    "        print(sub_arr)\n",
    "        #sample_FV_val_arr_one = np.concatenate((sample_FV_val_arr_one, sub_arr)) # array with block\n",
    "        #sample_FV_val_arr_one.append(sub_arr)                                    # array in array with block\n",
    "        sample_FV_val_arr_one += sub_arr                                          # array without block\n",
    "        \n",
    "    #return list(sample_FV_val_arr_one)\n",
    "    return sample_FV_val_arr_one\n",
    "\n",
    "\n",
    "def get_filename_from_dir():\n",
    "\n",
    "    file_name_list = []\n",
    "    #FV_val_list = []\n",
    "\n",
    "    for file in os.listdir(data_Dir): #FD_img\n",
    "        #print(file)\n",
    "        #print(os.path.splitext(file))\n",
    "        if file.endswith('.jpg'):\n",
    "            file_name =os.path.splitext(file)[0] # to remove the .jpg postfix\n",
    "            file_name_list.append(file_name)\n",
    "\n",
    "\n",
    "        ##sample_FV_val_path = os.path.join(data_Dir + FV_val, file_name + \"_FV_value.txt\")\n",
    "        #sample_FV_val_path = os.path.join(data_Dir + FV_val, file_name + \".txt\")\n",
    "        #FV_val_list.append(get_fv_value(sample_FV_val_path))\n",
    "        \n",
    "    return file_name_list \n",
    "\n",
    "\n",
    "\n",
    "def get_FV_val_list_by_name(file_name_list):\n",
    "    \n",
    "    FV_val_list = []\n",
    "    \n",
    "    for file_name in file_name_list:\n",
    "        sample_FV_val_path = os.path.join(data_Dir, file_name + \".txt\")\n",
    "        FV_val_list.append(get_fv_value(sample_FV_val_path))\n",
    "        \n",
    "    return FV_val_list\n",
    "        \n",
    "        \n",
    "    "
   ]
  },
  {
   "cell_type": "code",
   "execution_count": 146,
   "id": "a5822aa3",
   "metadata": {},
   "outputs": [],
   "source": [
    "file_name_list = get_filename_from_dir()"
   ]
  },
  {
   "cell_type": "code",
   "execution_count": 147,
   "id": "43c7709c",
   "metadata": {},
   "outputs": [
    {
     "data": {
      "text/plain": [
       "24"
      ]
     },
     "execution_count": 147,
     "metadata": {},
     "output_type": "execute_result"
    }
   ],
   "source": [
    "len(file_name_list)"
   ]
  },
  {
   "cell_type": "code",
   "execution_count": 148,
   "id": "f785e350",
   "metadata": {
    "scrolled": true
   },
   "outputs": [
    {
     "data": {
      "text/plain": [
       "['7105730_POAG_od_late',\n",
       " '2051721_POAG_os_late',\n",
       " '7105730_POAG_os_late',\n",
       " '5663725_glaucoma suspect_od_late',\n",
       " '3492890_POAG sp LASIK_os_late',\n",
       " '5263627_POAG_od_late',\n",
       " '6615899_POAG_os_late',\n",
       " '3657781_NTG_od_late',\n",
       " '2083694_POAG_os_late',\n",
       " '2277662_ POAG_od_late',\n",
       " '6936222_corneal perforation POAG_od_late',\n",
       " '6670470_POAG_os_late',\n",
       " '4338478_NTG_od_late',\n",
       " '2277662_POAG_os_late',\n",
       " '4306448_NTG_od_late',\n",
       " '2454259_PACG_od_end',\n",
       " '3971232_POAG_od_late',\n",
       " '2454259_PACG_os_end',\n",
       " '6534715_POAG_od_late',\n",
       " '6834699_POAG_os_late',\n",
       " '2271266_POAG_os_late',\n",
       " '6996300_PACG_od_end',\n",
       " '3971232_POAG_os_late',\n",
       " '5709752_POAG_od_late']"
      ]
     },
     "execution_count": 148,
     "metadata": {},
     "output_type": "execute_result"
    }
   ],
   "source": [
    "file_name_list"
   ]
  },
  {
   "cell_type": "code",
   "execution_count": 149,
   "id": "8edc8cdc",
   "metadata": {
    "scrolled": true
   },
   "outputs": [
    {
     "name": "stdout",
     "output_type": "stream",
     "text": [
      "['21', '11', '14', '25']\n",
      "['6', '4', '11', '18', '11', '26']\n",
      "['8', '12', '9', '23', '8', '15', '15', '26']\n",
      "['7', '9', '19', '0', '0', '0', '10', '27']\n",
      "['0', '0', '0', '23', '8', '0', '0', '29']\n",
      "['0', '0', '0', '0', '0', '0', '0', '29']\n",
      "['0', '0', '0', '0', '0', '14']\n",
      "['0', '0', '14', '6']\n",
      "['0', '0', '0', '0']\n",
      "['0', '0', '0', '0', '0', '0']\n",
      "['18', '0', '0', '0', '0', '0', '0', '0']\n",
      "['24', '0', '0', '0', '0', '0', '0', '0']\n",
      "['17', '0', '7', '0', '0', '0', '0', '0']\n",
      "['21', '0', '0', '2', '0', '0', '0', '0']\n",
      "['0', '0', '0', '0', '0', '0']\n",
      "['0', '0', '0', '0']\n",
      "['0', '0', '0', '0']\n",
      "['0', '0', '0', '0', '0', '0']\n",
      "['26', '0', '0', '0', '0', '0', '0', '0']\n",
      "['26', '0', '0', '0', '0', '0', '0', '0']\n",
      "['15', '0', '0', '3', '0', '0', '0', '0']\n",
      "['15', '0', '0', '0', '0', '0', '0', '0']\n",
      "['0', '0', '0', '0', '0', '0']\n",
      "['0', '0', '0', '0']\n",
      "['0', '0', '5', '0']\n",
      "['0', '0', '0', '0', '12', '13']\n",
      "['0', '0', '0', '0', '0', '0', '0', '24']\n",
      "['0', '0', '0', '8', '12', '5', '0', '27']\n",
      "['27', '7', '0', '30', '32', '30', '0', '28']\n",
      "['24', '16', '6', '29', '32', '31', '32', '30']\n",
      "['17', '23', '28', '19', '32', '35']\n",
      "['31', '28', '31', '33']\n",
      "['20', '12', '5', '2']\n",
      "['20', '24', '19', '13', '22', '9']\n",
      "['22', '18', '23', '15', '0', '22', '16', '0']\n",
      "['22', '0', '19', '0', '22', '18', '9', '2']\n",
      "['0', '0', '0', '8', '28', '0', '11', '10']\n",
      "['8', '0', '0', '24', '24', '16', '13', '14']\n",
      "['20', '20', '25', '25', '25', '22']\n",
      "['21', '17', '24', '23']\n",
      "['0', '0', '0', '0']\n",
      "['0', '0', '0', '0', '0', '0']\n",
      "['0', '0', '0', '0', '0', '0', '0', '0']\n",
      "['0', '0', '0', '0', '27', '23', '0', '0']\n",
      "['4', '15', '26', '28', '28', '27', '4', '8']\n",
      "['0', '13', '23', '25', '24', '24', '7', '7']\n",
      "['8', '0', '20', '18', '15', '15']\n",
      "['0', '17', '18', '4']\n",
      "['0', '0', '0', '0']\n",
      "['0', '0', '0', '0', '0', '0']\n",
      "['0', '0', '0', '0', '0', '0', '0', '0']\n",
      "['3', '0', '0', '3', '0', '0', '0', '0']\n",
      "['10', '0', '4', '13', '3', '0', '0', '0']\n",
      "['7', '3', '0', '0', '0', '0', '0', '0']\n",
      "['0', '4', '2', '0', '0', '0']\n",
      "['0', '0', '4', '7']\n",
      "['0', '0', '0', '0']\n",
      "['0', '0', '0', '0', '0', '0']\n",
      "['0', '0', '0', '0', '0', '0', '0', '8']\n",
      "['0', '0', '0', '0', '0', '0', '0', '17']\n",
      "['0', '0', '0', '0', '9', '0', '0', '9']\n",
      "['0', '0', '0', '1', '0', '1', '0', '4']\n",
      "['7', '4', '0', '1', '0', '1']\n",
      "['1', '0', '0', '7']\n",
      "['3', '2', '2', '4']\n",
      "['15', '2', '2', '2', '2', '2']\n",
      "['27', '22', '2', '2', '2', '2', '2', '2']\n",
      "['33', '10', '2', '2', '2', '2', '2', '2']\n",
      "['29', '2', '28', '30', '28', '2', '2', '2']\n",
      "['32', '31', '29', '30', '30', '23', '16', '2']\n",
      "['32', '28', '29', '30', '29', '10']\n",
      "['29', '26', '25', '26']\n",
      "['0', '0', '0', '4']\n",
      "['0', '0', '0', '0', '9', '16']\n",
      "['0', '3', '13', '9', '18', '20', '10', '13']\n",
      "['0', '0', '10', '13', '23', '22', '4', '17']\n",
      "['2', '8', '24', '25', '25', '19', '0', '14']\n",
      "['2', '8', '21', '14', '20', '14', '15', '0']\n",
      "['13', '9', '0', '15', '19', '18']\n",
      "['7', '4', '0', '14']\n",
      "['0', '0', '0', '0']\n",
      "['0', '0', '0', '0', '0', '0']\n",
      "['0', '0', '0', '0', '0', '8', '0', '0']\n",
      "['0', '0', '0', '0', '0', '0', '0', '13']\n",
      "['0', '0', '0', '26', '8', '22', '0', '21']\n",
      "['8', '3', '12', '24', '22', '23', '23', '24']\n",
      "['21', '13', '27', '26', '26', '18']\n",
      "['21', '25', '26', '24']\n",
      "['21', '12', '12', '0']\n",
      "['23', '11', '5', '0', '0', '0']\n",
      "['19', '24', '0', '12', '0', '0', '0', '0']\n",
      "['24', '0', '9', '29', '29', '0', '0', '0']\n",
      "['25', '0', '27', '20', '26', '0', '0', '0']\n",
      "['26', '0', '24', '21', '6', '0', '0', '0']\n",
      "['0', '0', '0', '0', '0', '0']\n",
      "['0', '0', '1', '0']\n",
      "['13', '19', '15', '14']\n",
      "['7', '16', '18', '5', '22', '19']\n",
      "['8', '13', '19', '20', '13', '15', '22', '21']\n",
      "['13', '18', '15', '13', '15', '7', '8', '12']\n",
      "['0', '0', '0', '20', '18', '5', '0', '0']\n",
      "['0', '3', '0', '15', '17', '14', '7', '1']\n",
      "['0', '8', '3', '15', '0', '12']\n",
      "['0', '12', '18', '17']\n",
      "['0', '0', '0', '0']\n",
      "['0', '0', '0', '0', '0', '0']\n",
      "['4', '7', '0', '0', '0', '0', '0', '0']\n",
      "['4', '0', '0', '0', '12', '15', '0', '0']\n",
      "['13', '0', '13', '11', '0', '0', '0', '0']\n",
      "['11', '8', '0', '0', '0', '0', '7', '0']\n",
      "['5', '7', '0', '0', '0', '0']\n",
      "['0', '4', '0', '0']\n",
      "['0', '0', '0', '0']\n",
      "['0', '0', '0', '0', '0', '0']\n",
      "['0', '0', '0', '0', '0', '0', '0', '23']\n",
      "['0', '0', '0', '0', '28', '0', '0', '26']\n",
      "['19', '21', '28', '30', '29', '0', '0', '28']\n",
      "['0', '8', '25', '17', '28', '0', '29', '31']\n",
      "['13', '0', '0', '0', '19', '26']\n",
      "['0', '0', '25', '26']\n",
      "['11', '16', '18', '10']\n",
      "['18', '18', '11', '4', '15', '3']\n",
      "['18', '19', '4', '16', '12', '4', '5', '12']\n",
      "['9', '20', '18', '13', '10', '0', '0', '1']\n",
      "['15', '19', '15', '7', '9', '2', '0', '0']\n",
      "['5', '9', '9', '8', '3', '2', '2', '15']\n",
      "['19', '11', '11', '8', '15', '11']\n",
      "['16', '16', '2', '7']\n",
      "['0', '0', '0', '0']\n",
      "['0', '0', '0', '0', '0', '0']\n",
      "['0', '0', '0', '0', '0', '0', '0', '0']\n",
      "['0', '0', '0', '0', '0', '0', '0', '0']\n",
      "['0', '0', '0', '0', '0', '0', '0', '0']\n",
      "['0', '0', '0', '0', '0', '0', '0', '0']\n",
      "['0', '0', '0', '0', '0', '0']\n",
      "['0', '0', '0', '0']\n",
      "['11', '17', '19', '16']\n",
      "['17', '19', '12', '19', '22', '19']\n",
      "['12', '14', '0', '10', '7', '0', '22', '12']\n",
      "['19', '0', '0', '6', '15', '10', '20', '21']\n",
      "['8', '0', '0', '15', '14', '13', '18', '20']\n",
      "['8', '8', '4', '5', '15', '7', '19', '12']\n",
      "['8', '19', '18', '12', '19', '13']\n",
      "['15', '17', '11', '10']\n",
      "['23', '21', '0', '11']\n",
      "['23', '25', '26', '20', '3', '17']\n",
      "['23', '28', '28', '28', '24', '27', '25', '25']\n",
      "['25', '30', '30', '30', '29', '28', '24', '30']\n",
      "['17', '23', '15', '6', '0', '0', '0', '21']\n",
      "['0', '5', '0', '0', '0', '0', '0', '14']\n",
      "['0', '0', '0', '0', '0', '0']\n",
      "['0', '0', '0', '0']\n",
      "['0', '2', '0', '0']\n",
      "['2', '0', '0', '0', '0', '0']\n",
      "['0', '0', '0', '0', '0', '0', '0', '0']\n",
      "['0', '0', '4', '12', '0', '0', '0', '0']\n",
      "['3', '0', '3', '2', '0', '0', '0', '0']\n",
      "['0', '0', '0', '0', '0', '0', '0', '0']\n",
      "['0', '0', '0', '0', '0', '0']\n",
      "['0', '0', '0', '0']\n",
      "['0', '2', '0', '0']\n",
      "['0', '3', '0', '0', '0', '4']\n",
      "['23', '3', '0', '0', '0', '0', '0', '0']\n",
      "['26', '0', '0', '27', '0', '0', '0', '0']\n",
      "['26', '0', '29', '30', '28', '0', '0', '0']\n",
      "['28', '16', '23', '29', '0', '0', '0', '0']\n",
      "['18', '17', '23', '11', '0', '0']\n",
      "['15', '0', '0', '0']\n",
      "['0', '0', '0', '0']\n",
      "['0', '0', '3', '0', '0', '0']\n",
      "['0', '0', '0', '8', '3', '0', '0', '0']\n",
      "['0', '0', '0', '16', '0', '0', '0', '0']\n",
      "['0', '0', '0', '0', '0', '0', '0', '0']\n",
      "['0', '0', '0', '0', '0', '0', '2', '0']\n",
      "['0', '0', '0', '0', '0', '0']\n",
      "['0', '0', '0', '0']\n",
      "['13', '14', '0', '0']\n",
      "['7', '9', '11', '14', '0', '2']\n",
      "['17', '6', '11', '12', '0', '0', '0', '0']\n",
      "['6', '19', '12', '12', '5', '4', '0', '0']\n",
      "['15', '0', '17', '11', '5', '0', '0', '0']\n",
      "['19', '17', '18', '15', '12', '0', '0', '0']\n",
      "['20', '24', '12', '13', '0', '0']\n",
      "['19', '15', '13', '0']\n",
      "['0', '0', '0', '0']\n",
      "['0', '0', '0', '0', '0', '7']\n",
      "['0', '0', '0', '0', '0', '0', '0', '25']\n",
      "['0', '0', '0', '0', '0', '0', '0', '20']\n",
      "['0', '0', '0', '24', '12', '10', '4', '25']\n",
      "['8', '0', '0', '7', '15', '3', '26', '12']\n",
      "['8', '8', '10', '27', '26', '23']\n",
      "['21', '25', '26', '25']\n"
     ]
    }
   ],
   "source": [
    "FV_val_list = get_FV_val_list_by_name(file_name_list)"
   ]
  },
  {
   "cell_type": "code",
   "execution_count": 150,
   "id": "6b9387b5",
   "metadata": {},
   "outputs": [
    {
     "data": {
      "text/plain": [
       "24"
      ]
     },
     "execution_count": 150,
     "metadata": {},
     "output_type": "execute_result"
    }
   ],
   "source": [
    "len(FV_val_list)"
   ]
  },
  {
   "cell_type": "code",
   "execution_count": 151,
   "id": "63a3369c",
   "metadata": {},
   "outputs": [],
   "source": [
    "for i in range(len(FV_val_list)):\n",
    "    #print(f'{i}: {len(FV_val_list[i])} {file_name_list[i]}')\n",
    "    \n",
    "    if len(FV_val_list[i]) >=53:\n",
    "        print(f'{i}: {len(FV_val_list[i])} {file_name_list[i]}')"
   ]
  },
  {
   "cell_type": "markdown",
   "id": "c2663a24",
   "metadata": {},
   "source": [
    "## Merge filename and fv value list to CSV"
   ]
  },
  {
   "cell_type": "code",
   "execution_count": 152,
   "id": "18a4761b",
   "metadata": {
    "scrolled": true
   },
   "outputs": [
    {
     "name": "stdout",
     "output_type": "stream",
     "text": [
      "7105730_POAG_od_late [21, 11, 14, 25, 6, 4, 11, 18, 11, 26, 8, 12, 9, 23, 8, 15, 15, 26, 7, 9, 19, 0, 0, 0, 10, 27, 0, 0, 0, 23, 8, 0, 0, 29, 0, 0, 0, 0, 0, 0, 0, 29, 0, 0, 0, 0, 0, 14, 0, 0, 14, 6]\n",
      "2051721_POAG_os_late [0, 0, 0, 0, 0, 0, 0, 0, 0, 0, 18, 0, 0, 0, 0, 0, 0, 0, 24, 0, 0, 0, 0, 0, 0, 0, 17, 0, 7, 0, 0, 0, 0, 0, 21, 0, 0, 2, 0, 0, 0, 0, 0, 0, 0, 0, 0, 0, 0, 0, 0, 0]\n",
      "7105730_POAG_os_late [0, 0, 0, 0, 0, 0, 0, 0, 0, 0, 26, 0, 0, 0, 0, 0, 0, 0, 26, 0, 0, 0, 0, 0, 0, 0, 15, 0, 0, 3, 0, 0, 0, 0, 15, 0, 0, 0, 0, 0, 0, 0, 0, 0, 0, 0, 0, 0, 0, 0, 0, 0]\n",
      "5663725_glaucoma suspect_od_late [0, 0, 5, 0, 0, 0, 0, 0, 12, 13, 0, 0, 0, 0, 0, 0, 0, 24, 0, 0, 0, 8, 12, 5, 0, 27, 27, 7, 0, 30, 32, 30, 0, 28, 24, 16, 6, 29, 32, 31, 32, 30, 17, 23, 28, 19, 32, 35, 31, 28, 31, 33]\n",
      "3492890_POAG sp LASIK_os_late [20, 12, 5, 2, 20, 24, 19, 13, 22, 9, 22, 18, 23, 15, 0, 22, 16, 0, 22, 0, 19, 0, 22, 18, 9, 2, 0, 0, 0, 8, 28, 0, 11, 10, 8, 0, 0, 24, 24, 16, 13, 14, 20, 20, 25, 25, 25, 22, 21, 17, 24, 23]\n",
      "5263627_POAG_od_late [0, 0, 0, 0, 0, 0, 0, 0, 0, 0, 0, 0, 0, 0, 0, 0, 0, 0, 0, 0, 0, 0, 27, 23, 0, 0, 4, 15, 26, 28, 28, 27, 4, 8, 0, 13, 23, 25, 24, 24, 7, 7, 8, 0, 20, 18, 15, 15, 0, 17, 18, 4]\n",
      "6615899_POAG_os_late [0, 0, 0, 0, 0, 0, 0, 0, 0, 0, 0, 0, 0, 0, 0, 0, 0, 0, 3, 0, 0, 3, 0, 0, 0, 0, 10, 0, 4, 13, 3, 0, 0, 0, 7, 3, 0, 0, 0, 0, 0, 0, 0, 4, 2, 0, 0, 0, 0, 0, 4, 7]\n",
      "3657781_NTG_od_late [0, 0, 0, 0, 0, 0, 0, 0, 0, 0, 0, 0, 0, 0, 0, 0, 0, 8, 0, 0, 0, 0, 0, 0, 0, 17, 0, 0, 0, 0, 9, 0, 0, 9, 0, 0, 0, 1, 0, 1, 0, 4, 7, 4, 0, 1, 0, 1, 1, 0, 0, 7]\n",
      "2083694_POAG_os_late [3, 2, 2, 4, 15, 2, 2, 2, 2, 2, 27, 22, 2, 2, 2, 2, 2, 2, 33, 10, 2, 2, 2, 2, 2, 2, 29, 2, 28, 30, 28, 2, 2, 2, 32, 31, 29, 30, 30, 23, 16, 2, 32, 28, 29, 30, 29, 10, 29, 26, 25, 26]\n",
      "2277662_ POAG_od_late [0, 0, 0, 4, 0, 0, 0, 0, 9, 16, 0, 3, 13, 9, 18, 20, 10, 13, 0, 0, 10, 13, 23, 22, 4, 17, 2, 8, 24, 25, 25, 19, 0, 14, 2, 8, 21, 14, 20, 14, 15, 0, 13, 9, 0, 15, 19, 18, 7, 4, 0, 14]\n",
      "6936222_corneal perforation POAG_od_late [0, 0, 0, 0, 0, 0, 0, 0, 0, 0, 0, 0, 0, 0, 0, 8, 0, 0, 0, 0, 0, 0, 0, 0, 0, 13, 0, 0, 0, 26, 8, 22, 0, 21, 8, 3, 12, 24, 22, 23, 23, 24, 21, 13, 27, 26, 26, 18, 21, 25, 26, 24]\n",
      "6670470_POAG_os_late [21, 12, 12, 0, 23, 11, 5, 0, 0, 0, 19, 24, 0, 12, 0, 0, 0, 0, 24, 0, 9, 29, 29, 0, 0, 0, 25, 0, 27, 20, 26, 0, 0, 0, 26, 0, 24, 21, 6, 0, 0, 0, 0, 0, 0, 0, 0, 0, 0, 0, 1, 0]\n",
      "4338478_NTG_od_late [13, 19, 15, 14, 7, 16, 18, 5, 22, 19, 8, 13, 19, 20, 13, 15, 22, 21, 13, 18, 15, 13, 15, 7, 8, 12, 0, 0, 0, 20, 18, 5, 0, 0, 0, 3, 0, 15, 17, 14, 7, 1, 0, 8, 3, 15, 0, 12, 0, 12, 18, 17]\n",
      "2277662_POAG_os_late [0, 0, 0, 0, 0, 0, 0, 0, 0, 0, 4, 7, 0, 0, 0, 0, 0, 0, 4, 0, 0, 0, 12, 15, 0, 0, 13, 0, 13, 11, 0, 0, 0, 0, 11, 8, 0, 0, 0, 0, 7, 0, 5, 7, 0, 0, 0, 0, 0, 4, 0, 0]\n",
      "4306448_NTG_od_late [0, 0, 0, 0, 0, 0, 0, 0, 0, 0, 0, 0, 0, 0, 0, 0, 0, 23, 0, 0, 0, 0, 28, 0, 0, 26, 19, 21, 28, 30, 29, 0, 0, 28, 0, 8, 25, 17, 28, 0, 29, 31, 13, 0, 0, 0, 19, 26, 0, 0, 25, 26]\n",
      "2454259_PACG_od_end [11, 16, 18, 10, 18, 18, 11, 4, 15, 3, 18, 19, 4, 16, 12, 4, 5, 12, 9, 20, 18, 13, 10, 0, 0, 1, 15, 19, 15, 7, 9, 2, 0, 0, 5, 9, 9, 8, 3, 2, 2, 15, 19, 11, 11, 8, 15, 11, 16, 16, 2, 7]\n",
      "3971232_POAG_od_late [0, 0, 0, 0, 0, 0, 0, 0, 0, 0, 0, 0, 0, 0, 0, 0, 0, 0, 0, 0, 0, 0, 0, 0, 0, 0, 0, 0, 0, 0, 0, 0, 0, 0, 0, 0, 0, 0, 0, 0, 0, 0, 0, 0, 0, 0, 0, 0, 0, 0, 0, 0]\n",
      "2454259_PACG_os_end [11, 17, 19, 16, 17, 19, 12, 19, 22, 19, 12, 14, 0, 10, 7, 0, 22, 12, 19, 0, 0, 6, 15, 10, 20, 21, 8, 0, 0, 15, 14, 13, 18, 20, 8, 8, 4, 5, 15, 7, 19, 12, 8, 19, 18, 12, 19, 13, 15, 17, 11, 10]\n",
      "6534715_POAG_od_late [23, 21, 0, 11, 23, 25, 26, 20, 3, 17, 23, 28, 28, 28, 24, 27, 25, 25, 25, 30, 30, 30, 29, 28, 24, 30, 17, 23, 15, 6, 0, 0, 0, 21, 0, 5, 0, 0, 0, 0, 0, 14, 0, 0, 0, 0, 0, 0, 0, 0, 0, 0]\n",
      "6834699_POAG_os_late [0, 2, 0, 0, 2, 0, 0, 0, 0, 0, 0, 0, 0, 0, 0, 0, 0, 0, 0, 0, 4, 12, 0, 0, 0, 0, 3, 0, 3, 2, 0, 0, 0, 0, 0, 0, 0, 0, 0, 0, 0, 0, 0, 0, 0, 0, 0, 0, 0, 0, 0, 0]\n",
      "2271266_POAG_os_late [0, 2, 0, 0, 0, 3, 0, 0, 0, 4, 23, 3, 0, 0, 0, 0, 0, 0, 26, 0, 0, 27, 0, 0, 0, 0, 26, 0, 29, 30, 28, 0, 0, 0, 28, 16, 23, 29, 0, 0, 0, 0, 18, 17, 23, 11, 0, 0, 15, 0, 0, 0]\n",
      "6996300_PACG_od_end [0, 0, 0, 0, 0, 0, 3, 0, 0, 0, 0, 0, 0, 8, 3, 0, 0, 0, 0, 0, 0, 16, 0, 0, 0, 0, 0, 0, 0, 0, 0, 0, 0, 0, 0, 0, 0, 0, 0, 0, 2, 0, 0, 0, 0, 0, 0, 0, 0, 0, 0, 0]\n",
      "3971232_POAG_os_late [13, 14, 0, 0, 7, 9, 11, 14, 0, 2, 17, 6, 11, 12, 0, 0, 0, 0, 6, 19, 12, 12, 5, 4, 0, 0, 15, 0, 17, 11, 5, 0, 0, 0, 19, 17, 18, 15, 12, 0, 0, 0, 20, 24, 12, 13, 0, 0, 19, 15, 13, 0]\n",
      "5709752_POAG_od_late [0, 0, 0, 0, 0, 0, 0, 0, 0, 7, 0, 0, 0, 0, 0, 0, 0, 25, 0, 0, 0, 0, 0, 0, 0, 20, 0, 0, 0, 24, 12, 10, 4, 25, 8, 0, 0, 7, 15, 3, 26, 12, 8, 8, 10, 27, 26, 23, 21, 25, 26, 25]\n",
      "\n",
      "[['7105730_POAG_od_late', 21, 11, 14, 25, 6, 4, 11, 18, 11, 26, 8, 12, 9, 23, 8, 15, 15, 26, 7, 9, 19, 0, 0, 0, 10, 27, 0, 0, 0, 23, 8, 0, 0, 29, 0, 0, 0, 0, 0, 0, 0, 29, 0, 0, 0, 0, 0, 14, 0, 0, 14, 6], ['2051721_POAG_os_late', 0, 0, 0, 0, 0, 0, 0, 0, 0, 0, 18, 0, 0, 0, 0, 0, 0, 0, 24, 0, 0, 0, 0, 0, 0, 0, 17, 0, 7, 0, 0, 0, 0, 0, 21, 0, 0, 2, 0, 0, 0, 0, 0, 0, 0, 0, 0, 0, 0, 0, 0, 0], ['7105730_POAG_os_late', 0, 0, 0, 0, 0, 0, 0, 0, 0, 0, 26, 0, 0, 0, 0, 0, 0, 0, 26, 0, 0, 0, 0, 0, 0, 0, 15, 0, 0, 3, 0, 0, 0, 0, 15, 0, 0, 0, 0, 0, 0, 0, 0, 0, 0, 0, 0, 0, 0, 0, 0, 0], ['5663725_glaucoma suspect_od_late', 0, 0, 5, 0, 0, 0, 0, 0, 12, 13, 0, 0, 0, 0, 0, 0, 0, 24, 0, 0, 0, 8, 12, 5, 0, 27, 27, 7, 0, 30, 32, 30, 0, 28, 24, 16, 6, 29, 32, 31, 32, 30, 17, 23, 28, 19, 32, 35, 31, 28, 31, 33], ['3492890_POAG sp LASIK_os_late', 20, 12, 5, 2, 20, 24, 19, 13, 22, 9, 22, 18, 23, 15, 0, 22, 16, 0, 22, 0, 19, 0, 22, 18, 9, 2, 0, 0, 0, 8, 28, 0, 11, 10, 8, 0, 0, 24, 24, 16, 13, 14, 20, 20, 25, 25, 25, 22, 21, 17, 24, 23], ['5263627_POAG_od_late', 0, 0, 0, 0, 0, 0, 0, 0, 0, 0, 0, 0, 0, 0, 0, 0, 0, 0, 0, 0, 0, 0, 27, 23, 0, 0, 4, 15, 26, 28, 28, 27, 4, 8, 0, 13, 23, 25, 24, 24, 7, 7, 8, 0, 20, 18, 15, 15, 0, 17, 18, 4], ['6615899_POAG_os_late', 0, 0, 0, 0, 0, 0, 0, 0, 0, 0, 0, 0, 0, 0, 0, 0, 0, 0, 3, 0, 0, 3, 0, 0, 0, 0, 10, 0, 4, 13, 3, 0, 0, 0, 7, 3, 0, 0, 0, 0, 0, 0, 0, 4, 2, 0, 0, 0, 0, 0, 4, 7], ['3657781_NTG_od_late', 0, 0, 0, 0, 0, 0, 0, 0, 0, 0, 0, 0, 0, 0, 0, 0, 0, 8, 0, 0, 0, 0, 0, 0, 0, 17, 0, 0, 0, 0, 9, 0, 0, 9, 0, 0, 0, 1, 0, 1, 0, 4, 7, 4, 0, 1, 0, 1, 1, 0, 0, 7], ['2083694_POAG_os_late', 3, 2, 2, 4, 15, 2, 2, 2, 2, 2, 27, 22, 2, 2, 2, 2, 2, 2, 33, 10, 2, 2, 2, 2, 2, 2, 29, 2, 28, 30, 28, 2, 2, 2, 32, 31, 29, 30, 30, 23, 16, 2, 32, 28, 29, 30, 29, 10, 29, 26, 25, 26], ['2277662_ POAG_od_late', 0, 0, 0, 4, 0, 0, 0, 0, 9, 16, 0, 3, 13, 9, 18, 20, 10, 13, 0, 0, 10, 13, 23, 22, 4, 17, 2, 8, 24, 25, 25, 19, 0, 14, 2, 8, 21, 14, 20, 14, 15, 0, 13, 9, 0, 15, 19, 18, 7, 4, 0, 14], ['6936222_corneal perforation POAG_od_late', 0, 0, 0, 0, 0, 0, 0, 0, 0, 0, 0, 0, 0, 0, 0, 8, 0, 0, 0, 0, 0, 0, 0, 0, 0, 13, 0, 0, 0, 26, 8, 22, 0, 21, 8, 3, 12, 24, 22, 23, 23, 24, 21, 13, 27, 26, 26, 18, 21, 25, 26, 24], ['6670470_POAG_os_late', 21, 12, 12, 0, 23, 11, 5, 0, 0, 0, 19, 24, 0, 12, 0, 0, 0, 0, 24, 0, 9, 29, 29, 0, 0, 0, 25, 0, 27, 20, 26, 0, 0, 0, 26, 0, 24, 21, 6, 0, 0, 0, 0, 0, 0, 0, 0, 0, 0, 0, 1, 0], ['4338478_NTG_od_late', 13, 19, 15, 14, 7, 16, 18, 5, 22, 19, 8, 13, 19, 20, 13, 15, 22, 21, 13, 18, 15, 13, 15, 7, 8, 12, 0, 0, 0, 20, 18, 5, 0, 0, 0, 3, 0, 15, 17, 14, 7, 1, 0, 8, 3, 15, 0, 12, 0, 12, 18, 17], ['2277662_POAG_os_late', 0, 0, 0, 0, 0, 0, 0, 0, 0, 0, 4, 7, 0, 0, 0, 0, 0, 0, 4, 0, 0, 0, 12, 15, 0, 0, 13, 0, 13, 11, 0, 0, 0, 0, 11, 8, 0, 0, 0, 0, 7, 0, 5, 7, 0, 0, 0, 0, 0, 4, 0, 0], ['4306448_NTG_od_late', 0, 0, 0, 0, 0, 0, 0, 0, 0, 0, 0, 0, 0, 0, 0, 0, 0, 23, 0, 0, 0, 0, 28, 0, 0, 26, 19, 21, 28, 30, 29, 0, 0, 28, 0, 8, 25, 17, 28, 0, 29, 31, 13, 0, 0, 0, 19, 26, 0, 0, 25, 26], ['2454259_PACG_od_end', 11, 16, 18, 10, 18, 18, 11, 4, 15, 3, 18, 19, 4, 16, 12, 4, 5, 12, 9, 20, 18, 13, 10, 0, 0, 1, 15, 19, 15, 7, 9, 2, 0, 0, 5, 9, 9, 8, 3, 2, 2, 15, 19, 11, 11, 8, 15, 11, 16, 16, 2, 7], ['3971232_POAG_od_late', 0, 0, 0, 0, 0, 0, 0, 0, 0, 0, 0, 0, 0, 0, 0, 0, 0, 0, 0, 0, 0, 0, 0, 0, 0, 0, 0, 0, 0, 0, 0, 0, 0, 0, 0, 0, 0, 0, 0, 0, 0, 0, 0, 0, 0, 0, 0, 0, 0, 0, 0, 0], ['2454259_PACG_os_end', 11, 17, 19, 16, 17, 19, 12, 19, 22, 19, 12, 14, 0, 10, 7, 0, 22, 12, 19, 0, 0, 6, 15, 10, 20, 21, 8, 0, 0, 15, 14, 13, 18, 20, 8, 8, 4, 5, 15, 7, 19, 12, 8, 19, 18, 12, 19, 13, 15, 17, 11, 10], ['6534715_POAG_od_late', 23, 21, 0, 11, 23, 25, 26, 20, 3, 17, 23, 28, 28, 28, 24, 27, 25, 25, 25, 30, 30, 30, 29, 28, 24, 30, 17, 23, 15, 6, 0, 0, 0, 21, 0, 5, 0, 0, 0, 0, 0, 14, 0, 0, 0, 0, 0, 0, 0, 0, 0, 0], ['6834699_POAG_os_late', 0, 2, 0, 0, 2, 0, 0, 0, 0, 0, 0, 0, 0, 0, 0, 0, 0, 0, 0, 0, 4, 12, 0, 0, 0, 0, 3, 0, 3, 2, 0, 0, 0, 0, 0, 0, 0, 0, 0, 0, 0, 0, 0, 0, 0, 0, 0, 0, 0, 0, 0, 0], ['2271266_POAG_os_late', 0, 2, 0, 0, 0, 3, 0, 0, 0, 4, 23, 3, 0, 0, 0, 0, 0, 0, 26, 0, 0, 27, 0, 0, 0, 0, 26, 0, 29, 30, 28, 0, 0, 0, 28, 16, 23, 29, 0, 0, 0, 0, 18, 17, 23, 11, 0, 0, 15, 0, 0, 0], ['6996300_PACG_od_end', 0, 0, 0, 0, 0, 0, 3, 0, 0, 0, 0, 0, 0, 8, 3, 0, 0, 0, 0, 0, 0, 16, 0, 0, 0, 0, 0, 0, 0, 0, 0, 0, 0, 0, 0, 0, 0, 0, 0, 0, 2, 0, 0, 0, 0, 0, 0, 0, 0, 0, 0, 0], ['3971232_POAG_os_late', 13, 14, 0, 0, 7, 9, 11, 14, 0, 2, 17, 6, 11, 12, 0, 0, 0, 0, 6, 19, 12, 12, 5, 4, 0, 0, 15, 0, 17, 11, 5, 0, 0, 0, 19, 17, 18, 15, 12, 0, 0, 0, 20, 24, 12, 13, 0, 0, 19, 15, 13, 0], ['5709752_POAG_od_late', 0, 0, 0, 0, 0, 0, 0, 0, 0, 7, 0, 0, 0, 0, 0, 0, 0, 25, 0, 0, 0, 0, 0, 0, 0, 20, 0, 0, 0, 24, 12, 10, 4, 25, 8, 0, 0, 7, 15, 3, 26, 12, 8, 8, 10, 27, 26, 23, 21, 25, 26, 25]]\n"
     ]
    }
   ],
   "source": [
    "data_n_v = []\n",
    "\n",
    "\n",
    "# for v in FV_val_list:\n",
    "#     for n in file_name_list:\n",
    "#         print(n,v)   \n",
    "\n",
    "\n",
    "for n,v in zip(file_name_list,FV_val_list): # here, n=str, v=int\n",
    "    v = [int(vv) for vv in v]\n",
    "    print(n,v)   \n",
    "    joint_list_n_v = [n] + v\n",
    "    data_n_v.append(joint_list_n_v)\n",
    "\n",
    "print()\n",
    "print(data_n_v)\n",
    "\n",
    "\n",
    "\n"
   ]
  },
  {
   "cell_type": "code",
   "execution_count": 153,
   "id": "c024b795",
   "metadata": {},
   "outputs": [],
   "source": [
    "# one value for one column\n",
    "\n",
    "# initialize list of lists\n",
    "#data_n_v\n",
    "\n",
    "# Create the pandas DataFrame\n",
    "df = pd.DataFrame(data_n_v, columns=['filename', 'fv_1',\n",
    " 'fv_2',\n",
    " 'fv_3',\n",
    " 'fv_4',\n",
    " 'fv_5',\n",
    " 'fv_6',\n",
    " 'fv_7',\n",
    " 'fv_8',\n",
    " 'fv_9',\n",
    " 'fv_10',\n",
    " 'fv_11',\n",
    " 'fv_12',\n",
    " 'fv_13',\n",
    " 'fv_14',\n",
    " 'fv_15',\n",
    " 'fv_16',\n",
    " 'fv_17',\n",
    " 'fv_18',\n",
    " 'fv_19',\n",
    " 'fv_20',\n",
    " 'fv_21',\n",
    " 'fv_22',\n",
    " 'fv_23',\n",
    " 'fv_24',\n",
    " 'fv_25',\n",
    " 'fv_26',\n",
    " 'fv_27',\n",
    " 'fv_28',\n",
    " 'fv_29',\n",
    " 'fv_30',\n",
    " 'fv_31',\n",
    " 'fv_32',\n",
    " 'fv_33',\n",
    " 'fv_34',\n",
    " 'fv_35',\n",
    " 'fv_36',\n",
    " 'fv_37',\n",
    " 'fv_38',\n",
    " 'fv_39',\n",
    " 'fv_40',\n",
    " 'fv_41',\n",
    " 'fv_42',\n",
    " 'fv_43',\n",
    " 'fv_44',\n",
    " 'fv_45',\n",
    " 'fv_46',\n",
    " 'fv_47',\n",
    " 'fv_48',\n",
    " 'fv_49',\n",
    " 'fv_50',\n",
    " 'fv_51',\n",
    " 'fv_52',\n",
    "])\n",
    "\n",
    "# df.to_csv(\"FV_image_value_2023_new_test14.csv\", index=False)\n",
    "\n",
    "# df.to_csv(\"FV_image_value_2023_09_02_early45.csv\", index=False)\n",
    "# df.to_csv(\"FV_image_value_2023_09_02_mid59.csv\", index=False)\n",
    "df.to_csv(\"FV_image_value_2023_09_02_late24.csv\", index=False)"
   ]
  },
  {
   "cell_type": "code",
   "execution_count": null,
   "id": "f7c40de9",
   "metadata": {},
   "outputs": [],
   "source": []
  },
  {
   "cell_type": "code",
   "execution_count": null,
   "id": "1b2bebc4",
   "metadata": {},
   "outputs": [],
   "source": []
  },
  {
   "cell_type": "code",
   "execution_count": null,
   "id": "5a17e900",
   "metadata": {},
   "outputs": [],
   "source": []
  },
  {
   "cell_type": "code",
   "execution_count": null,
   "id": "1dfc4881",
   "metadata": {},
   "outputs": [],
   "source": []
  },
  {
   "cell_type": "markdown",
   "id": "7d473c31",
   "metadata": {},
   "source": [
    "# 📂 📂 Just reload model and pred here 📂 📂\n",
    "\n",
    "    2023-09-02 for new data early-mid-late\n",
    "    \n",
    "    Model: (1) DenseNet201 (2) EfficientNet-V2-XL\n",
    "    "
   ]
  },
  {
   "cell_type": "code",
   "execution_count": 1,
   "id": "7d27393c",
   "metadata": {},
   "outputs": [
    {
     "name": "stderr",
     "output_type": "stream",
     "text": [
      "2023-09-02 18:07:36.322149: I tensorflow/core/platform/cpu_feature_guard.cc:183] This TensorFlow binary is optimized to use available CPU instructions in performance-critical operations.\n",
      "To enable the following instructions: SSE3 SSE4.1 SSE4.2 AVX, in other operations, rebuild TensorFlow with the appropriate compiler flags.\n"
     ]
    }
   ],
   "source": [
    "## Useful routines for preparing data\n",
    "import numpy as np\n",
    "from numpy import array, zeros\n",
    "from os.path import join\n",
    "from skimage.color import gray2rgb\n",
    "from skimage.io import imread\n",
    "from skimage.transform import resize\n",
    "import csv, cv2\n",
    "# import os\n",
    "import skimage\n",
    "\n",
    "\n",
    "import tensorflow as tf # replace all keras layers\n",
    "\n",
    "from mpl_toolkits.mplot3d import axes3d, Axes3D\n",
    "import matplotlib.pyplot as plt\n",
    "from matplotlib import cm\n",
    "from matplotlib.patches import Circle\n",
    "\n",
    "import glob\n",
    "import pandas as pd\n",
    "\n",
    "from tqdm import tqdm, trange\n",
    "# import seaborn as sns # LR時sns.set(style='darkgrid')會改變matplotlib的預設繪圖模式例如隔線、透明邊界等 ！＠# Remove this seting sns的風格無法控制 使用matplotlib本身的功能#\n",
    "from datetime import datetime"
   ]
  },
  {
   "cell_type": "code",
   "execution_count": 2,
   "id": "af5140cb",
   "metadata": {},
   "outputs": [
    {
     "name": "stdout",
     "output_type": "stream",
     "text": [
      "Q tf2.12.0\n",
      "Q cv24.8.0\n",
      "Q np1.22.2\n",
      "Q pd1.5.2\n"
     ]
    }
   ],
   "source": [
    "print(f'Q tf{tf.__version__}')\n",
    "print(f'Q cv2{cv2.__version__}')\n",
    "print(f'Q np{np.__version__}')\n",
    "print(f'Q pd{pd.__version__}')"
   ]
  },
  {
   "cell_type": "code",
   "execution_count": 3,
   "id": "1a1fb29c",
   "metadata": {},
   "outputs": [],
   "source": [
    "# matplotlib displays color in BGR format, we are converting that to RGB\n",
    "def plot_rgb_img(img):\n",
    "    plt.figure(figsize=(8,8))\n",
    "    plt.imshow(img) #plt.imshow(cv2.cvtColor(img, cv2.COLOR_BGR2RGB))  \n",
    "#     plt.imshow(img ,cmap='gray') #plt.imshow(cv2.cvtColor(img, cv2.COLOR_BGR2RGB))\n",
    "    plt.axis('off')\n",
    "    plt.show()"
   ]
  },
  {
   "cell_type": "code",
   "execution_count": 4,
   "id": "72f2cf8f",
   "metadata": {},
   "outputs": [],
   "source": [
    "def get_points_dict(CSV_name):\n",
    "    points_dict={}\n",
    "    with open(CSV_name, 'r') as csvfile:\n",
    "        csvreader = csv.reader(csvfile)\n",
    "        count=0\n",
    "        for row in csvreader:\n",
    "            if count==0:\n",
    "                count+=1\n",
    "                continue\n",
    "            points_dict[row[0]]= [int(x) for x in row[1:]]\n",
    "            \n",
    "    return points_dict     "
   ]
  },
  {
   "cell_type": "code",
   "execution_count": 5,
   "id": "83642732",
   "metadata": {},
   "outputs": [],
   "source": [
    "# tf.data autotune\n",
    "AUTOTUNE = tf.data.experimental.AUTOTUNE\n",
    "\n",
    "img_size = 512 #1024 # 224 #500 #50 # 224 for A+DAS test\n",
    "\n",
    "BATCH_SIZE = 8 #16 32 oom with bone tainable"
   ]
  },
  {
   "cell_type": "markdown",
   "id": "48028370",
   "metadata": {},
   "source": [
    "### ⚙️ Reload trained weight ⚙️"
   ]
  },
  {
   "cell_type": "markdown",
   "id": "ff914c4d",
   "metadata": {},
   "source": [
    "### (1) DenseNet201 "
   ]
  },
  {
   "cell_type": "code",
   "execution_count": 51,
   "id": "66e2b0aa",
   "metadata": {
    "scrolled": true
   },
   "outputs": [],
   "source": [
    "NUM_KEYPOINTS = 52\n",
    "IMG_SIZE = img_size\n",
    "\n",
    "def get_model():\n",
    "    # Load the pre-trained weights of MobileNetV2 and freeze the weights\n",
    "    backbone = tf.keras.applications.DenseNet201(\n",
    "        weights=\"imagenet\", include_top=False, input_shape=(IMG_SIZE, IMG_SIZE, 3)\n",
    "    )\n",
    "    backbone.trainable = True # 20230612\n",
    "\n",
    "    inputs = tf.keras.layers.Input((IMG_SIZE, IMG_SIZE, 3))\n",
    "    x = tf.keras.applications.densenet.preprocess_input(inputs)\n",
    "    x = backbone(x)\n",
    "    \n",
    "    # Keep this block have little better lean.\n",
    "    x = tf.keras.layers.Dropout(0.3)(x)\n",
    "    x = tf.keras.layers.SeparableConv2D(\n",
    "        NUM_KEYPOINTS, kernel_size=5, strides=1, activation=\"relu\"\n",
    "    )(x)\n",
    "    outputs = tf.keras.layers.SeparableConv2D(\n",
    "        NUM_KEYPOINTS, kernel_size=3, strides=1, activation=\"sigmoid\"\n",
    "    )(x)\n",
    "    \n",
    "    # For fix the final output shape is (32, 26, 26, 52) not same as (batch, 52)\n",
    "    outputs = tf.keras.layers.Flatten()(outputs)\n",
    "    #\"\"\"\n",
    "    #Faltten seems enough to pass to outpu dense\n",
    "    outputs = tf.keras.layers.Dense(128,kernel_initializer=tf.keras.initializers.glorot_uniform())(outputs)\n",
    "    outputs = tf.keras.layers.LeakyReLU(alpha=0.1)(outputs)\n",
    "    #\"\"\"\n",
    "\n",
    "    outputs = tf.keras.layers.Dense(NUM_KEYPOINTS,kernel_initializer=tf.keras.initializers.glorot_uniform())(outputs)\n",
    "    \n",
    "    return tf.keras.Model(inputs, outputs, name=\"KPR-DeseNet200-kerasApp\")\n",
    "\n",
    "model = get_model()"
   ]
  },
  {
   "cell_type": "code",
   "execution_count": 52,
   "id": "16615121",
   "metadata": {},
   "outputs": [
    {
     "name": "stdout",
     "output_type": "stream",
     "text": [
      "Model: \"KPR-DeseNet200-kerasApp\"\n",
      "_________________________________________________________________\n",
      " Layer (type)                Output Shape              Param #   \n",
      "=================================================================\n",
      " input_3 (InputLayer)        [(None, 512, 512, 3)]     0         \n",
      "                                                                 \n",
      " tf.math.truediv (TFOpLambda  (None, 512, 512, 3)      0         \n",
      " )                                                               \n",
      "                                                                 \n",
      " tf.nn.bias_add (TFOpLambda)  (None, 512, 512, 3)      0         \n",
      "                                                                 \n",
      " tf.math.truediv_1 (TFOpLamb  (None, 512, 512, 3)      0         \n",
      " da)                                                             \n",
      "                                                                 \n",
      " densenet201 (Functional)    (None, 16, 16, 1920)      18321984  \n",
      "                                                                 \n",
      " dropout_1 (Dropout)         (None, 16, 16, 1920)      0         \n",
      "                                                                 \n",
      " separable_conv2d (Separable  (None, 12, 12, 52)       147892    \n",
      " Conv2D)                                                         \n",
      "                                                                 \n",
      " separable_conv2d_1 (Separab  (None, 10, 10, 52)       3224      \n",
      " leConv2D)                                                       \n",
      "                                                                 \n",
      " flatten (Flatten)           (None, 5200)              0         \n",
      "                                                                 \n",
      " dense_1 (Dense)             (None, 128)               665728    \n",
      "                                                                 \n",
      " leaky_re_lu (LeakyReLU)     (None, 128)               0         \n",
      "                                                                 \n",
      " dense_2 (Dense)             (None, 52)                6708      \n",
      "                                                                 \n",
      "=================================================================\n",
      "Total params: 19,145,536\n",
      "Trainable params: 18,916,480\n",
      "Non-trainable params: 229,056\n",
      "_________________________________________________________________\n"
     ]
    }
   ],
   "source": [
    "# 2023-06-12\n",
    "model.load_weights(\"best_my_model_20230612_bs32_reduce_lr_densenet/saved_weight\")\n",
    "model.summary()"
   ]
  },
  {
   "cell_type": "code",
   "execution_count": null,
   "id": "d859fcd2",
   "metadata": {},
   "outputs": [],
   "source": []
  },
  {
   "cell_type": "code",
   "execution_count": null,
   "id": "f613d6df",
   "metadata": {},
   "outputs": [],
   "source": []
  },
  {
   "cell_type": "markdown",
   "id": "1f75301c",
   "metadata": {},
   "source": [
    "### (2) EfficientNet-V2-XL"
   ]
  },
  {
   "cell_type": "code",
   "execution_count": 53,
   "id": "423daa60",
   "metadata": {},
   "outputs": [],
   "source": [
    "# import tensorflow_hub as hub"
   ]
  },
  {
   "cell_type": "code",
   "execution_count": 54,
   "id": "cae70f5c",
   "metadata": {
    "jupyter": {
     "source_hidden": true
    }
   },
   "outputs": [
    {
     "name": "stdout",
     "output_type": "stream",
     "text": [
      "Selected model: efficientnetv2-xl-21k : https://tfhub.dev/google/imagenet/efficientnet_v2_imagenet21k_xl/feature_vector/2\n",
      "Input size (512, 512)\n"
     ]
    }
   ],
   "source": [
    "\n",
    "model_name = \"efficientnetv2-xl-21k\" # @param ['efficientnetv2-s', 'efficientnetv2-m', 'efficientnetv2-l', 'efficientnetv2-s-21k', 'efficientnetv2-m-21k', 'efficientnetv2-l-21k', 'efficientnetv2-xl-21k', 'efficientnetv2-b0-21k', 'efficientnetv2-b1-21k', 'efficientnetv2-b2-21k', 'efficientnetv2-b3-21k', 'efficientnetv2-s-21k-ft1k', 'efficientnetv2-m-21k-ft1k', 'efficientnetv2-l-21k-ft1k', 'efficientnetv2-xl-21k-ft1k', 'efficientnetv2-b0-21k-ft1k', 'efficientnetv2-b1-21k-ft1k', 'efficientnetv2-b2-21k-ft1k', 'efficientnetv2-b3-21k-ft1k', 'efficientnetv2-b0', 'efficientnetv2-b1', 'efficientnetv2-b2', 'efficientnetv2-b3', 'efficientnet_b0', 'efficientnet_b1', 'efficientnet_b2', 'efficientnet_b3', 'efficientnet_b4', 'efficientnet_b5', 'efficientnet_b6', 'efficientnet_b7', 'bit_s-r50x1', 'inception_v3', 'inception_resnet_v2', 'resnet_v1_50', 'resnet_v1_101', 'resnet_v1_152', 'resnet_v2_50', 'resnet_v2_101', 'resnet_v2_152', 'nasnet_large', 'nasnet_mobile', 'pnasnet_large', 'mobilenet_v2_100_224', 'mobilenet_v2_130_224', 'mobilenet_v2_140_224', 'mobilenet_v3_small_100_224', 'mobilenet_v3_small_075_224', 'mobilenet_v3_large_100_224', 'mobilenet_v3_large_075_224']\n",
    "\n",
    "model_handle_map = {\n",
    "  \"efficientnetv2-s\": \"https://tfhub.dev/google/imagenet/efficientnet_v2_imagenet1k_s/feature_vector/2\",\n",
    "  \"efficientnetv2-m\": \"https://tfhub.dev/google/imagenet/efficientnet_v2_imagenet1k_m/feature_vector/2\",\n",
    "  \"efficientnetv2-l\": \"https://tfhub.dev/google/imagenet/efficientnet_v2_imagenet1k_l/feature_vector/2\",\n",
    "  \"efficientnetv2-s-21k\": \"https://tfhub.dev/google/imagenet/efficientnet_v2_imagenet21k_s/feature_vector/2\",\n",
    "  \"efficientnetv2-m-21k\": \"https://tfhub.dev/google/imagenet/efficientnet_v2_imagenet21k_m/feature_vector/2\",\n",
    "  \"efficientnetv2-l-21k\": \"https://tfhub.dev/google/imagenet/efficientnet_v2_imagenet21k_l/feature_vector/2\",\n",
    "  \"efficientnetv2-xl-21k\": \"https://tfhub.dev/google/imagenet/efficientnet_v2_imagenet21k_xl/feature_vector/2\",\n",
    "  \"efficientnetv2-b0-21k\": \"https://tfhub.dev/google/imagenet/efficientnet_v2_imagenet21k_b0/feature_vector/2\",\n",
    "  \"efficientnetv2-b1-21k\": \"https://tfhub.dev/google/imagenet/efficientnet_v2_imagenet21k_b1/feature_vector/2\",\n",
    "  \"efficientnetv2-b2-21k\": \"https://tfhub.dev/google/imagenet/efficientnet_v2_imagenet21k_b2/feature_vector/2\",\n",
    "  \"efficientnetv2-b3-21k\": \"https://tfhub.dev/google/imagenet/efficientnet_v2_imagenet21k_b3/feature_vector/2\",\n",
    "  \"efficientnetv2-s-21k-ft1k\": \"https://tfhub.dev/google/imagenet/efficientnet_v2_imagenet21k_ft1k_s/feature_vector/2\",\n",
    "  \"efficientnetv2-m-21k-ft1k\": \"https://tfhub.dev/google/imagenet/efficientnet_v2_imagenet21k_ft1k_m/feature_vector/2\",\n",
    "  \"efficientnetv2-l-21k-ft1k\": \"https://tfhub.dev/google/imagenet/efficientnet_v2_imagenet21k_ft1k_l/feature_vector/2\",\n",
    "  \"efficientnetv2-xl-21k-ft1k\": \"https://tfhub.dev/google/imagenet/efficientnet_v2_imagenet21k_ft1k_xl/feature_vector/2\",\n",
    "  \"efficientnetv2-b0-21k-ft1k\": \"https://tfhub.dev/google/imagenet/efficientnet_v2_imagenet21k_ft1k_b0/feature_vector/2\",\n",
    "  \"efficientnetv2-b1-21k-ft1k\": \"https://tfhub.dev/google/imagenet/efficientnet_v2_imagenet21k_ft1k_b1/feature_vector/2\",\n",
    "  \"efficientnetv2-b2-21k-ft1k\": \"https://tfhub.dev/google/imagenet/efficientnet_v2_imagenet21k_ft1k_b2/feature_vector/2\",\n",
    "  \"efficientnetv2-b3-21k-ft1k\": \"https://tfhub.dev/google/imagenet/efficientnet_v2_imagenet21k_ft1k_b3/feature_vector/2\",\n",
    "  \"efficientnetv2-b0\": \"https://tfhub.dev/google/imagenet/efficientnet_v2_imagenet1k_b0/feature_vector/2\",\n",
    "  \"efficientnetv2-b1\": \"https://tfhub.dev/google/imagenet/efficientnet_v2_imagenet1k_b1/feature_vector/2\",\n",
    "  \"efficientnetv2-b2\": \"https://tfhub.dev/google/imagenet/efficientnet_v2_imagenet1k_b2/feature_vector/2\",\n",
    "  \"efficientnetv2-b3\": \"https://tfhub.dev/google/imagenet/efficientnet_v2_imagenet1k_b3/feature_vector/2\",\n",
    "  \"efficientnet_b0\": \"https://tfhub.dev/tensorflow/efficientnet/b0/feature-vector/1\",\n",
    "  \"efficientnet_b1\": \"https://tfhub.dev/tensorflow/efficientnet/b1/feature-vector/1\",\n",
    "  \"efficientnet_b2\": \"https://tfhub.dev/tensorflow/efficientnet/b2/feature-vector/1\",\n",
    "  \"efficientnet_b3\": \"https://tfhub.dev/tensorflow/efficientnet/b3/feature-vector/1\",\n",
    "  \"efficientnet_b4\": \"https://tfhub.dev/tensorflow/efficientnet/b4/feature-vector/1\",\n",
    "  \"efficientnet_b5\": \"https://tfhub.dev/tensorflow/efficientnet/b5/feature-vector/1\",\n",
    "  \"efficientnet_b6\": \"https://tfhub.dev/tensorflow/efficientnet/b6/feature-vector/1\",\n",
    "  \"efficientnet_b7\": \"https://tfhub.dev/tensorflow/efficientnet/b7/feature-vector/1\",\n",
    "  \"bit_s-r50x1\": \"https://tfhub.dev/google/bit/s-r50x1/1\",\n",
    "  \"inception_v3\": \"https://tfhub.dev/google/imagenet/inception_v3/feature-vector/4\",\n",
    "  \"inception_resnet_v2\": \"https://tfhub.dev/google/imagenet/inception_resnet_v2/feature-vector/4\",\n",
    "  \"resnet_v1_50\": \"https://tfhub.dev/google/imagenet/resnet_v1_50/feature-vector/4\",\n",
    "  \"resnet_v1_101\": \"https://tfhub.dev/google/imagenet/resnet_v1_101/feature-vector/4\",\n",
    "  \"resnet_v1_152\": \"https://tfhub.dev/google/imagenet/resnet_v1_152/feature-vector/4\",\n",
    "  \"resnet_v2_50\": \"https://tfhub.dev/google/imagenet/resnet_v2_50/feature-vector/4\",\n",
    "  \"resnet_v2_101\": \"https://tfhub.dev/google/imagenet/resnet_v2_101/feature-vector/4\",\n",
    "  \"resnet_v2_152\": \"https://tfhub.dev/google/imagenet/resnet_v2_152/feature-vector/4\",\n",
    "  \"nasnet_large\": \"https://tfhub.dev/google/imagenet/nasnet_large/feature_vector/4\",\n",
    "  \"nasnet_mobile\": \"https://tfhub.dev/google/imagenet/nasnet_mobile/feature_vector/4\",\n",
    "  \"pnasnet_large\": \"https://tfhub.dev/google/imagenet/pnasnet_large/feature_vector/4\",\n",
    "  \"mobilenet_v2_100_224\": \"https://tfhub.dev/google/imagenet/mobilenet_v2_100_224/feature_vector/4\",\n",
    "  \"mobilenet_v2_130_224\": \"https://tfhub.dev/google/imagenet/mobilenet_v2_130_224/feature_vector/4\",\n",
    "  \"mobilenet_v2_140_224\": \"https://tfhub.dev/google/imagenet/mobilenet_v2_140_224/feature_vector/4\",\n",
    "  \"mobilenet_v3_small_100_224\": \"https://tfhub.dev/google/imagenet/mobilenet_v3_small_100_224/feature_vector/5\",\n",
    "  \"mobilenet_v3_small_075_224\": \"https://tfhub.dev/google/imagenet/mobilenet_v3_small_075_224/feature_vector/5\",\n",
    "  \"mobilenet_v3_large_100_224\": \"https://tfhub.dev/google/imagenet/mobilenet_v3_large_100_224/feature_vector/5\",\n",
    "  \"mobilenet_v3_large_075_224\": \"https://tfhub.dev/google/imagenet/mobilenet_v3_large_075_224/feature_vector/5\",\n",
    "}\n",
    "\n",
    "model_image_size_map = {\n",
    "  \"efficientnetv2-s\": 384,\n",
    "  \"efficientnetv2-m\": 480,\n",
    "  \"efficientnetv2-l\": 480,\n",
    "  \"efficientnetv2-b0\": 224,\n",
    "  \"efficientnetv2-b1\": 240,\n",
    "  \"efficientnetv2-b2\": 260,\n",
    "  \"efficientnetv2-b3\": 300,\n",
    "  \"efficientnetv2-s-21k\": 384,\n",
    "  \"efficientnetv2-m-21k\": 480,\n",
    "  \"efficientnetv2-l-21k\": 480,\n",
    "  \"efficientnetv2-xl-21k\": 512,\n",
    "  \"efficientnetv2-b0-21k\": 224,\n",
    "  \"efficientnetv2-b1-21k\": 240,\n",
    "  \"efficientnetv2-b2-21k\": 260,\n",
    "  \"efficientnetv2-b3-21k\": 300,\n",
    "  \"efficientnetv2-s-21k-ft1k\": 384,\n",
    "  \"efficientnetv2-m-21k-ft1k\": 480,\n",
    "  \"efficientnetv2-l-21k-ft1k\": 480,\n",
    "  \"efficientnetv2-xl-21k-ft1k\": 512,\n",
    "  \"efficientnetv2-b0-21k-ft1k\": 224,\n",
    "  \"efficientnetv2-b1-21k-ft1k\": 240,\n",
    "  \"efficientnetv2-b2-21k-ft1k\": 260,\n",
    "  \"efficientnetv2-b3-21k-ft1k\": 300, \n",
    "  \"efficientnet_b0\": 224,\n",
    "  \"efficientnet_b1\": 240,\n",
    "  \"efficientnet_b2\": 260,\n",
    "  \"efficientnet_b3\": 300,\n",
    "  \"efficientnet_b4\": 380,\n",
    "  \"efficientnet_b5\": 456,\n",
    "  \"efficientnet_b6\": 528,\n",
    "  \"efficientnet_b7\": 600,\n",
    "  \"inception_v3\": 299,\n",
    "  \"inception_resnet_v2\": 299,\n",
    "  \"nasnet_large\": 331,\n",
    "  \"pnasnet_large\": 331,\n",
    "}\n",
    "\n",
    "model_handle = model_handle_map.get(model_name)\n",
    "pixels = model_image_size_map.get(model_name, 224)\n",
    "\n",
    "print(f\"Selected model: {model_name} : {model_handle}\")\n",
    "\n",
    "IMAGE_SIZE = (pixels, pixels)\n",
    "print(f\"Input size {IMAGE_SIZE}\")\n",
    "\n",
    "# BATCH_SIZE = 16 # we have set BATCH_SIZE = 8, already."
   ]
  },
  {
   "cell_type": "code",
   "execution_count": 55,
   "id": "8c85143e",
   "metadata": {},
   "outputs": [],
   "source": [
    "# img_size = 512 #1024 # 224 #500 #50 # 224 for A+DAS test\n",
    "\n",
    "# NUM_KEYPOINTS = 52\n",
    "# IMG_SIZE = img_size\n",
    "\n",
    "# do_fine_tuning = False\n",
    "\n",
    "\n",
    "# print(\"Building model with\", model_handle)\n",
    "# model = tf.keras.Sequential([\n",
    "#     # Explicitly define the input shape so the model can be properly\n",
    "#     # loaded by the TFLiteConverter\n",
    "#     tf.keras.layers.InputLayer(input_shape=IMAGE_SIZE + (3,)),\n",
    "#     hub.KerasLayer(model_handle, trainable=do_fine_tuning),\n",
    "#     tf.keras.layers.Dropout(rate=0.2),\n",
    "#     tf.keras.layers.Dense(NUM_KEYPOINTS,\n",
    "#                           kernel_regularizer=tf.keras.regularizers.l2(0.0001))\n",
    "# ], name=\"efnv2xl\")\n",
    "# model.build((None,)+IMAGE_SIZE+(3,))\n",
    "# model.summary()"
   ]
  },
  {
   "cell_type": "code",
   "execution_count": 56,
   "id": "e33650b2",
   "metadata": {},
   "outputs": [],
   "source": [
    "# # 2023-09-02\n",
    "# model.load_weights(\"best_my_model_20230902_bs8_reduce_lr_efnv2xl/saved_weight\")\n",
    "# model.summary()"
   ]
  },
  {
   "cell_type": "markdown",
   "id": "59001f4a",
   "metadata": {},
   "source": [
    "## Above model reload just do onece!"
   ]
  },
  {
   "cell_type": "code",
   "execution_count": null,
   "id": "73d84408",
   "metadata": {},
   "outputs": [],
   "source": []
  },
  {
   "cell_type": "markdown",
   "id": "ab077c47",
   "metadata": {},
   "source": [
    "### ⚙️ Load test data ⚙️"
   ]
  },
  {
   "cell_type": "code",
   "execution_count": 57,
   "id": "cc019f6a",
   "metadata": {},
   "outputs": [
    {
     "name": "stdout",
     "output_type": "stream",
     "text": [
      "[FV_image_value_2023_09_02_early45.csv]\t Dict created.... may take a while.\n"
     ]
    },
    {
     "name": "stderr",
     "output_type": "stream",
     "text": [
      "100%|██████████| 45/45 [00:06<00:00,  7.09it/s]\n"
     ]
    },
    {
     "name": "stdout",
     "output_type": "stream",
     "text": [
      "(45, 512, 512, 3) (45, 52)\n"
     ]
    }
   ],
   "source": [
    "def load_imgs_and_keypoints_test(CSV_name, dirname='PCGA-points'):\n",
    "    # Write your code for loading images and points here\n",
    "    # sources [10-05]\n",
    "#     FV_img = \"POACG_crop\"                          #視野\n",
    "#     FV_val = \"POACG_FV_vaule\"                    #視野值\n",
    "#     FD_img = \"PACG_fovea_centered_fundus_crop\"                 #眼底\n",
    "#     FD_cod = \"PACG_fovea_cnetered_fundus_crop_FV_referencePT\"  #眼點黃斑、光盤座標\n",
    "\n",
    "#     data_Dir = \"~/data/PACG_data_20221005/\"\n",
    "#     data_Dir = \"/home/u3148947/data/PACG_data_20221005/\"\n",
    "\n",
    "    points_dict={}\n",
    "    with open(CSV_name, 'r') as csvfile:\n",
    "        csvreader = csv.reader(csvfile)\n",
    "        count=0\n",
    "        for row in csvreader:\n",
    "            if count==0:\n",
    "                count+=1\n",
    "                continue\n",
    "            points_dict[row[0]]= [int(x) for x in row[1:]]\n",
    "    print(f\"[{CSV_name}]\\t Dict created.... may take a while.\")\n",
    "#     print(points_dict['0268212'])\n",
    "#     print(points_dict.keys())\n",
    "    filename_list = [name + \".jpg\" for name in points_dict.keys()]\n",
    "    \n",
    "#     folder = \"/home/u3148947/data/PACG_data_20221005/2023_new_test_14\"\n",
    "    folder = \"/home/u3148947/data/PACG_data_20221005/2023_09_02_early-mid-late/early\" # early\n",
    "#     folder = \"/home/u3148947/data/PACG_data_20221005/2023_09_02_early-mid-late/mid\"   # mid\n",
    "#     folder = \"/home/u3148947/data/PACG_data_20221005/2023_09_02_early-mid-late/late\"  # late\n",
    "    images = []\n",
    "    points = []\n",
    "    filename_arr = []\n",
    "#     for filename in sorted(os.listdir(folder)):#[num_imgs:2*num_imgs]:                   # all 12 images\n",
    "    for filename in tqdm(filename_list):                                                       # name from list to make sure all is fixed\n",
    "        #print(\"  check---\", filename, os.path.join(folder,filename))\n",
    "        img = cv2.cvtColor(cv2.imread(os.path.join(folder,filename)), cv2.COLOR_BGR2RGB) # org image\n",
    "        #print(\"  check---\", \"img read\")\n",
    "        cols,rows,_ = img.shape                                                          # org image \n",
    "        \n",
    "        if img is not None:\n",
    "            images.append(skimage.transform.resize(img,(img_size,img_size)))             # resize image\n",
    "            #print(\"  check---\", \"image append\")\n",
    "            filename = os.path.splitext(filename)[0]                                     # without \".jpg\"\n",
    "            #print(\"  check---\", \"filename rm .jpg\")\n",
    "            point = points_dict[filename]\n",
    "            #print(\"  check---\", point, img.shape)\n",
    "            \n",
    "#             for i in range(52):                                                        # fv do need rescal\n",
    "#                 \"\"\" convert xy to [-0.5, 0.5]\n",
    "#                     why?\n",
    "#                 \"\"\"\n",
    "#                 print(\"  check---\", \"p14#\", i)\n",
    "#                 print(\"  check---\", \"org2nor\", point[2*i])\n",
    "#                 point[2*i] = point[2*i]/cols - 0.5\n",
    "#                 print(\"  check---\", \"org2nor\", point[2*i])\n",
    "#                 point[2*i+1] = point[2*i+1]/rows - 0.5\n",
    "\n",
    "            #print(\"  check---\", point)\n",
    "            points.append(point)\n",
    "            filename_arr.append(filename)\n",
    "            \n",
    "      \n",
    "    images = np.array(images).astype(np.float32)\n",
    "    points = np.array(points)\n",
    "    filename_arr = np.array(filename_arr)\n",
    "#     points = sort_points(points)\n",
    "    print(images.shape,points.shape)\n",
    "    \n",
    "    return images, points, filename_arr\n",
    "\n",
    "\n",
    "# FixedShuffle\n",
    "# imgs_test, points_test, filename_test = load_imgs_and_keypoints_test(\"FV_image_value_2023_new_test14.csv\")\n",
    "\n",
    "imgs_test, points_test, filename_test = load_imgs_and_keypoints_test(\"FV_image_value_2023_09_02_early45.csv\")\n",
    "# imgs_test, points_test, filename_test = load_imgs_and_keypoints_test(\"FV_image_value_2023_09_02_mid59.csv\")\n",
    "# imgs_test, points_test, filename_test = load_imgs_and_keypoints_test(\"FV_image_value_2023_09_02_late24.csv\")"
   ]
  },
  {
   "cell_type": "markdown",
   "id": "1d21594a",
   "metadata": {},
   "source": [
    "## 💹 Predict test images 💹\n",
    "\n",
    "    2023-09-02 \n",
    "    early, mid, late"
   ]
  },
  {
   "cell_type": "code",
   "execution_count": 58,
   "id": "b8b4a040",
   "metadata": {
    "scrolled": true
   },
   "outputs": [
    {
     "name": "stderr",
     "output_type": "stream",
     "text": [
      "2023-09-02 18:36:28.243692: W tensorflow/core/grappler/optimizers/meta_optimizer.cc:161] TF_ENABLE_AUTO_MIXED_PRECISION has no effect.\n",
      "2023-09-02 18:36:28.243726: W tensorflow/core/grappler/optimizers/meta_optimizer.cc:161] TF_ENABLE_AUTO_MIXED_PRECISION has no effect.\n",
      "2023-09-02 18:36:28.243731: W tensorflow/core/grappler/optimizers/meta_optimizer.cc:161] TF_ENABLE_AUTO_MIXED_PRECISION has no effect.\n",
      "2023-09-02 18:36:28.243735: W tensorflow/core/grappler/optimizers/meta_optimizer.cc:161] TF_ENABLE_AUTO_MIXED_PRECISION has no effect.\n",
      "2023-09-02 18:36:28.243748: W tensorflow/core/grappler/optimizers/meta_optimizer.cc:161] TF_ENABLE_AUTO_MIXED_PRECISION has no effect.\n",
      "2023-09-02 18:36:28.243754: W tensorflow/core/grappler/optimizers/meta_optimizer.cc:161] TF_ENABLE_AUTO_MIXED_PRECISION has no effect.\n",
      "2023-09-02 18:36:28.243758: W tensorflow/core/grappler/optimizers/meta_optimizer.cc:161] TF_ENABLE_AUTO_MIXED_PRECISION has no effect.\n",
      "2023-09-02 18:36:28.243762: W tensorflow/core/grappler/optimizers/meta_optimizer.cc:161] TF_ENABLE_AUTO_MIXED_PRECISION has no effect.\n",
      "2023-09-02 18:36:28.247613: W tensorflow/core/grappler/optimizers/meta_optimizer.cc:161] TF_ENABLE_AUTO_MIXED_PRECISION has no effect.\n",
      "2023-09-02 18:36:28.247635: W tensorflow/core/grappler/optimizers/meta_optimizer.cc:161] TF_ENABLE_AUTO_MIXED_PRECISION has no effect.\n",
      "2023-09-02 18:36:28.247641: W tensorflow/core/grappler/optimizers/meta_optimizer.cc:161] TF_ENABLE_AUTO_MIXED_PRECISION has no effect.\n",
      "2023-09-02 18:36:28.247645: W tensorflow/core/grappler/optimizers/meta_optimizer.cc:161] TF_ENABLE_AUTO_MIXED_PRECISION has no effect.\n",
      "2023-09-02 18:36:28.247657: W tensorflow/core/grappler/optimizers/meta_optimizer.cc:161] TF_ENABLE_AUTO_MIXED_PRECISION has no effect.\n",
      "2023-09-02 18:36:28.247662: W tensorflow/core/grappler/optimizers/meta_optimizer.cc:161] TF_ENABLE_AUTO_MIXED_PRECISION has no effect.\n",
      "2023-09-02 18:36:28.247666: W tensorflow/core/grappler/optimizers/meta_optimizer.cc:161] TF_ENABLE_AUTO_MIXED_PRECISION has no effect.\n",
      "2023-09-02 18:36:28.247670: W tensorflow/core/grappler/optimizers/meta_optimizer.cc:161] TF_ENABLE_AUTO_MIXED_PRECISION has no effect.\n",
      "2023-09-02 18:36:28.252512: W tensorflow/core/grappler/optimizers/meta_optimizer.cc:161] TF_ENABLE_AUTO_MIXED_PRECISION has no effect.\n",
      "2023-09-02 18:36:28.252531: W tensorflow/core/grappler/optimizers/meta_optimizer.cc:161] TF_ENABLE_AUTO_MIXED_PRECISION has no effect.\n",
      "2023-09-02 18:36:28.252536: W tensorflow/core/grappler/optimizers/meta_optimizer.cc:161] TF_ENABLE_AUTO_MIXED_PRECISION has no effect.\n",
      "2023-09-02 18:36:28.252540: W tensorflow/core/grappler/optimizers/meta_optimizer.cc:161] TF_ENABLE_AUTO_MIXED_PRECISION has no effect.\n",
      "2023-09-02 18:36:28.252551: W tensorflow/core/grappler/optimizers/meta_optimizer.cc:161] TF_ENABLE_AUTO_MIXED_PRECISION has no effect.\n",
      "2023-09-02 18:36:28.252556: W tensorflow/core/grappler/optimizers/meta_optimizer.cc:161] TF_ENABLE_AUTO_MIXED_PRECISION has no effect.\n",
      "2023-09-02 18:36:28.252560: W tensorflow/core/grappler/optimizers/meta_optimizer.cc:161] TF_ENABLE_AUTO_MIXED_PRECISION has no effect.\n",
      "2023-09-02 18:36:28.252564: W tensorflow/core/grappler/optimizers/meta_optimizer.cc:161] TF_ENABLE_AUTO_MIXED_PRECISION has no effect.\n",
      "2023-09-02 18:36:29.598332: W tensorflow/core/grappler/optimizers/meta_optimizer.cc:161] TF_ENABLE_AUTO_MIXED_PRECISION has no effect.\n",
      "2023-09-02 18:36:29.598375: W tensorflow/core/grappler/optimizers/meta_optimizer.cc:161] TF_ENABLE_AUTO_MIXED_PRECISION has no effect.\n",
      "2023-09-02 18:36:29.598380: W tensorflow/core/grappler/optimizers/meta_optimizer.cc:161] TF_ENABLE_AUTO_MIXED_PRECISION has no effect.\n",
      "2023-09-02 18:36:29.598386: W tensorflow/core/grappler/optimizers/meta_optimizer.cc:161] TF_ENABLE_AUTO_MIXED_PRECISION has no effect.\n",
      "2023-09-02 18:36:29.598399: W tensorflow/core/grappler/optimizers/meta_optimizer.cc:161] TF_ENABLE_AUTO_MIXED_PRECISION has no effect.\n",
      "2023-09-02 18:36:29.598405: W tensorflow/core/grappler/optimizers/meta_optimizer.cc:161] TF_ENABLE_AUTO_MIXED_PRECISION has no effect.\n",
      "2023-09-02 18:36:29.598409: W tensorflow/core/grappler/optimizers/meta_optimizer.cc:161] TF_ENABLE_AUTO_MIXED_PRECISION has no effect.\n",
      "2023-09-02 18:36:29.598413: W tensorflow/core/grappler/optimizers/meta_optimizer.cc:161] TF_ENABLE_AUTO_MIXED_PRECISION has no effect.\n"
     ]
    },
    {
     "name": "stdout",
     "output_type": "stream",
     "text": [
      "1/2 [==============>...............] - ETA: 32s"
     ]
    },
    {
     "name": "stderr",
     "output_type": "stream",
     "text": [
      "2023-09-02 18:37:01.085389: W tensorflow/core/grappler/optimizers/meta_optimizer.cc:161] TF_ENABLE_AUTO_MIXED_PRECISION has no effect.\n",
      "2023-09-02 18:37:01.085429: W tensorflow/core/grappler/optimizers/meta_optimizer.cc:161] TF_ENABLE_AUTO_MIXED_PRECISION has no effect.\n",
      "2023-09-02 18:37:01.085434: W tensorflow/core/grappler/optimizers/meta_optimizer.cc:161] TF_ENABLE_AUTO_MIXED_PRECISION has no effect.\n",
      "2023-09-02 18:37:01.085438: W tensorflow/core/grappler/optimizers/meta_optimizer.cc:161] TF_ENABLE_AUTO_MIXED_PRECISION has no effect.\n",
      "2023-09-02 18:37:01.085451: W tensorflow/core/grappler/optimizers/meta_optimizer.cc:161] TF_ENABLE_AUTO_MIXED_PRECISION has no effect.\n",
      "2023-09-02 18:37:01.085456: W tensorflow/core/grappler/optimizers/meta_optimizer.cc:161] TF_ENABLE_AUTO_MIXED_PRECISION has no effect.\n",
      "2023-09-02 18:37:01.085461: W tensorflow/core/grappler/optimizers/meta_optimizer.cc:161] TF_ENABLE_AUTO_MIXED_PRECISION has no effect.\n",
      "2023-09-02 18:37:01.085465: W tensorflow/core/grappler/optimizers/meta_optimizer.cc:161] TF_ENABLE_AUTO_MIXED_PRECISION has no effect.\n"
     ]
    },
    {
     "name": "stdout",
     "output_type": "stream",
     "text": [
      "2/2 [==============================] - 37s 4s/step\n",
      "CPU times: user 29.7 s, sys: 5.79 s, total: 35.5 s\n",
      "Wall time: 37.1 s\n"
     ]
    }
   ],
   "source": [
    "%%time\n",
    "test_points_pred = model.predict(imgs_test)"
   ]
  },
  {
   "cell_type": "code",
   "execution_count": 59,
   "id": "a1fca6ce",
   "metadata": {},
   "outputs": [
    {
     "data": {
      "image/png": "[encoded data removed]",
      "text/plain": [
       "<Figure size 400x400 with 1 Axes>"
      ]
     },
     "metadata": {},
     "output_type": "display_data"
    }
   ],
   "source": [
    "# FV train\n",
    "\n",
    "# train_points_pred\n",
    "\n",
    "\n",
    "test_points_dict = get_points_dict(\"FV_image_value_2023_09_02_early45.csv\")\n",
    "# test_points_dict = get_points_dict(\"FV_image_value_2023_09_02_mid59.csv\")\n",
    "# test_points_dict = get_points_dict(\"FV_image_value_2023_09_02_late24.csv\")\n",
    "\n",
    "\n",
    "plt.figure(figsize=(4, 4))\n",
    "plt.plot([0, 40], [0, 40], color='black', linewidth=1.0)\n",
    "plt.axis([0, 40, 0, 40])    \n",
    "plt.ylabel(\"Predicted FV [dB]\")\n",
    "plt.xlabel(\"Ground Truth FV [dB]\")\n",
    "\n",
    "plt.title(\"20230902-early\")\n",
    "# plt.title(\"20230902-mid\")\n",
    "# plt.title(\"20230902-late\")\n",
    "\n",
    "# points_train, points_val\n",
    "for i in range(len(test_points_dict)): # Also use same val_dict to get the filename and ordering.\n",
    "    # max_val = 40\n",
    "    data_range = 40\n",
    "    \n",
    "    # get the filename from val dict\n",
    "    test_points_dict_list = list(test_points_dict.items())\n",
    "#     fv_img_name = best_model.split(\"/\")[0] + \"/\" + val_points_dict_list[i][0] + \"_predFV.jpg\"\n",
    "#     fv_metrics_name = best_model.split(\"/\")[0] + \"/\" + val_points_dict_list[i][0] + \"_metrics.txt\"\n",
    "#     print(\"check filename:\", fv_img_name)\n",
    "    \n",
    "#     prd_p = reshape_FV_value_list(val_points_pred[i])\n",
    "#     gt_p = reshape_FV_value_list(points_val[i])\n",
    "    \n",
    "#     #check single vale in the map\n",
    "#     print(\"check prd_type:\", prd_p[6,4], prd_p.dtype, gt_p[6,4], gt_p.dtype,)\n",
    "#     print(\"check prd_type:\", prd_p.astype(np.uint8)[6,4], gt_p.astype(np.uint8)[6,4], gt_p.astype(np.uint8)[6,4].dtype)\n",
    "\n",
    "#     # set value to float32\n",
    "#     prd_p = prd_p.astype(np.float32)\n",
    "#     gt_p  = gt_p.astype(np.float32)\n",
    "    \n",
    "    plt.scatter(x=points_test[i].astype(np.float32), y=test_points_pred[i].astype(np.float32), edgecolors='g', facecolors='none', alpha=0.5)\n",
    "\n",
    "\n",
    "plt.show()"
   ]
  },
  {
   "cell_type": "code",
   "execution_count": 60,
   "id": "1670dd44",
   "metadata": {},
   "outputs": [
    {
     "data": {
      "image/png": "[encoded data removed]",
      "text/plain": [
       "<Figure size 400x400 with 1 Axes>"
      ]
     },
     "metadata": {},
     "output_type": "display_data"
    }
   ],
   "source": [
    "plt.figure(figsize=(4, 4))\n",
    "plt.plot([0, 40], [0, 40], color='black', linewidth=1.0)\n",
    "plt.axis([0, 40, 0, 40])    \n",
    "plt.ylabel(\"Predicted FV [dB]\")\n",
    "plt.xlabel(\"Ground Truth FV [dB]\")\n",
    "\n",
    "plt.title(\"20230902-early\")\n",
    "# plt.title(\"20230902-mid\")\n",
    "# plt.title(\"20230902-late\")\n",
    "\n",
    "\n",
    "# points_train, points_val\n",
    "for i in range(len(test_points_dict)): # Also use same val_dict to get the filename and ordering.\n",
    "    # max_val = 40\n",
    "    data_range = 40\n",
    "    \n",
    "    # get the filename from val dict\n",
    "    test_points_dict_list = list(test_points_dict.items())\n",
    "#     fv_img_name = best_model.split(\"/\")[0] + \"/\" + val_points_dict_list[i][0] + \"_predFV.jpg\"\n",
    "#     fv_metrics_name = best_model.split(\"/\")[0] + \"/\" + val_points_dict_list[i][0] + \"_metrics.txt\"\n",
    "#     print(\"check filename:\", fv_img_name)\n",
    "    \n",
    "#     prd_p = reshape_FV_value_list(val_points_pred[i])\n",
    "#     gt_p = reshape_FV_value_list(points_val[i])\n",
    "    \n",
    "#     #check single vale in the map\n",
    "#     print(\"check prd_type:\", prd_p[6,4], prd_p.dtype, gt_p[6,4], gt_p.dtype,)\n",
    "#     print(\"check prd_type:\", prd_p.astype(np.uint8)[6,4], gt_p.astype(np.uint8)[6,4], gt_p.astype(np.uint8)[6,4].dtype)\n",
    "\n",
    "#     # set value to float32\n",
    "#     prd_p = prd_p.astype(np.float32)\n",
    "#     gt_p  = gt_p.astype(np.float32)\n",
    "    \n",
    "    plt.scatter(x=np.mean(points_test[i].astype(np.float32)), y=np.mean(test_points_pred[i].astype(np.float32)), c=\"dodgerblue\", alpha=0.5)\n",
    "\n",
    "\n",
    "plt.show()"
   ]
  },
  {
   "cell_type": "code",
   "execution_count": null,
   "id": "4ddeb423",
   "metadata": {},
   "outputs": [],
   "source": []
  },
  {
   "cell_type": "code",
   "execution_count": null,
   "id": "88370fd7",
   "metadata": {},
   "outputs": [],
   "source": []
  },
  {
   "cell_type": "markdown",
   "id": "acd817de",
   "metadata": {},
   "source": [
    "### MAE\n",
    "\n",
    "    val_points_dict - > test_points_dict\n",
    "    val_points_pred - > test_points_pred\n",
    "    points_val - > points_test\n",
    "    do not save pred.jpg and metrics.txt"
   ]
  },
  {
   "cell_type": "code",
   "execution_count": 61,
   "id": "17fb2e5b",
   "metadata": {},
   "outputs": [],
   "source": [
    "val_points_dict = test_points_dict\n",
    "val_points_pred = test_points_pred\n",
    "points_val = points_test"
   ]
  },
  {
   "cell_type": "code",
   "execution_count": 62,
   "id": "bf1a23cc",
   "metadata": {},
   "outputs": [],
   "source": [
    "def reshape_FV_value_list(fv_list):\n",
    "    rank = [\n",
    "        4,\n",
    "        6,\n",
    "        8,\n",
    "        8,\n",
    "        8,\n",
    "        8,\n",
    "        6,\n",
    "        4]\n",
    "#     gt_ = [\n",
    "#      23 21 24 18\n",
    "#      24 24 25 20 23 27\n",
    "#      26 27 22 25 24 26 26 23 \n",
    "#      29 23 27 28  0 27 26 25 \n",
    "#      25  0 28 28 29 29 29 28 \n",
    "#      30 30 30 29 26 29 28 27 \n",
    "#      29 27 23 27 28 27\n",
    "#      25 27 24 24]\n",
    "    \n",
    "#     for i, idx in enumerate(rank):\n",
    "#         print(f\"rank: {i} {idx}\")\n",
    "        \n",
    "#         arr_idx_1 = np.pad(sampl_arr_1[i:idx], ((8-idx, 8-idx)), 'constant',constant_values=(0))\n",
    "        \n",
    "#         print(arr_idx_1)\n",
    "    \n",
    "    tmp_arr = []\n",
    "    steps = 0\n",
    "    h_rows = 4\n",
    "    for i, idx in enumerate(rank):\n",
    "        #print(f\"rank: {i} {idx}\")\n",
    "        \n",
    "#         # 8-rows\n",
    "#         if i == 0 and idx == 4:\n",
    "#             arr_idx_1 = np.pad(fv_list[0:idx], ((2, 2)), 'constant',constant_values=(0))\n",
    "#         if i == 1 and idx == 6:\n",
    "#             arr_idx_1 = np.pad(fv_list[4:4+idx], ((1, 1)), 'constant',constant_values=(0))\n",
    "#         if i == 2 and idx == 8:\n",
    "#             arr_idx_1 = np.pad(fv_list[10:10+idx], ((8-idx, 8-idx)), 'constant',constant_values=(0))\n",
    "#         if i == 3 and idx == 8:\n",
    "#             arr_idx_1 = np.pad(fv_list[18:18+idx], ((8-idx, 8-idx)), 'constant',constant_values=(0))\n",
    "#         if i == 4 and idx == 8:\n",
    "#             arr_idx_1 = np.pad(fv_list[26:26+idx], ((8-idx, 8-idx)), 'constant',constant_values=(0))\n",
    "#         if i == 5 and idx == 8:\n",
    "#             arr_idx_1 = np.pad(fv_list[34:34+idx], ((8-idx, 8-idx)), 'constant',constant_values=(0))\n",
    "#         if i == 6 and idx == 6:\n",
    "#             arr_idx_1 = np.pad(fv_list[42:42+idx], ((1, 1)), 'constant',constant_values=(0))\n",
    "#         if i == 7 and idx == 4:\n",
    "#             arr_idx_1 = np.pad(fv_list[48:48+idx], ((2, 2)), 'constant',constant_values=(0))\n",
    "\n",
    "\n",
    "        # 8-rows in onece, half-rows = 4\n",
    "        arr_idx_1 = np.pad(fv_list[steps : steps + idx], ((h_rows - int(idx/2), h_rows - int(idx/2))), 'constant', constant_values=(40))\n",
    "        \n",
    "        steps += idx\n",
    "            \n",
    "        tmp_arr.append(arr_idx_1)    \n",
    "        \n",
    "        #print(arr_idx_1)\n",
    "    #print(tmp_arr)\n",
    "    return np.vstack(tmp_arr)\n",
    "\n",
    "def reshape_FV_value_to_org_list(fv_list):\n",
    "    rank = [\n",
    "        4,\n",
    "        6,\n",
    "        8,\n",
    "        8,\n",
    "        8,\n",
    "        8,\n",
    "        6,\n",
    "        4]\n",
    "\n",
    "    \n",
    "    tmp_arr = []\n",
    "    steps = 0\n",
    "    h_rows = 4\n",
    "    for i, idx in enumerate(rank):\n",
    "        #print(f\"rank: {i} {idx}\")\n",
    "        \n",
    "        # 8-rows in onece, half-rows = 4\n",
    "        arr_idx_1 = fv_list[steps : steps + idx]\n",
    "        \n",
    "        steps += idx\n",
    "            \n",
    "        tmp_arr.append(arr_idx_1)    \n",
    "        \n",
    "        #print(arr_idx_1)\n",
    "    #print(tmp_arr)\n",
    "    return tmp_arr"
   ]
  },
  {
   "cell_type": "code",
   "execution_count": 63,
   "id": "b50716fa",
   "metadata": {
    "scrolled": true
   },
   "outputs": [
    {
     "name": "stdout",
     "output_type": "stream",
     "text": [
      "check prd_type: 26.123344 float32 25 int64\n",
      "check prd_type: 26 25 uint8\n",
      "MAE : 3.7163853645324707\n",
      "MSE : 30.04485321044922\n",
      "PSNR: 17.26349897297575\n",
      "SSIM: 0.7086804956197739\n",
      "check prd_type: 26.004114 float32 27 int64\n",
      "check prd_type: 26 27 uint8\n",
      "MAE : 4.032174110412598\n",
      "MSE : 36.33574676513672\n",
      "PSNR: 16.43785874991293\n",
      "SSIM: 0.6416000723838806\n",
      "check prd_type: 26.194647 float32 28 int64\n",
      "check prd_type: 26 28 uint8\n",
      "MAE : 3.42258882522583\n",
      "MSE : 31.090835571289062\n",
      "PSNR: 17.114875725238726\n",
      "SSIM: 0.6072584092617035\n",
      "check prd_type: 26.182718 float32 27 int64\n",
      "check prd_type: 26 27 uint8\n",
      "MAE : 4.079317569732666\n",
      "MSE : 30.72379493713379\n",
      "PSNR: 17.166451192818393\n",
      "SSIM: 0.6442216485738754\n",
      "check prd_type: 26.121515 float32 25 int64\n",
      "check prd_type: 26 25 uint8\n",
      "MAE : 2.3778796195983887\n",
      "MSE : 17.400842666625977\n",
      "PSNR: 19.635497200916955\n",
      "SSIM: 0.7546178549528122\n",
      "check prd_type: 26.14081 float32 31 int64\n",
      "check prd_type: 26 31 uint8\n",
      "MAE : 3.4180009365081787\n",
      "MSE : 21.531370162963867\n",
      "PSNR: 18.710482997428596\n",
      "SSIM: 0.7901299744844437\n",
      "check prd_type: 26.117891 float32 29 int64\n",
      "check prd_type: 26 29 uint8\n",
      "MAE : 5.623349189758301\n",
      "MSE : 643.8951416015625\n",
      "PSNR: 3.9530474875158346\n",
      "SSIM: 0.03805773425847292\n",
      "check prd_type: 26.173243 float32 29 int64\n",
      "check prd_type: 26 29 uint8\n",
      "MAE : 3.1025004386901855\n",
      "MSE : 25.865495681762695\n",
      "PSNR: 17.913991472035644\n",
      "SSIM: 0.739388957619667\n",
      "check prd_type: 26.056055 float32 27 int64\n",
      "check prd_type: 26 27 uint8\n",
      "MAE : 3.8492321968078613\n",
      "MSE : 25.747575759887695\n",
      "PSNR: 17.9338363618869\n",
      "SSIM: 0.6986120343208313\n",
      "check prd_type: 25.968699 float32 26 int64\n",
      "check prd_type: 25 26 uint8\n",
      "MAE : 3.7648403644561768\n",
      "MSE : 28.5384521484375\n",
      "PSNR: 17.486895513610527\n",
      "SSIM: 0.6988769918680191\n",
      "check prd_type: 26.170942 float32 29 int64\n",
      "check prd_type: 26 29 uint8\n",
      "MAE : 3.4413795471191406\n",
      "MSE : 34.981040954589844\n",
      "PSNR: 16.602872816219996\n",
      "SSIM: 0.7312526851892471\n",
      "check prd_type: 26.062399 float32 26 int64\n",
      "check prd_type: 26 26 uint8\n",
      "MAE : 2.8782873153686523\n",
      "MSE : 15.582568168640137\n",
      "PSNR: 20.114809464406825\n",
      "SSIM: 0.7876527458429337\n",
      "check prd_type: 26.150585 float32 30 int64\n",
      "check prd_type: 26 30 uint8\n",
      "MAE : 4.046026229858398\n",
      "MSE : 27.61267852783203\n",
      "PSNR: 17.63011400244142\n",
      "SSIM: 0.7666738331317902\n",
      "check prd_type: 25.968166 float32 30 int64\n",
      "check prd_type: 25 30 uint8\n",
      "MAE : 4.099950790405273\n",
      "MSE : 36.254337310791016\n",
      "PSNR: 16.447600067883606\n",
      "SSIM: 0.5326480716466904\n",
      "check prd_type: 26.084116 float32 30 int64\n",
      "check prd_type: 26 30 uint8\n",
      "MAE : 5.109910011291504\n",
      "MSE : 44.12778091430664\n",
      "PSNR: 15.594079170764978\n",
      "SSIM: 0.6321570873260498\n",
      "check prd_type: 26.092241 float32 30 int64\n",
      "check prd_type: 26 30 uint8\n",
      "MAE : 4.141923904418945\n",
      "MSE : 27.922870635986328\n",
      "PSNR: 17.581598918553873\n",
      "SSIM: 0.7648019194602966\n",
      "check prd_type: 26.088549 float32 31 int64\n",
      "check prd_type: 26 31 uint8\n",
      "MAE : 4.070050239562988\n",
      "MSE : 32.71543884277344\n",
      "PSNR: 16.893672659884892\n",
      "SSIM: 0.6519267112016678\n",
      "check prd_type: 26.163153 float32 32 int64\n",
      "check prd_type: 26 32 uint8\n",
      "MAE : 5.164124011993408\n",
      "MSE : 41.24613952636719\n",
      "PSNR: 15.88736649862119\n",
      "SSIM: 0.6991843432188034\n",
      "check prd_type: 26.08343 float32 30 int64\n",
      "check prd_type: 26 30 uint8\n",
      "MAE : 3.986936569213867\n",
      "MSE : 27.797313690185547\n",
      "PSNR: 17.601171716511107\n",
      "SSIM: 0.7622400522232056\n",
      "check prd_type: 25.950605 float32 28 int64\n",
      "check prd_type: 25 28 uint8\n",
      "MAE : 3.398535966873169\n",
      "MSE : 34.8099365234375\n",
      "PSNR: 16.624167266227555\n",
      "SSIM: 0.5901441276073456\n",
      "check prd_type: 26.120783 float32 26 int64\n",
      "check prd_type: 26 26 uint8\n",
      "MAE : 3.250310182571411\n",
      "MSE : 22.70621681213379\n",
      "PSNR: 18.479752061964454\n",
      "SSIM: 0.7619762420654297\n",
      "check prd_type: 26.070402 float32 30 int64\n",
      "check prd_type: 26 30 uint8\n",
      "MAE : 3.734990119934082\n",
      "MSE : 23.09649658203125\n",
      "PSNR: 18.405738711529843\n",
      "SSIM: 0.8029929548501968\n",
      "check prd_type: 26.122215 float32 30 int64\n",
      "check prd_type: 26 30 uint8\n",
      "MAE : 4.350898742675781\n",
      "MSE : 44.65339660644531\n",
      "PSNR: 15.542654462738689\n",
      "SSIM: 0.6313388496637344\n",
      "check prd_type: 26.105429 float32 27 int64\n",
      "check prd_type: 26 27 uint8\n",
      "MAE : 3.177903413772583\n",
      "MSE : 22.622262954711914\n",
      "PSNR: 18.49583954976819\n",
      "SSIM: 0.7349328249692917\n",
      "check prd_type: 26.081156 float32 29 int64\n",
      "check prd_type: 26 29 uint8\n",
      "MAE : 4.362982273101807\n",
      "MSE : 58.455284118652344\n",
      "PSNR: 14.372961841047287\n",
      "SSIM: 0.5079246014356613\n",
      "check prd_type: 26.14559 float32 27 int64\n",
      "check prd_type: 26 27 uint8\n",
      "MAE : 2.4337220191955566\n",
      "MSE : 13.505127906799316\n",
      "PSNR: 20.736213018997226\n",
      "SSIM: 0.8090095520019531\n",
      "check prd_type: 26.166758 float32 28 int64\n",
      "check prd_type: 26 28 uint8\n",
      "MAE : 4.545833587646484\n",
      "MSE : 43.2437744140625\n",
      "PSNR: 15.681963893907994\n",
      "SSIM: 0.6043757349252701\n",
      "check prd_type: 26.048965 float32 29 int64\n",
      "check prd_type: 26 29 uint8\n",
      "MAE : 3.5404701232910156\n",
      "MSE : 22.856033325195312\n",
      "PSNR: 18.451191447408355\n",
      "SSIM: 0.7399005889892578\n",
      "check prd_type: 26.124413 float32 30 int64\n",
      "check prd_type: 26 30 uint8\n",
      "MAE : 3.889770030975342\n",
      "MSE : 35.317710876464844\n",
      "PSNR: 16.56127431183551\n",
      "SSIM: 0.585495799779892\n",
      "check prd_type: 26.117071 float32 29 int64\n",
      "check prd_type: 26 29 uint8\n",
      "MAE : 3.3353304862976074\n",
      "MSE : 21.824234008789062\n",
      "PSNR: 18.651809782669467\n",
      "SSIM: 0.778979480266571\n",
      "check prd_type: 25.96226 float32 33 int64\n",
      "check prd_type: 25 33 uint8\n",
      "MAE : 5.647136211395264\n",
      "MSE : 47.06599426269531\n",
      "PSNR: 15.31412699894943\n",
      "SSIM: 0.6833350360393524\n",
      "check prd_type: 26.111217 float32 31 int64\n",
      "check prd_type: 26 31 uint8\n",
      "MAE : 4.80668830871582\n",
      "MSE : 39.135711669921875\n",
      "PSNR: 16.115467582234412\n",
      "SSIM: 0.6923384368419647\n",
      "check prd_type: 26.01688 float32 28 int64\n",
      "check prd_type: 26 28 uint8\n",
      "MAE : 4.355587005615234\n",
      "MSE : 34.185890197753906\n",
      "PSNR: 16.702730535019576\n",
      "SSIM: 0.6545165032148361\n",
      "check prd_type: 26.114145 float32 30 int64\n",
      "check prd_type: 26 30 uint8\n",
      "MAE : 4.096468925476074\n",
      "MSE : 27.6501407623291\n",
      "PSNR: 17.624226545354706\n",
      "SSIM: 0.7878470569849014\n",
      "check prd_type: 26.091364 float32 29 int64\n",
      "check prd_type: 26 29 uint8\n",
      "MAE : 2.4290108680725098\n",
      "MSE : 14.29935073852539\n",
      "PSNR: 20.488036797064566\n",
      "SSIM: 0.8054809868335724\n",
      "check prd_type: 26.080034 float32 31 int64\n",
      "check prd_type: 26 31 uint8\n",
      "MAE : 3.512910842895508\n",
      "MSE : 21.269392013549805\n",
      "PSNR: 18.763649105764188\n",
      "SSIM: 0.798017218708992\n",
      "check prd_type: 26.073532 float32 25 int64\n",
      "check prd_type: 26 25 uint8\n",
      "MAE : 3.053607940673828\n",
      "MSE : 26.918170928955078\n",
      "PSNR: 17.740744325991813\n",
      "SSIM: 0.6923020333051682\n",
      "check prd_type: 26.08529 float32 29 int64\n",
      "check prd_type: 26 29 uint8\n",
      "MAE : 5.292525291442871\n",
      "MSE : 51.74024200439453\n",
      "PSNR: 14.902915196300995\n",
      "SSIM: 0.5658995807170868\n",
      "check prd_type: 26.080376 float32 27 int64\n",
      "check prd_type: 26 27 uint8\n",
      "MAE : 3.376927614212036\n",
      "MSE : 25.175960540771484\n",
      "PSNR: 18.031339028627155\n",
      "SSIM: 0.680478647351265\n",
      "check prd_type: 26.133831 float32 23 int64\n",
      "check prd_type: 26 23 uint8\n",
      "MAE : 1.8574872016906738\n",
      "MSE : 8.839637756347656\n",
      "PSNR: 22.57685490921846\n",
      "SSIM: 0.8618159592151642\n",
      "check prd_type: 25.952757 float32 26 int64\n",
      "check prd_type: 25 26 uint8\n",
      "MAE : 1.8540717363357544\n",
      "MSE : 9.175542831420898\n",
      "PSNR: 22.414882316798575\n",
      "SSIM: 0.8609017729759216\n",
      "check prd_type: 26.158558 float32 25 int64\n",
      "check prd_type: 26 25 uint8\n",
      "MAE : 2.5310933589935303\n",
      "MSE : 20.048507690429688\n",
      "PSNR: 19.02037952963989\n",
      "SSIM: 0.7575042694807053\n",
      "check prd_type: 26.106007 float32 27 int64\n",
      "check prd_type: 26 27 uint8\n",
      "MAE : 2.6216912269592285\n",
      "MSE : 18.784465789794922\n",
      "PSNR: 19.303210957391645\n",
      "SSIM: 0.7745063900947571\n",
      "check prd_type: 26.16668 float32 29 int64\n",
      "check prd_type: 26 29 uint8\n",
      "MAE : 3.1666383743286133\n",
      "MSE : 35.8446044921875\n",
      "PSNR: 16.49696193858818\n",
      "SSIM: 0.634591817855835\n",
      "check prd_type: 26.162687 float32 32 int64\n",
      "check prd_type: 26 32 uint8\n",
      "MAE : 5.8116254806518555\n",
      "MSE : 58.85699462890625\n",
      "PSNR: 14.343219068203801\n",
      "SSIM: 0.4507232755422592\n"
     ]
    }
   ],
   "source": [
    "from skimage.metrics import structural_similarity, peak_signal_noise_ratio, hausdorff_distance\n",
    "from sklearn.metrics import mean_absolute_error, mean_squared_error\n",
    "\n",
    "\"\"\"\n",
    "以MSE越小，則PSNR越大；所以PSNR越大，代表著圖像質量越好。\n",
    "PSNR高於40dB說明圖像質量極好（即非常接近原始圖像），\n",
    "在30—40dB通常表示圖像質量是好的（即失真可以察覺但可以接受），\n",
    "在20—30dB說明圖像質量差；\n",
    "PSNR低於20dB圖像不可接受\n",
    "\n",
    "peak_signal_noise_ratio:\n",
    "data_rangeint, optional\n",
    "The data range of the input image (distance between minimum and maximum possible values). By default, this is estimated from the image data-type.\n",
    "int: 0 ~ 255\n",
    "FV:  0 ~ 32 ??\n",
    "\n",
    "SSIM具有對稱性，即SSIM(x,y)=SSIM(y,x)\n",
    "SSIM是一個0到1之間的數，越大表示輸出圖像和無失真圖像的差距越小，即圖像質量越好。當兩幅圖像一模一樣時，SSIM=1；\n",
    "\n",
    "2022-11-16\n",
    "    目前看到範例中fv最大為32，但經過討論後把max_val(-->data_range)定為40。並重新跑數據。\n",
    "    \n",
    "    MAE 僅在sklearn.metrics，因此把MAE MSE都讓sklearn.metrics取用，其餘維持在skimage.\n",
    "    \n",
    "    MAE : 低\n",
    "    MSE : 低\n",
    "    PSNR: 高 >20dB ~ 30 ~ 40\n",
    "    SSIM: 0~1高\n",
    "    \n",
    "2023-04-08\n",
    "    Add np.clip() to rescale FV[0~40] to Gray[0~255].\n",
    "    \n",
    "\"\"\"\n",
    "\n",
    "mae_arr = []\n",
    "\n",
    "# points_train, points_val\n",
    "for i in range(len(val_points_dict)): # Also use same val_dict to get the filename and ordering.\n",
    "    # max_val = 40\n",
    "    data_range = 40\n",
    "    \n",
    "    # get the filename from val dict\n",
    "    val_points_dict_list = list(val_points_dict.items())\n",
    "#     fv_img_name = best_model.split(\"/\")[0] + \"/\" + val_points_dict_list[i][0] + \"_predFV.jpg\"\n",
    "#     fv_metrics_name = best_model.split(\"/\")[0] + \"/\" + val_points_dict_list[i][0] + \"_metrics.txt\"\n",
    "#     print(\"check filename:\", fv_img_name)\n",
    "    \n",
    "    prd_p = reshape_FV_value_list(val_points_pred[i])\n",
    "    gt_p = reshape_FV_value_list(points_val[i])\n",
    "    \n",
    "    #check single vale in the map\n",
    "    print(\"check prd_type:\", prd_p[6,4], prd_p.dtype, gt_p[6,4], gt_p.dtype,)\n",
    "    print(\"check prd_type:\", prd_p.astype(np.uint8)[6,4], gt_p.astype(np.uint8)[6,4], gt_p.astype(np.uint8)[6,4].dtype)\n",
    "\n",
    "    # set value to float32\n",
    "    prd_p = prd_p.astype(np.float32)\n",
    "    gt_p  = gt_p.astype(np.float32)\n",
    "    \n",
    "    MAE   = mean_absolute_error(prd_p, gt_p)\n",
    "    MSE   = mean_squared_error(prd_p, gt_p)\n",
    "    PSNR  = peak_signal_noise_ratio(prd_p, gt_p, data_range=data_range)\n",
    "    SSIM  = structural_similarity(prd_p, gt_p, full=False, data_range=data_range)\n",
    "    #Hdis  = hausdorff_distance(prd_p, gt_p)\n",
    "    \n",
    "    print(f'MAE : {MAE}')  \n",
    "    print(f'MSE : {MSE}')\n",
    "    print(f'PSNR: {PSNR}')\n",
    "    print(f'SSIM: {SSIM}') \n",
    "    #print(f'Hdis: {Hdis}') \n",
    "    \n",
    "    mae_arr.append(MAE)\n",
    "    \n",
    "#     # Check prd/gt value, dtype\n",
    "#     print(f'MAE : {mean_absolute_error(prd_p.astype(np.float32), gt_p.astype(np.float32))}')  \n",
    "#     print(f'MSE : {mean_squared_error(prd_p.astype(np.float32), gt_p.astype(np.float32))}')                                             # dtype('float32') dtype('int64')\n",
    "#     print(f'PSNR: {peak_signal_noise_ratio(prd_p.astype(np.float32), gt_p.astype(np.float32), data_range=data_range)}')                 # astype(np.float32)\n",
    "#     print(f'SSIM: {structural_similarity(prd_p.astype(np.float32), gt_p.astype(np.float32), full=False, data_range=data_range)}') \n",
    "    \n",
    "    \n",
    "#     # Test TF-SSIM and create a batch\n",
    "#     prd_tmp = tf.image.convert_image_dtype(prd_p, tf.float32)\n",
    "#     gt_tmp  = tf.image.convert_image_dtype(gt_p, tf.float32)\n",
    "#     prd_tmp = tf.expand_dims(prd_tmp, 0)\n",
    "#     gt_tmp  = tf.expand_dims(gt_tmp, 0)   \n",
    "#     print(f'SSIM-tf: {tf.image.ssim(prd_tmp, gt_tmp, max_val=32, filter_size=1, filter_sigma=1.5, k1=0.01, k2=0.03)}')\n",
    "#     print(f'SSIM-tf: {tf.image.ssim(tf.expand_dims(prd_p.astype(np.float32), 0), tf.expand_dims(gt_p.astype(np.float32), 0), max_val=32, filter_size=2, filter_sigma=1.5, k1=0.01, k2=0.03)}')\n",
    "    \n",
    "    \n",
    "    \n",
    "    # save metrics to _metrics.txt, commnet if not to rewrite the files.\n",
    "#     with open(fv_metrics_name, \"w\") as txt_file:\n",
    "#         txt_file.write(f'id:{val_points_dict_list[i][0]}.jpg\\n')\n",
    "#         txt_file.write(f'MAE:{MAE}\\n')\n",
    "#         txt_file.write(f'MSE:{MSE}\\n')\n",
    "#         txt_file.write(f'PSNR:{PSNR}\\n')\n",
    "#         txt_file.write(f'SSIM:{SSIM}')\n",
    "#         #txt_file.write(f'Hdis : {Hdis}\\n')\n",
    "#         #txt_file.write(\"\\n\")\n",
    "    \n",
    "#     fig, axarr = plt.subplots(1,2,figsize=(10,5))\n",
    "#     axarr[0].imshow(prd_p, interpolation='nearest', cmap=\"gray\", vmin=0, vmax=40)\n",
    "#     axarr[0].set_title(\"Pred\")\n",
    "#     axarr[0].axis('off')\n",
    "\n",
    "#     axarr[1].imshow(gt_p, interpolation='nearest', cmap=\"gray\", vmin=0, vmax=40)\n",
    "#     axarr[1].set_title(\"FV ground truth\")\n",
    "#     axarr[1].axis('off')\n",
    "   \n",
    "#     fig.tight_layout()    \n",
    "#     plt.savefig(fv_img_name, dpi=150)\n",
    "#     plt.show()"
   ]
  },
  {
   "cell_type": "code",
   "execution_count": 64,
   "id": "1c91ffa2",
   "metadata": {},
   "outputs": [
    {
     "data": {
      "text/plain": [
       "3.7502017"
      ]
     },
     "execution_count": 64,
     "metadata": {},
     "output_type": "execute_result"
    }
   ],
   "source": [
    "np.mean(mae_arr)"
   ]
  },
  {
   "cell_type": "code",
   "execution_count": 65,
   "id": "3765cfa5",
   "metadata": {},
   "outputs": [
    {
     "data": {
      "text/plain": [
       "3.7502017"
      ]
     },
     "execution_count": 65,
     "metadata": {},
     "output_type": "execute_result"
    }
   ],
   "source": [
    "np.average(mae_arr)"
   ]
  },
  {
   "cell_type": "code",
   "execution_count": 66,
   "id": "bc52608a",
   "metadata": {},
   "outputs": [
    {
     "data": {
      "text/plain": [
       "5.8116255"
      ]
     },
     "execution_count": 66,
     "metadata": {},
     "output_type": "execute_result"
    }
   ],
   "source": [
    "np.max(mae_arr)"
   ]
  },
  {
   "cell_type": "code",
   "execution_count": 67,
   "id": "a495e888",
   "metadata": {},
   "outputs": [
    {
     "data": {
      "text/plain": [
       "1.8540717"
      ]
     },
     "execution_count": 67,
     "metadata": {},
     "output_type": "execute_result"
    }
   ],
   "source": [
    "np.min(mae_arr)"
   ]
  },
  {
   "cell_type": "code",
   "execution_count": null,
   "id": "7d1bdbc7",
   "metadata": {},
   "outputs": [],
   "source": []
  },
  {
   "cell_type": "code",
   "execution_count": null,
   "id": "c467866a",
   "metadata": {},
   "outputs": [],
   "source": []
  },
  {
   "cell_type": "code",
   "execution_count": null,
   "id": "fa95a29f",
   "metadata": {},
   "outputs": [],
   "source": []
  },
  {
   "cell_type": "code",
   "execution_count": 68,
   "id": "7b3ca079",
   "metadata": {},
   "outputs": [
    {
     "ename": "SyntaxError",
     "evalue": "invalid syntax (3548480966.py, line 1)",
     "output_type": "error",
     "traceback": [
      "\u001b[0;36m  Cell \u001b[0;32mIn[68], line 1\u001b[0;36m\u001b[0m\n\u001b[0;31m    STOP cell runing in here !!\u001b[0m\n\u001b[0m         ^\u001b[0m\n\u001b[0;31mSyntaxError\u001b[0m\u001b[0;31m:\u001b[0m invalid syntax\n"
     ]
    }
   ],
   "source": [
    " STOP cell runing in here !! "
   ]
  },
  {
   "cell_type": "code",
   "execution_count": null,
   "id": "7d12b63d",
   "metadata": {},
   "outputs": [],
   "source": []
  },
  {
   "cell_type": "code",
   "execution_count": null,
   "id": "e0eb88b0",
   "metadata": {},
   "outputs": [],
   "source": []
  },
  {
   "cell_type": "code",
   "execution_count": null,
   "id": "d549be63",
   "metadata": {},
   "outputs": [],
   "source": []
  },
  {
   "cell_type": "code",
   "execution_count": null,
   "id": "347518b1",
   "metadata": {},
   "outputs": [],
   "source": []
  },
  {
   "cell_type": "code",
   "execution_count": null,
   "id": "00262dd1",
   "metadata": {},
   "outputs": [],
   "source": []
  },
  {
   "cell_type": "code",
   "execution_count": null,
   "id": "d86a4a51",
   "metadata": {},
   "outputs": [],
   "source": []
  },
  {
   "cell_type": "markdown",
   "id": "a6d0c630",
   "metadata": {},
   "source": [
    "\n",
    "## PCGA dataset review\n",
    "[2022-09-08]\n",
    "[2022-10-05] create NEW CSV for taining and fixed val split.\n",
    "\n"
   ]
  },
  {
   "cell_type": "code",
   "execution_count": null,
   "id": "44e330fd",
   "metadata": {},
   "outputs": [],
   "source": [
    "!export TF_ENABLE_AUTO_MIXED_PRECISION=1"
   ]
  },
  {
   "cell_type": "code",
   "execution_count": null,
   "id": "35ebdc1a",
   "metadata": {},
   "outputs": [],
   "source": [
    "import os\n",
    "# set log level should be before import tf, to skip \"TF_ENABLE_AUTO_MIXED_PRECISION has no effect\"\n",
    "# os.environ[\"TF_CPP_MIN_LOG_LEVEL\"] = \"2\"\n",
    "# INFO messages are not printed.\n",
    "# This must be run before loading other modules.\n",
    "os.environ[\"TF_CPP_MIN_LOG_LEVEL\"] = \"2\"\n",
    "\n",
    "\n",
    "import cv2\n",
    "import numpy as np\n",
    "import random\n",
    "from IPython.display import Markdown, display\n",
    "from matplotlib import pyplot as plt\n",
    "from PIL import Image\n",
    "\n",
    "import pandas as pd\n",
    "\n",
    "import tensorflow as tf\n",
    "# import tensorflow_similarity as tfsim\n",
    "\n",
    "\n",
    "\n"
   ]
  },
  {
   "cell_type": "code",
   "execution_count": null,
   "id": "94120173",
   "metadata": {},
   "outputs": [],
   "source": [
    "cv2.__version__\n",
    "tf.__version__"
   ]
  },
  {
   "cell_type": "code",
   "execution_count": null,
   "id": "6966d475",
   "metadata": {},
   "outputs": [],
   "source": [
    "tf.config.list_physical_devices('GPU')"
   ]
  },
  {
   "cell_type": "code",
   "execution_count": null,
   "id": "7a4f45da",
   "metadata": {},
   "outputs": [],
   "source": [
    "tf.math.add(\n",
    "    2, 2, name=None\n",
    ")"
   ]
  },
  {
   "cell_type": "markdown",
   "id": "c733ec49",
   "metadata": {},
   "source": [
    "### Dataset"
   ]
  },
  {
   "cell_type": "code",
   "execution_count": null,
   "id": "a405c3a3",
   "metadata": {},
   "outputs": [],
   "source": [
    "# # sources\n",
    "# FV_img = \"PACG_fovea_centered_FV\"                          #視野\n",
    "# FV_val = \"PACG_fovea_centered_FV_value\"                    #視野值\n",
    "# FD_img = \"PACG_fovea_cnetered_fundus_crop\"                 #眼底\n",
    "# FD_cod = \"PACG_fovea_cnetered_fundus_crop_FV_referencePT\"  #眼點黃斑、光盤座標\n",
    "\n",
    "# data_Dir = \"~/data/PACG/\"\n",
    "# data_Dir = \"/home/u3148947/data/PACG/\"\n",
    "\n",
    "\n",
    "# # sources [09-27]\n",
    "# FV_img = \"PACG_fovea_centered_FV\"                          #視野\n",
    "# FV_val = \"PACG_fovea_centered_FV_value\"                    #視野值\n",
    "# FD_img = \"PACG_fovea_centered_fundus_crop\"                 #眼底\n",
    "# FD_cod = \"PACG_fovea_cnetered_fundus_crop_FV_referencePT\"  #眼點黃斑、光盤座標\n",
    "\n",
    "# data_Dir = \"~/data/PACG_0927/\"\n",
    "# data_Dir = \"/home/u3148947/data/PACG_0927/\"\n",
    "\n",
    "\n",
    "# sources [10-05]\n",
    "FV_img = \"POACG_crop\"                          #視野\n",
    "FV_val = \"POACG_FV_vaule\"                    #視野值\n",
    "FD_img = \"PACG_fovea_centered_fundus_crop\"                 #眼底\n",
    "FD_cod = \"PACG_fovea_cnetered_fundus_crop_FV_referencePT\"  #眼點黃斑、光盤座標\n",
    "\n",
    "data_Dir = \"~/data/PACG_data_20221005/\"\n",
    "data_Dir = \"/home/u3148947/data/PACG_data_20221005/\"\n",
    "\n"
   ]
  },
  {
   "cell_type": "code",
   "execution_count": null,
   "id": "6379d42a",
   "metadata": {},
   "outputs": [],
   "source": []
  },
  {
   "cell_type": "markdown",
   "id": "c709d477",
   "metadata": {},
   "source": [
    "#### FD_cod"
   ]
  },
  {
   "cell_type": "code",
   "execution_count": null,
   "id": "7ded837d",
   "metadata": {},
   "outputs": [],
   "source": [
    "FD_cod_list = [os.path.join(data_Dir + FD_cod, file) for file in os.listdir(data_Dir + FD_cod)]\n",
    "sample_FD_cod_path = random.choice(FD_cod_list) #FV_img_list[1]\n",
    "# sample_FD_cod = Image.open(sample_FD_cod_path)\n",
    "sample_FD_cod = open(sample_FD_cod_path).readlines()\n",
    "\n",
    "\n",
    "display(Markdown(\"**Fundus  coordinate**\"))\n",
    "display(Markdown(f\"*{sample_FD_cod_path}*\"))\n",
    "display(sample_FD_cod)"
   ]
  },
  {
   "cell_type": "markdown",
   "id": "2d98b48c",
   "metadata": {},
   "source": [
    "#### FV_val"
   ]
  },
  {
   "cell_type": "code",
   "execution_count": null,
   "id": "af184f2f",
   "metadata": {},
   "outputs": [],
   "source": [
    "FV_val_list = [os.path.join(data_Dir + FV_val, file) for file in os.listdir(data_Dir + FV_val)]\n",
    "sample_FV_val_path = random.choice(FV_val_list) #FV_img_list[1]\n",
    "# sample_FD_cod = Image.open(sample_FD_cod_path)\n",
    "# sample_FV_val = open(sample_FV_val_path).readlines()\n",
    "sample_FV_val = [txt.replace(\"\\n\", \"\") for txt in open(sample_FV_val_path).readlines()]\n",
    "# sample_FV_val.remove(\"\") # leave last \"\"\n",
    "sample_FV_val = [x for x in sample_FV_val if x] # remove the empty \"\"\n",
    "\n",
    "\n",
    "\n",
    "# for txt in open(sample_FV_val_path).readlines():\n",
    "#     txt.replace(\"\\n\", \"\")\n",
    "#     txt.remove(\"\")\n",
    "\n",
    "\n",
    "display(Markdown(\"**FV value**\"))\n",
    "display(Markdown(f\"*{sample_FV_val_path}*\"))\n",
    "display(sample_FV_val)\n",
    "\n",
    "print(\"\\n\\t\\t FV_val_list : \", len(FV_val_list))"
   ]
  },
  {
   "cell_type": "markdown",
   "id": "e5c5ba7c",
   "metadata": {},
   "source": [
    "#### FV_val to array"
   ]
  },
  {
   "cell_type": "code",
   "execution_count": null,
   "id": "4ac002f8",
   "metadata": {},
   "outputs": [],
   "source": [
    "sample_FV_val_arr = [x.split(\",\") for x in sample_FV_val]"
   ]
  },
  {
   "cell_type": "code",
   "execution_count": null,
   "id": "20389880",
   "metadata": {},
   "outputs": [],
   "source": [
    "sample_FV_val_arr"
   ]
  },
  {
   "cell_type": "code",
   "execution_count": null,
   "id": "643ca9b2",
   "metadata": {},
   "outputs": [],
   "source": [
    "sample_FV_val_arr_one = [] #np.empty(1)\n",
    "for sub_arr in sample_FV_val_arr:\n",
    "    #sub_arr=np.array(sub_arr)\n",
    "    print(sub_arr)\n",
    "    sample_FV_val_arr_one = np.concatenate((sample_FV_val_arr_one, sub_arr))\n"
   ]
  },
  {
   "cell_type": "code",
   "execution_count": null,
   "id": "20a53bed",
   "metadata": {},
   "outputs": [],
   "source": [
    "print(sample_FV_val_arr_one, \"\\n shape:\",sample_FV_val_arr_one.shape)"
   ]
  },
  {
   "cell_type": "code",
   "execution_count": null,
   "id": "6e0b3c45",
   "metadata": {},
   "outputs": [],
   "source": [
    "sample_FV_val_arr_one"
   ]
  },
  {
   "cell_type": "markdown",
   "id": "16cdced8",
   "metadata": {},
   "source": [
    "#### Get FV_val to array"
   ]
  },
  {
   "cell_type": "code",
   "execution_count": null,
   "id": "9ae8f600",
   "metadata": {},
   "outputs": [],
   "source": [
    "def get_fv_value(sample_FV_val_path):\n",
    "    sample_FV_val = [txt.replace(\"\\n\", \"\") for txt in open(sample_FV_val_path).readlines()]\n",
    "    # sample_FV_val.remove(\"\") # leave last \"\"\n",
    "    sample_FV_val = [x for x in sample_FV_val if x] # remove the empty \"\"\n",
    "    \n",
    "    sample_FV_val_arr = [x.split(\",\") for x in sample_FV_val]\n",
    "    \n",
    "    sample_FV_val_arr_one = [] #np.empty(1)\n",
    "    for sub_arr in sample_FV_val_arr:\n",
    "        #sub_arr=np.array(sub_arr)\n",
    "        print(sub_arr)\n",
    "        #sample_FV_val_arr_one = np.concatenate((sample_FV_val_arr_one, sub_arr)) # array with block\n",
    "        #sample_FV_val_arr_one.append(sub_arr)                                    # array in array with block\n",
    "        sample_FV_val_arr_one += sub_arr                                          # array without block\n",
    "        \n",
    "    #return list(sample_FV_val_arr_one)\n",
    "    return sample_FV_val_arr_one\n"
   ]
  },
  {
   "cell_type": "code",
   "execution_count": null,
   "id": "b13db394",
   "metadata": {},
   "outputs": [],
   "source": [
    "# get_fv_value(\"/home/u3148947/data/PACG_0927/PACG_fovea_centered_FV_value/0268212.txt\")\n",
    "\n",
    "get_fv_value(\"/home/u3148947/data/PACG_data_20221005/POACG_FV_vaule/1084274.txt\")"
   ]
  },
  {
   "cell_type": "markdown",
   "id": "c485a34a",
   "metadata": {},
   "source": [
    "### file name and FV value list"
   ]
  },
  {
   "cell_type": "code",
   "execution_count": null,
   "id": "697ff895",
   "metadata": {
    "scrolled": true
   },
   "outputs": [],
   "source": [
    "file_name_list = []\n",
    "FV_val_list = []\n",
    "\n",
    "for file in os.listdir(data_Dir + FV_img): #FD_img\n",
    "    #print(file)\n",
    "    #print(os.path.splitext(file))\n",
    "    file_name =os.path.splitext(file)[0] # to remove the .jpg postfix\n",
    "    file_name_list.append(file_name)\n",
    "    \n",
    "    \n",
    "    #sample_FV_val_path = os.path.join(data_Dir + FV_val, file_name + \"_FV_value.txt\")\n",
    "    sample_FV_val_path = os.path.join(data_Dir + FV_val, file_name + \".txt\")\n",
    "    FV_val_list.append(get_fv_value(sample_FV_val_path))"
   ]
  },
  {
   "cell_type": "code",
   "execution_count": null,
   "id": "f0630114",
   "metadata": {},
   "outputs": [],
   "source": [
    "print(f\"file_name_list {len(file_name_list)}\")\n",
    "print(f\"FV_val_list {len(FV_val_list)}\")"
   ]
  },
  {
   "cell_type": "code",
   "execution_count": null,
   "id": "24603620",
   "metadata": {},
   "outputs": [],
   "source": [
    "!ls /home/u3148947/data/PACG_0927/PACG_fovea_cnetered_fundus_crop"
   ]
  },
  {
   "cell_type": "code",
   "execution_count": null,
   "id": "94c48598",
   "metadata": {},
   "outputs": [],
   "source": [
    "file_name_list"
   ]
  },
  {
   "cell_type": "code",
   "execution_count": null,
   "id": "8dc04791",
   "metadata": {
    "scrolled": true
   },
   "outputs": [],
   "source": [
    "file_name_list[0]\n",
    "FV_val_list[0]"
   ]
  },
  {
   "cell_type": "code",
   "execution_count": null,
   "id": "b309567c",
   "metadata": {},
   "outputs": [],
   "source": [
    "print(FV_val_list[0])"
   ]
  },
  {
   "cell_type": "markdown",
   "id": "fb8c9787",
   "metadata": {},
   "source": [
    "### FD image (croped)"
   ]
  },
  {
   "cell_type": "code",
   "execution_count": null,
   "id": "1b7743b2",
   "metadata": {},
   "outputs": [],
   "source": [
    "FD_img_list = [os.path.join(data_Dir + FD_img, file) for file in os.listdir(data_Dir + FD_img)]\n",
    "sample_FD_img_path = random.choice(FD_img_list) #FV_img_list[1]\n",
    "sample_FD_img = Image.open(sample_FD_img_path)\n",
    "\n",
    "print(f\"Image size: {sample_FD_img.size}\")\n",
    "\n",
    "display(Markdown(\"**Fundus  view**\"))\n",
    "display(Markdown(f\"*{sample_FD_img_path}*\"))\n",
    "display(sample_FD_img)"
   ]
  },
  {
   "cell_type": "code",
   "execution_count": null,
   "id": "fced4927",
   "metadata": {},
   "outputs": [],
   "source": [
    "# FV_img_list = os.listdir(data_Dir + FV_img)\n",
    "FV_img_list = [os.path.join(data_Dir + FV_img, file) for file in os.listdir(data_Dir + FV_img)]\n",
    "sample_FV_img_path = random.choice(FV_img_list) #FV_img_list[1]\n",
    "sample_FV_img = Image.open(sample_FV_img_path)\n",
    "\n",
    "display(Markdown(\"**Field view**\"))\n",
    "display(Markdown(f\"*{sample_FV_img_path}*\"))\n",
    "display(sample_FV_img)"
   ]
  },
  {
   "cell_type": "code",
   "execution_count": null,
   "id": "435371ad",
   "metadata": {},
   "outputs": [],
   "source": [
    "!ls ~/data/PACG/PACG_fovea_centered_FV"
   ]
  },
  {
   "cell_type": "markdown",
   "id": "63cb7ac4",
   "metadata": {},
   "source": [
    "#### FD_cod on FD_img"
   ]
  },
  {
   "cell_type": "code",
   "execution_count": null,
   "id": "a46d144a",
   "metadata": {},
   "outputs": [],
   "source": [
    "\n",
    "FD_cod_sample_1 = \"0409018.txt\"\n",
    "FD_img_sample_1 = \"0409018.jpg\"\n",
    "\n",
    "FD_cod_sample_1 = os.path.join(data_Dir + FD_cod,  FD_cod_sample_1)\n",
    "FD_cod_sample_1 = [ cord.replace(\"\\n\", \"\") for cord in open(FD_cod_sample_1).readlines()]\n",
    "\n",
    "\n",
    "display(Markdown(\"**Fundus  coordinate**\"))\n",
    "display(Markdown(f\"*{FD_cod_sample_1}*\"))\n",
    "display(FD_cod_sample_1)\n",
    "\n",
    "# x,y = FD_cod_sample_1[0][:]"
   ]
  },
  {
   "cell_type": "code",
   "execution_count": null,
   "id": "c9a1c63b",
   "metadata": {},
   "outputs": [],
   "source": [
    "FD_cod_sample_1[0].split(\",\")"
   ]
  },
  {
   "cell_type": "code",
   "execution_count": null,
   "id": "64cdf2d2",
   "metadata": {},
   "outputs": [],
   "source": [
    "disc_x,disc_y = FD_cod_sample_1[0].split(\",\")"
   ]
  },
  {
   "cell_type": "code",
   "execution_count": null,
   "id": "bdd88643",
   "metadata": {},
   "outputs": [],
   "source": [
    "disc_x,disc_y"
   ]
  },
  {
   "cell_type": "code",
   "execution_count": null,
   "id": "074f4702",
   "metadata": {},
   "outputs": [],
   "source": [
    "macu_x,macu_y = FD_cod_sample_1[1].split(\",\")"
   ]
  },
  {
   "cell_type": "code",
   "execution_count": null,
   "id": "5ed7ec02",
   "metadata": {},
   "outputs": [],
   "source": [
    "macu_x,macu_y "
   ]
  },
  {
   "cell_type": "code",
   "execution_count": null,
   "id": "22ebc3ce",
   "metadata": {},
   "outputs": [],
   "source": [
    "FD_img_sample_1 = os.path.join(data_Dir + FD_img,  FD_img_sample_1)\n",
    "FD_img_sample_1 = cv2.imread(FD_img_sample_1)\n",
    "FD_img_sample_1 = cv2.cvtColor(FD_img_sample_1, cv2.COLOR_BGR2RGB)\n",
    "\n",
    "plt.imshow(FD_img_sample_1)\n",
    "plt.title('FD corrd')\n",
    "plt.show()"
   ]
  },
  {
   "cell_type": "code",
   "execution_count": null,
   "id": "996b425e",
   "metadata": {},
   "outputs": [],
   "source": [
    "#Draw a red circle with zero radius and -1 for filled circle\n",
    "FD_img_sample_1_point = cv2.circle(FD_img_sample_1, (int(disc_x),int(disc_y)), radius=10, color=(0, 0, 255), thickness=-1)\n",
    "FD_img_sample_1_point = cv2.circle(FD_img_sample_1, (int(macu_x),int(macu_y)), radius=10, color=(255, 0, 0), thickness=-1)\n",
    "\n",
    "#Draw a marker on image\n",
    "FD_img_sample_1_point = cv2.drawMarker(FD_img_sample_1, (int(disc_x),int(disc_y)), markerType=0, markerSize=80, color=(0, 0, 255), thickness=6)\n",
    "FD_img_sample_1_point = cv2.drawMarker(FD_img_sample_1, (int(macu_x),int(macu_y)), markerType=0, markerSize=80, color=(255, 0, 0), thickness=6)"
   ]
  },
  {
   "cell_type": "code",
   "execution_count": null,
   "id": "19650bb2",
   "metadata": {},
   "outputs": [],
   "source": [
    "plt.imshow(FD_img_sample_1_point)\n",
    "plt.title('FD corrd point')\n",
    "plt.show()"
   ]
  },
  {
   "cell_type": "code",
   "execution_count": null,
   "id": "b5dc926b",
   "metadata": {},
   "outputs": [],
   "source": []
  },
  {
   "cell_type": "code",
   "execution_count": null,
   "id": "f923a9da",
   "metadata": {},
   "outputs": [],
   "source": []
  },
  {
   "cell_type": "markdown",
   "id": "2fefaec0",
   "metadata": {},
   "source": [
    "# Create dataset CSV for training\n",
    "    * read image path and FV_vale to a single CSV\n",
    "    * tfdata made from above pd csv"
   ]
  },
  {
   "cell_type": "code",
   "execution_count": null,
   "id": "d083cdfd",
   "metadata": {},
   "outputs": [],
   "source": [
    "# # all value mix in to one column\n",
    "# df_img_value = pd.DataFrame({'filename': file_name_list,\n",
    "#                              'fv_value': FV_val_list})\n",
    "# df_img_value.to_csv(\"FV_image_value.csv\", index=False)"
   ]
  },
  {
   "cell_type": "code",
   "execution_count": null,
   "id": "405d4498",
   "metadata": {
    "scrolled": true
   },
   "outputs": [],
   "source": [
    "# create columns name\n",
    "for col in range(1,53):\n",
    "    print(f\" 'fv_{col}',\")"
   ]
  },
  {
   "cell_type": "code",
   "execution_count": null,
   "id": "2d9ad381",
   "metadata": {
    "scrolled": true
   },
   "outputs": [],
   "source": [
    "# what is our value list\n",
    "[v for v in FV_val_list[0]]"
   ]
  },
  {
   "cell_type": "code",
   "execution_count": null,
   "id": "b942cd76",
   "metadata": {},
   "outputs": [],
   "source": [
    "len(FV_val_list)"
   ]
  },
  {
   "cell_type": "code",
   "execution_count": null,
   "id": "c589fc42",
   "metadata": {},
   "outputs": [],
   "source": [
    "len(FV_val_list[0])"
   ]
  },
  {
   "cell_type": "code",
   "execution_count": null,
   "id": "58f8c7d6",
   "metadata": {},
   "outputs": [],
   "source": [
    "# and name list\n",
    "[n for n in file_name_list]"
   ]
  },
  {
   "cell_type": "code",
   "execution_count": null,
   "id": "cbed44a9",
   "metadata": {},
   "outputs": [],
   "source": [
    "len(FV_val_list)"
   ]
  },
  {
   "cell_type": "code",
   "execution_count": null,
   "id": "319570c5",
   "metadata": {},
   "outputs": [],
   "source": [
    "# check every FV_lal is 52\n",
    "for n in FV_val_list:\n",
    "    print(len(n))"
   ]
  },
  {
   "cell_type": "code",
   "execution_count": null,
   "id": "e911ec55",
   "metadata": {
    "scrolled": true
   },
   "outputs": [],
   "source": [
    "# testing how to convert string list to int\n",
    "FV_val_list_int = [int(v) for v in FV_val_list[0]]\n",
    "FV_val_list_int"
   ]
  },
  {
   "cell_type": "code",
   "execution_count": null,
   "id": "d9c00582",
   "metadata": {},
   "outputs": [],
   "source": [
    "# Check every FV_val is 52\n",
    "\n",
    "for n,v in zip(file_name_list,FV_val_list): # here, n=str, v=int\n",
    "    v = [int(vv) for vv in v]\n",
    "    if len(v)!=52:\n",
    "        print(n,len(v))   \n",
    "\n",
    "\"\"\"\n",
    "3033143 53\n",
    "將其中一個0值刪除即可\n",
    "\"\"\""
   ]
  },
  {
   "cell_type": "code",
   "execution_count": null,
   "id": "61a6cbb1",
   "metadata": {
    "scrolled": true
   },
   "outputs": [],
   "source": [
    "data_n_v = []\n",
    "\n",
    "\n",
    "# for v in FV_val_list:\n",
    "#     for n in file_name_list:\n",
    "#         print(n,v)   \n",
    "\n",
    "\n",
    "for n,v in zip(file_name_list,FV_val_list): # here, n=str, v=int\n",
    "    v = [int(vv) for vv in v]\n",
    "    print(n,v)   \n",
    "    joint_list_n_v = [n] + v\n",
    "    data_n_v.append(joint_list_n_v)\n",
    "\n",
    "print()\n",
    "print(data_n_v)"
   ]
  },
  {
   "cell_type": "code",
   "execution_count": null,
   "id": "52b52fc4",
   "metadata": {},
   "outputs": [],
   "source": [
    "# one value for one column\n",
    "\n",
    "# initialize list of lists\n",
    "#data_n_v\n",
    "\n",
    "# Create the pandas DataFrame\n",
    "df = pd.DataFrame(data_n_v, columns=['filename', 'fv_1',\n",
    " 'fv_2',\n",
    " 'fv_3',\n",
    " 'fv_4',\n",
    " 'fv_5',\n",
    " 'fv_6',\n",
    " 'fv_7',\n",
    " 'fv_8',\n",
    " 'fv_9',\n",
    " 'fv_10',\n",
    " 'fv_11',\n",
    " 'fv_12',\n",
    " 'fv_13',\n",
    " 'fv_14',\n",
    " 'fv_15',\n",
    " 'fv_16',\n",
    " 'fv_17',\n",
    " 'fv_18',\n",
    " 'fv_19',\n",
    " 'fv_20',\n",
    " 'fv_21',\n",
    " 'fv_22',\n",
    " 'fv_23',\n",
    " 'fv_24',\n",
    " 'fv_25',\n",
    " 'fv_26',\n",
    " 'fv_27',\n",
    " 'fv_28',\n",
    " 'fv_29',\n",
    " 'fv_30',\n",
    " 'fv_31',\n",
    " 'fv_32',\n",
    " 'fv_33',\n",
    " 'fv_34',\n",
    " 'fv_35',\n",
    " 'fv_36',\n",
    " 'fv_37',\n",
    " 'fv_38',\n",
    " 'fv_39',\n",
    " 'fv_40',\n",
    " 'fv_41',\n",
    " 'fv_42',\n",
    " 'fv_43',\n",
    " 'fv_44',\n",
    " 'fv_45',\n",
    " 'fv_46',\n",
    " 'fv_47',\n",
    " 'fv_48',\n",
    " 'fv_49',\n",
    " 'fv_50',\n",
    " 'fv_51',\n",
    " 'fv_52',\n",
    "])\n",
    "\n",
    "df.to_csv(\"FV_image_value_1005.csv\", index=False)\n"
   ]
  },
  {
   "cell_type": "code",
   "execution_count": null,
   "id": "07c45ae2",
   "metadata": {},
   "outputs": [],
   "source": [
    "df_img_value = df"
   ]
  },
  {
   "cell_type": "code",
   "execution_count": null,
   "id": "1547d06d",
   "metadata": {},
   "outputs": [],
   "source": [
    "df_img_value #.head()"
   ]
  },
  {
   "cell_type": "code",
   "execution_count": null,
   "id": "b6b44314",
   "metadata": {},
   "outputs": [],
   "source": [
    "df_img_value['filename'][0]"
   ]
  },
  {
   "cell_type": "code",
   "execution_count": null,
   "id": "9fb16a8a",
   "metadata": {},
   "outputs": [],
   "source": [
    "df_img_value['fv_52'][0]"
   ]
  },
  {
   "cell_type": "code",
   "execution_count": null,
   "id": "944c2916",
   "metadata": {},
   "outputs": [],
   "source": [
    "# len(df_img_value['fv_value'][0])"
   ]
  },
  {
   "cell_type": "code",
   "execution_count": null,
   "id": "f38eb17f",
   "metadata": {},
   "outputs": [],
   "source": [
    "# df_img_value['fv_value'][0]"
   ]
  },
  {
   "cell_type": "code",
   "execution_count": null,
   "id": "795d5b18",
   "metadata": {},
   "outputs": [],
   "source": [
    "# df_img_value['fv_value']"
   ]
  },
  {
   "cell_type": "markdown",
   "id": "39078a14",
   "metadata": {},
   "source": [
    "## split CSV to (1) train.csv and (2) fixed val.csv by image_list.txt\n"
   ]
  },
  {
   "cell_type": "code",
   "execution_count": null,
   "id": "31976cf2",
   "metadata": {},
   "outputs": [],
   "source": [
    "val_list = [txt.replace(\"\\n\", \"\") for txt in open(\"img_list.txt\").readlines()]\n",
    "print(f\"val_list: {val_list}\")\n",
    "\n",
    "val_name_list = [x.split(\"_merged.jpg\")[0] for x in val_list]\n",
    "print(f\"val_name_list: {val_name_list}\")"
   ]
  },
  {
   "cell_type": "code",
   "execution_count": null,
   "id": "c477f820",
   "metadata": {},
   "outputs": [],
   "source": [
    "# print(df['filename'].where(df['filename'] != \"1342399_L\"))"
   ]
  },
  {
   "cell_type": "code",
   "execution_count": null,
   "id": "6bf23bd8",
   "metadata": {},
   "outputs": [],
   "source": [
    "# To select rows whose column value equals a scalar, some_value, use ==:\n",
    "df.loc[df['filename'] == \"1342399_L\"]\n",
    "\n",
    "# Combine multiple conditions with &:\n",
    "# df.loc[(df['column_name'] >= A) & (df['column_name'] <= B)]\n",
    "\n",
    "\n",
    "# When values is a dict, we can pass values to check for each column separately:\n",
    "# its more beautiful than df.loc[df['filename'].isin(val_name_list)]\n",
    "# df.isin({'filename': [0, 3]})\n"
   ]
  },
  {
   "cell_type": "code",
   "execution_count": null,
   "id": "3db0be1e",
   "metadata": {},
   "outputs": [],
   "source": [
    "# To select rows whose column value is in an iterable, some_values, use isin: isin(*list*)\n",
    "val_df = df.loc[df['filename'].isin(val_name_list)]\n",
    "\n",
    "val_df.to_csv(\"FV_image_value_1005_val.csv\", index=False)"
   ]
  },
  {
   "cell_type": "code",
   "execution_count": null,
   "id": "5d19ac3e",
   "metadata": {},
   "outputs": [],
   "source": [
    "val_df.head(27)"
   ]
  },
  {
   "cell_type": "code",
   "execution_count": null,
   "id": "69dca4ee",
   "metadata": {},
   "outputs": [],
   "source": [
    "# drop rows isin list (\" ~ \" to reverse the results)\n",
    "train_df = df.loc[~df['filename'].isin(val_name_list)]\n",
    "\n",
    "train_df.to_csv(\"FV_image_value_1005_train.csv\", index=False)"
   ]
  },
  {
   "cell_type": "code",
   "execution_count": null,
   "id": "e4b32d08",
   "metadata": {},
   "outputs": [],
   "source": [
    "train_df"
   ]
  },
  {
   "cell_type": "code",
   "execution_count": null,
   "id": "ca900cfb",
   "metadata": {},
   "outputs": [],
   "source": []
  },
  {
   "cell_type": "code",
   "execution_count": null,
   "id": "88c12ddb",
   "metadata": {},
   "outputs": [],
   "source": []
  },
  {
   "cell_type": "markdown",
   "id": "12f38f87",
   "metadata": {},
   "source": [
    "### How to efficiently use a tf.data.Dataset made of ordereddict?"
   ]
  },
  {
   "cell_type": "code",
   "execution_count": null,
   "id": "c3dc37f0",
   "metadata": {},
   "outputs": [],
   "source": [
    "# FV_img_value_slices = tf.data.Dataset.from_tensor_slices(df_img_value['filename'])\n",
    "# FV_img_value_slices = tf.data.Dataset.from_tensor_slices(df_img_value['fv_value'][0])\n",
    "# FV_img_value_slices = tf.data.Dataset.from_tensor_slices((df_img_value['filename'], df_img_value['fv_value']))\n",
    "\n",
    "# FV_img_value_slices = tf.data.Dataset.from_tensor_slices(dict(df_img_value))\n",
    "\n",
    "# 尚解不出可行模式 包成OrderedDict後 數值無法讀出\n",
    "# FV_img_value_slices = tf.data.experimental.make_csv_dataset(\"FV_image_value.csv\", batch_size=1, select_columns=[\"filename\",\"fv_value\"], label_name=\"fv_value\",)\n",
    "FV_img_value_slices = tf.data.experimental.make_csv_dataset(\"FV_image_value.csv\", batch_size=1)#, select_columns=[\"filename\",\"fv_value\"], label_name=\"fv_value\",)\n",
    "\n",
    "\n",
    "for feature_batch in FV_img_value_slices.take(1):\n",
    "    # check OrderedDict\n",
    "    print(feature_batch)\n",
    "    print()\n",
    "    \n",
    "    print(feature_batch['filename'])\n",
    "    print(feature_batch['fv_value'])\n",
    "    print()\n",
    "    \n",
    "    tf.print(feature_batch['filename'])\n",
    "    tf.print(feature_batch['fv_value'])\n",
    "    print()\n",
    "    \n",
    "#     for key, value in zip(feature_batch[0]['filename'],feature_batch[1]):\n",
    "#         print(\"  {} <:::> {}\".format(key, value))\n",
    "\n",
    "#     for key, value in feature_batch.items(): # just check item name not the value\n",
    "#         print(f'  {key}, {value}')\n",
    "#         print(type(key), type(value))\n",
    "        \n",
    "#     for key, value in feature_batch:\n",
    "#         print(f'  {key}, {value}')\n",
    "#         print(type(key), type(value))"
   ]
  },
  {
   "cell_type": "code",
   "execution_count": null,
   "id": "1aba8c58",
   "metadata": {},
   "outputs": [],
   "source": [
    "features, label = next(iter(FV_img_value_slices))\n",
    "\n",
    "features"
   ]
  },
  {
   "cell_type": "code",
   "execution_count": null,
   "id": "ccf346a4",
   "metadata": {},
   "outputs": [],
   "source": [
    "# features['filename'].numpy()\n",
    "features[:]"
   ]
  },
  {
   "cell_type": "code",
   "execution_count": null,
   "id": "a22fc8a3",
   "metadata": {},
   "outputs": [],
   "source": [
    "label"
   ]
  },
  {
   "cell_type": "code",
   "execution_count": null,
   "id": "12056cf7",
   "metadata": {},
   "outputs": [],
   "source": [
    "FV_img_value_slices"
   ]
  },
  {
   "cell_type": "code",
   "execution_count": null,
   "id": "ba5458ba",
   "metadata": {},
   "outputs": [],
   "source": [
    "FV_img_value_slices.element_spec"
   ]
  },
  {
   "cell_type": "code",
   "execution_count": null,
   "id": "c54e8764",
   "metadata": {},
   "outputs": [],
   "source": []
  },
  {
   "cell_type": "code",
   "execution_count": null,
   "id": "33b27f06",
   "metadata": {},
   "outputs": [],
   "source": [
    "type(FV_img_value_slices)"
   ]
  },
  {
   "cell_type": "code",
   "execution_count": null,
   "id": "827359d7",
   "metadata": {},
   "outputs": [],
   "source": [
    "# FV_img_value_slices = tf.data.Dataset.from_tensor_slices(dict(df_img_value))\n",
    "\n",
    "\n",
    "# for feature_batch in titanic_slices.take(1):\n",
    "#     for key, value in feature_batch.items():\n",
    "# #         print(\"  {!r:20s}: {}\".format(key, value))\n",
    "#         print(\"  {}: {}\".format(key, value))"
   ]
  },
  {
   "cell_type": "code",
   "execution_count": null,
   "id": "cc30952f",
   "metadata": {},
   "outputs": [],
   "source": [
    "def process_path(fn, fv):\n",
    "    #label = tf.strings.split(file_path, os.sep)[-2]\n",
    "\n",
    "    print(f'fn== {fn.values()} ---\\n fv== {fv}')\n",
    "#     print(fn['filename'])\n",
    "#     filename = fn + \".jpg\"\n",
    "#     file_path = os.path.join(data_Dir + FD_img, filename)\n",
    "#     print(file_path)\n",
    "\n",
    "#     return tf.io.read_file(file_path), fv\n",
    "    return 0\n",
    "\n",
    "FV_ds = FV_img_value_slices.map(process_path)"
   ]
  },
  {
   "cell_type": "code",
   "execution_count": null,
   "id": "a0ffa83c",
   "metadata": {},
   "outputs": [],
   "source": []
  },
  {
   "cell_type": "code",
   "execution_count": null,
   "id": "c0d5180e",
   "metadata": {},
   "outputs": [],
   "source": [
    "for image_raw, label_text in FV_img_value_slices.take(1):\n",
    "    print(repr(image_raw.numpy()[:100]))\n",
    "    print()\n",
    "    print(label_text.numpy())"
   ]
  },
  {
   "cell_type": "markdown",
   "id": "cfa45769",
   "metadata": {},
   "source": [
    "## Regression model"
   ]
  },
  {
   "cell_type": "code",
   "execution_count": null,
   "id": "f4d2d8df",
   "metadata": {},
   "outputs": [],
   "source": [
    "# !cp tf.ds.pipeline/foot_plantar/facial-keypoints/Assignment-2-LSW-20220914-PCGA.ipynb ."
   ]
  },
  {
   "cell_type": "code",
   "execution_count": null,
   "id": "7cb53e59",
   "metadata": {},
   "outputs": [],
   "source": [
    "\"\"\"\n",
    "move to \"Assignment-2-LSW-20220914-PCGA.ipynb\"\n",
    "\"\"\""
   ]
  },
  {
   "cell_type": "code",
   "execution_count": null,
   "id": "da807e52",
   "metadata": {},
   "outputs": [],
   "source": []
  },
  {
   "cell_type": "code",
   "execution_count": null,
   "id": "bf3e9350",
   "metadata": {},
   "outputs": [],
   "source": []
  },
  {
   "cell_type": "code",
   "execution_count": null,
   "id": "ddc3f52d",
   "metadata": {},
   "outputs": [],
   "source": []
  },
  {
   "cell_type": "markdown",
   "id": "6d8a3a6e",
   "metadata": {},
   "source": [
    "### Evaluation of model"
   ]
  },
  {
   "cell_type": "code",
   "execution_count": null,
   "id": "49b5fb72",
   "metadata": {},
   "outputs": [],
   "source": []
  },
  {
   "cell_type": "code",
   "execution_count": null,
   "id": "65d5b097",
   "metadata": {},
   "outputs": [],
   "source": []
  },
  {
   "cell_type": "code",
   "execution_count": null,
   "id": "d445f8e2",
   "metadata": {},
   "outputs": [],
   "source": []
  },
  {
   "cell_type": "code",
   "execution_count": null,
   "id": "145e8a1a",
   "metadata": {},
   "outputs": [],
   "source": []
  },
  {
   "cell_type": "code",
   "execution_count": null,
   "id": "bb799b20",
   "metadata": {},
   "outputs": [],
   "source": []
  }
 ],
 "metadata": {
  "kernelspec": {
   "display_name": "Python 3 (ipykernel)",
   "language": "python",
   "name": "python3"
  },
  "language_info": {
   "codemirror_mode": {
    "name": "ipython",
    "version": 3
   },
   "file_extension": ".py",
   "mimetype": "text/x-python",
   "name": "python",
   "nbconvert_exporter": "python",
   "pygments_lexer": "ipython3",
   "version": "3.10.6"
  }
 },
 "nbformat": 4,
 "nbformat_minor": 5
}

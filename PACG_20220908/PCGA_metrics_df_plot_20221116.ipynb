{
 "cells": [
  {
   "cell_type": "markdown",
   "id": "2a7a0a9a",
   "metadata": {},
   "source": [
    "#### 指標為佳者\n",
    "    MAE : 低\n",
    "    MSE : 低\n",
    "    PSNR: 高 >20dB ~ 30 ~ 40\n",
    "    SSIM: 高 0~1"
   ]
  },
  {
   "cell_type": "code",
   "execution_count": 28,
   "id": "7f5436be",
   "metadata": {},
   "outputs": [],
   "source": [
    "import matplotlib.pyplot as plt\n",
    "import pandas as pd\n",
    "\n",
    "# met_df = pd.read_csv(\"best_my_model_1006_bs2_p0_e200_FixedShuffle/best_my_model_1006_bs2_p0_e200_FixedShuffle.csv\")\n",
    "met_df = pd.read_csv(\"best_my_model_1006_bs32_p0_e200_FixedShuffle/best_my_model_1006_bs32_p0_e200_FixedShuffle.csv\")"
   ]
  },
  {
   "cell_type": "code",
   "execution_count": 29,
   "id": "07ab18a7",
   "metadata": {},
   "outputs": [
    {
     "data": {
      "text/html": [
       "<div>\n",
       "<style scoped>\n",
       "    .dataframe tbody tr th:only-of-type {\n",
       "        vertical-align: middle;\n",
       "    }\n",
       "\n",
       "    .dataframe tbody tr th {\n",
       "        vertical-align: top;\n",
       "    }\n",
       "\n",
       "    .dataframe thead th {\n",
       "        text-align: right;\n",
       "    }\n",
       "</style>\n",
       "<table border=\"1\" class=\"dataframe\">\n",
       "  <thead>\n",
       "    <tr style=\"text-align: right;\">\n",
       "      <th></th>\n",
       "      <th>id</th>\n",
       "      <th>MAE</th>\n",
       "      <th>MSE</th>\n",
       "      <th>PSNR</th>\n",
       "      <th>SSIM</th>\n",
       "    </tr>\n",
       "  </thead>\n",
       "  <tbody>\n",
       "    <tr>\n",
       "      <th>0</th>\n",
       "      <td>0268212.jpg</td>\n",
       "      <td>4.827416</td>\n",
       "      <td>37.323006</td>\n",
       "      <td>16.321434</td>\n",
       "      <td>0.833019</td>\n",
       "    </tr>\n",
       "    <tr>\n",
       "      <th>1</th>\n",
       "      <td>0849116_L.jpg</td>\n",
       "      <td>7.683362</td>\n",
       "      <td>90.130806</td>\n",
       "      <td>12.492467</td>\n",
       "      <td>0.682146</td>\n",
       "    </tr>\n",
       "    <tr>\n",
       "      <th>2</th>\n",
       "      <td>1310627_R.jpg</td>\n",
       "      <td>2.666315</td>\n",
       "      <td>16.721016</td>\n",
       "      <td>19.808573</td>\n",
       "      <td>0.862962</td>\n",
       "    </tr>\n",
       "    <tr>\n",
       "      <th>3</th>\n",
       "      <td>1342399_L.jpg</td>\n",
       "      <td>2.856591</td>\n",
       "      <td>15.229086</td>\n",
       "      <td>20.214462</td>\n",
       "      <td>0.896091</td>\n",
       "    </tr>\n",
       "    <tr>\n",
       "      <th>4</th>\n",
       "      <td>1545959.jpg</td>\n",
       "      <td>5.503919</td>\n",
       "      <td>47.207741</td>\n",
       "      <td>15.301068</td>\n",
       "      <td>0.840956</td>\n",
       "    </tr>\n",
       "    <tr>\n",
       "      <th>5</th>\n",
       "      <td>1935572_L.jpg</td>\n",
       "      <td>3.026304</td>\n",
       "      <td>15.496548</td>\n",
       "      <td>20.138850</td>\n",
       "      <td>0.934757</td>\n",
       "    </tr>\n",
       "    <tr>\n",
       "      <th>6</th>\n",
       "      <td>1935572.jpg</td>\n",
       "      <td>2.905285</td>\n",
       "      <td>15.385442</td>\n",
       "      <td>20.170100</td>\n",
       "      <td>0.911300</td>\n",
       "    </tr>\n",
       "    <tr>\n",
       "      <th>7</th>\n",
       "      <td>2099276.jpg</td>\n",
       "      <td>5.075338</td>\n",
       "      <td>47.918243</td>\n",
       "      <td>15.236191</td>\n",
       "      <td>0.676627</td>\n",
       "    </tr>\n",
       "    <tr>\n",
       "      <th>8</th>\n",
       "      <td>2216002_R.jpg</td>\n",
       "      <td>11.028591</td>\n",
       "      <td>159.692017</td>\n",
       "      <td>10.008367</td>\n",
       "      <td>0.668573</td>\n",
       "    </tr>\n",
       "    <tr>\n",
       "      <th>9</th>\n",
       "      <td>2216002.jpg</td>\n",
       "      <td>8.231457</td>\n",
       "      <td>89.233292</td>\n",
       "      <td>12.535930</td>\n",
       "      <td>0.809263</td>\n",
       "    </tr>\n",
       "    <tr>\n",
       "      <th>10</th>\n",
       "      <td>2376139_R.jpg</td>\n",
       "      <td>4.306173</td>\n",
       "      <td>27.964699</td>\n",
       "      <td>17.575098</td>\n",
       "      <td>0.879657</td>\n",
       "    </tr>\n",
       "    <tr>\n",
       "      <th>11</th>\n",
       "      <td>2815145_L.jpg</td>\n",
       "      <td>7.380009</td>\n",
       "      <td>82.442123</td>\n",
       "      <td>12.879708</td>\n",
       "      <td>0.664469</td>\n",
       "    </tr>\n",
       "    <tr>\n",
       "      <th>12</th>\n",
       "      <td>2815145.jpg</td>\n",
       "      <td>4.630789</td>\n",
       "      <td>52.959854</td>\n",
       "      <td>14.801732</td>\n",
       "      <td>0.630347</td>\n",
       "    </tr>\n",
       "    <tr>\n",
       "      <th>13</th>\n",
       "      <td>2907064_L.jpg</td>\n",
       "      <td>6.099731</td>\n",
       "      <td>52.120926</td>\n",
       "      <td>14.871079</td>\n",
       "      <td>0.828187</td>\n",
       "    </tr>\n",
       "    <tr>\n",
       "      <th>14</th>\n",
       "      <td>2987599.jpg</td>\n",
       "      <td>4.958679</td>\n",
       "      <td>35.652725</td>\n",
       "      <td>16.520273</td>\n",
       "      <td>0.876775</td>\n",
       "    </tr>\n",
       "    <tr>\n",
       "      <th>15</th>\n",
       "      <td>3001867.jpg</td>\n",
       "      <td>2.937129</td>\n",
       "      <td>14.391751</td>\n",
       "      <td>20.460063</td>\n",
       "      <td>0.945999</td>\n",
       "    </tr>\n",
       "    <tr>\n",
       "      <th>16</th>\n",
       "      <td>3167782.jpg</td>\n",
       "      <td>4.809640</td>\n",
       "      <td>54.026276</td>\n",
       "      <td>14.715150</td>\n",
       "      <td>0.745167</td>\n",
       "    </tr>\n",
       "    <tr>\n",
       "      <th>17</th>\n",
       "      <td>3310379.jpg</td>\n",
       "      <td>3.823990</td>\n",
       "      <td>22.226179</td>\n",
       "      <td>18.572552</td>\n",
       "      <td>0.896512</td>\n",
       "    </tr>\n",
       "    <tr>\n",
       "      <th>18</th>\n",
       "      <td>3321454_L.jpg</td>\n",
       "      <td>6.110250</td>\n",
       "      <td>55.953659</td>\n",
       "      <td>14.562915</td>\n",
       "      <td>0.798218</td>\n",
       "    </tr>\n",
       "    <tr>\n",
       "      <th>19</th>\n",
       "      <td>3407174.jpg</td>\n",
       "      <td>3.947876</td>\n",
       "      <td>28.014351</td>\n",
       "      <td>17.567394</td>\n",
       "      <td>0.905325</td>\n",
       "    </tr>\n",
       "    <tr>\n",
       "      <th>20</th>\n",
       "      <td>3602493_L.jpg</td>\n",
       "      <td>6.362323</td>\n",
       "      <td>56.590141</td>\n",
       "      <td>14.513792</td>\n",
       "      <td>0.773348</td>\n",
       "    </tr>\n",
       "    <tr>\n",
       "      <th>21</th>\n",
       "      <td>3602493.jpg</td>\n",
       "      <td>2.752837</td>\n",
       "      <td>12.590117</td>\n",
       "      <td>21.040902</td>\n",
       "      <td>0.946552</td>\n",
       "    </tr>\n",
       "    <tr>\n",
       "      <th>22</th>\n",
       "      <td>3806920.jpg</td>\n",
       "      <td>4.907094</td>\n",
       "      <td>34.302979</td>\n",
       "      <td>16.687882</td>\n",
       "      <td>0.912990</td>\n",
       "    </tr>\n",
       "    <tr>\n",
       "      <th>23</th>\n",
       "      <td>4154541_L.jpg</td>\n",
       "      <td>5.372310</td>\n",
       "      <td>50.139503</td>\n",
       "      <td>15.039400</td>\n",
       "      <td>0.542906</td>\n",
       "    </tr>\n",
       "    <tr>\n",
       "      <th>24</th>\n",
       "      <td>4154541.jpg</td>\n",
       "      <td>6.414634</td>\n",
       "      <td>87.649734</td>\n",
       "      <td>12.613694</td>\n",
       "      <td>0.623383</td>\n",
       "    </tr>\n",
       "    <tr>\n",
       "      <th>25</th>\n",
       "      <td>4475746_R.jpg</td>\n",
       "      <td>4.813229</td>\n",
       "      <td>36.145630</td>\n",
       "      <td>16.460641</td>\n",
       "      <td>0.858212</td>\n",
       "    </tr>\n",
       "    <tr>\n",
       "      <th>26</th>\n",
       "      <td>5012674.jpg</td>\n",
       "      <td>2.865738</td>\n",
       "      <td>14.280957</td>\n",
       "      <td>20.493627</td>\n",
       "      <td>0.951207</td>\n",
       "    </tr>\n",
       "  </tbody>\n",
       "</table>\n",
       "</div>"
      ],
      "text/plain": [
       "               id        MAE         MSE       PSNR      SSIM\n",
       "0     0268212.jpg   4.827416   37.323006  16.321434  0.833019\n",
       "1   0849116_L.jpg   7.683362   90.130806  12.492467  0.682146\n",
       "2   1310627_R.jpg   2.666315   16.721016  19.808573  0.862962\n",
       "3   1342399_L.jpg   2.856591   15.229086  20.214462  0.896091\n",
       "4     1545959.jpg   5.503919   47.207741  15.301068  0.840956\n",
       "5   1935572_L.jpg   3.026304   15.496548  20.138850  0.934757\n",
       "6     1935572.jpg   2.905285   15.385442  20.170100  0.911300\n",
       "7     2099276.jpg   5.075338   47.918243  15.236191  0.676627\n",
       "8   2216002_R.jpg  11.028591  159.692017  10.008367  0.668573\n",
       "9     2216002.jpg   8.231457   89.233292  12.535930  0.809263\n",
       "10  2376139_R.jpg   4.306173   27.964699  17.575098  0.879657\n",
       "11  2815145_L.jpg   7.380009   82.442123  12.879708  0.664469\n",
       "12    2815145.jpg   4.630789   52.959854  14.801732  0.630347\n",
       "13  2907064_L.jpg   6.099731   52.120926  14.871079  0.828187\n",
       "14    2987599.jpg   4.958679   35.652725  16.520273  0.876775\n",
       "15    3001867.jpg   2.937129   14.391751  20.460063  0.945999\n",
       "16    3167782.jpg   4.809640   54.026276  14.715150  0.745167\n",
       "17    3310379.jpg   3.823990   22.226179  18.572552  0.896512\n",
       "18  3321454_L.jpg   6.110250   55.953659  14.562915  0.798218\n",
       "19    3407174.jpg   3.947876   28.014351  17.567394  0.905325\n",
       "20  3602493_L.jpg   6.362323   56.590141  14.513792  0.773348\n",
       "21    3602493.jpg   2.752837   12.590117  21.040902  0.946552\n",
       "22    3806920.jpg   4.907094   34.302979  16.687882  0.912990\n",
       "23  4154541_L.jpg   5.372310   50.139503  15.039400  0.542906\n",
       "24    4154541.jpg   6.414634   87.649734  12.613694  0.623383\n",
       "25  4475746_R.jpg   4.813229   36.145630  16.460641  0.858212\n",
       "26    5012674.jpg   2.865738   14.280957  20.493627  0.951207"
      ]
     },
     "execution_count": 29,
     "metadata": {},
     "output_type": "execute_result"
    }
   ],
   "source": [
    "met_df"
   ]
  },
  {
   "cell_type": "code",
   "execution_count": 30,
   "id": "220509d8",
   "metadata": {},
   "outputs": [
    {
     "data": {
      "image/png": "[encoded data removed]",
      "text/plain": [
       "<Figure size 432x288 with 1 Axes>"
      ]
     },
     "metadata": {
      "needs_background": "light"
     },
     "output_type": "display_data"
    }
   ],
   "source": [
    "\"\"\"SSIM高 PSNR高 符合常理\n",
    "    [TODO]但在PSNR為13,15區間時，MSE變動範圍較大，？\n",
    "\"\"\"\n",
    "met_df.plot(x = 'PSNR', y = \"SSIM\" , kind = 'scatter')\n",
    "plt.title(\"PSNR vs SSIM\")\n",
    "plt.show()"
   ]
  },
  {
   "cell_type": "code",
   "execution_count": 31,
   "id": "842ec782",
   "metadata": {},
   "outputs": [
    {
     "data": {
      "image/png": "[encoded data removed]",
      "text/plain": [
       "<Figure size 432x288 with 1 Axes>"
      ]
     },
     "metadata": {
      "needs_background": "light"
     },
     "output_type": "display_data"
    }
   ],
   "source": [
    "\"\"\"MSE小 PSNR高 符合常理\n",
    "\"\"\"\n",
    "met_df.plot(x = 'PSNR', y = \"MSE\" , kind = 'scatter')\n",
    "plt.title(\"PSNR vs MSE\")\n",
    "plt.show()"
   ]
  },
  {
   "cell_type": "code",
   "execution_count": 32,
   "id": "e395975a",
   "metadata": {},
   "outputs": [
    {
     "data": {
      "image/png": "[encoded data removed]",
      "text/plain": [
       "<Figure size 432x288 with 1 Axes>"
      ]
     },
     "metadata": {
      "needs_background": "light"
     },
     "output_type": "display_data"
    }
   ],
   "source": [
    "\"\"\"MAE 與 MSE 為 正比例關係 符合常理\n",
    "\"\"\"\n",
    "met_df.plot(x = 'MAE', y = \"MSE\" , kind = 'scatter')\n",
    "plt.title(\"MAE vs MSE\")\n",
    "plt.show()"
   ]
  },
  {
   "cell_type": "code",
   "execution_count": 33,
   "id": "9721e44f",
   "metadata": {},
   "outputs": [
    {
     "data": {
      "image/png": "[encoded data removed]",
      "text/plain": [
       "<Figure size 432x288 with 1 Axes>"
      ]
     },
     "metadata": {
      "needs_background": "light"
     },
     "output_type": "display_data"
    }
   ],
   "source": [
    "\"\"\"MAE 與 MSE 為 正比例關係 符合常理\n",
    "\"\"\"\n",
    "met_df.plot(x = 'MSE', y = \"MAE\" , kind = 'scatter')\n",
    "plt.title(\"MSE vs MAE\")\n",
    "plt.show()"
   ]
  },
  {
   "cell_type": "markdown",
   "id": "3696cd13",
   "metadata": {},
   "source": [
    "#### [TODO]\n",
    "    "
   ]
  },
  {
   "cell_type": "code",
   "execution_count": 34,
   "id": "99cf0ef3",
   "metadata": {},
   "outputs": [
    {
     "data": {
      "image/png": "[encoded data removed]",
      "text/plain": [
       "<Figure size 432x288 with 1 Axes>"
      ]
     },
     "metadata": {
      "needs_background": "light"
     },
     "output_type": "display_data"
    }
   ],
   "source": [
    "\"\"\"SSIM高 MSE低 符合常理\n",
    "    [TODO]但在MSE為50區間時，SSIM變動範圍較大，？\n",
    "\"\"\"\n",
    "met_df.plot(x = 'MSE', y = \"SSIM\" , kind = 'scatter')\n",
    "plt.title(\"SSIM vs MSE\")\n",
    "plt.show()"
   ]
  },
  {
   "cell_type": "code",
   "execution_count": 35,
   "id": "b5a6cdb7",
   "metadata": {},
   "outputs": [
    {
     "data": {
      "image/png": "[encoded data removed]",
      "text/plain": [
       "<Figure size 432x288 with 1 Axes>"
      ]
     },
     "metadata": {
      "needs_background": "light"
     },
     "output_type": "display_data"
    }
   ],
   "source": [
    "\"\"\"SSIM高 MSE低 符合常理\n",
    "\"\"\"\n",
    "met_df.plot(x = 'SSIM', y = \"MSE\" , kind = 'scatter')\n",
    "plt.title(\"SSIM vs MSE\")\n",
    "plt.show()"
   ]
  },
  {
   "cell_type": "code",
   "execution_count": 36,
   "id": "44b60754",
   "metadata": {},
   "outputs": [
    {
     "data": {
      "image/png": "[encoded data removed]",
      "text/plain": [
       "<Figure size 432x288 with 1 Axes>"
      ]
     },
     "metadata": {
      "needs_background": "light"
     },
     "output_type": "display_data"
    }
   ],
   "source": [
    "\"\"\"SSIM高 MAE低 符合常理\n",
    "\"\"\"\n",
    "met_df.plot(x = 'MAE', y = \"SSIM\" , kind = 'scatter')\n",
    "plt.title(\"SSIM vs MAE\")\n",
    "plt.show()"
   ]
  },
  {
   "cell_type": "code",
   "execution_count": 37,
   "id": "2dc71b80",
   "metadata": {},
   "outputs": [
    {
     "data": {
      "image/png": "[encoded data removed]",
      "text/plain": [
       "<Figure size 432x288 with 1 Axes>"
      ]
     },
     "metadata": {
      "needs_background": "light"
     },
     "output_type": "display_data"
    }
   ],
   "source": [
    "\"\"\"SSIM高 MAE低 符合常理\n",
    "\"\"\"\n",
    "met_df.plot(x = 'SSIM', y = \"MAE\" , kind = 'scatter')\n",
    "plt.title(\"SSIM vs MAE\")\n",
    "plt.show()"
   ]
  },
  {
   "cell_type": "code",
   "execution_count": null,
   "id": "baedc65d",
   "metadata": {},
   "outputs": [],
   "source": []
  },
  {
   "cell_type": "code",
   "execution_count": null,
   "id": "572596b6",
   "metadata": {},
   "outputs": [],
   "source": []
  },
  {
   "cell_type": "code",
   "execution_count": null,
   "id": "048799a9",
   "metadata": {},
   "outputs": [],
   "source": []
  },
  {
   "cell_type": "code",
   "execution_count": null,
   "id": "17fa0974",
   "metadata": {},
   "outputs": [],
   "source": []
  },
  {
   "cell_type": "code",
   "execution_count": null,
   "id": "d9f5b17f",
   "metadata": {},
   "outputs": [],
   "source": []
  }
 ],
 "metadata": {
  "kernelspec": {
   "display_name": "Python 3 (ipykernel)",
   "language": "python",
   "name": "python3"
  },
  "language_info": {
   "codemirror_mode": {
    "name": "ipython",
    "version": 3
   },
   "file_extension": ".py",
   "mimetype": "text/x-python",
   "name": "python",
   "nbconvert_exporter": "python",
   "pygments_lexer": "ipython3",
   "version": "3.8.10"
  }
 },
 "nbformat": 4,
 "nbformat_minor": 5
}
